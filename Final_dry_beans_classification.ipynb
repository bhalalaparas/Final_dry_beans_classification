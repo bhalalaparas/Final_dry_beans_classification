{
  "cells": [
    {
      "cell_type": "code",
      "execution_count": null,
      "metadata": {
        "colab": {
          "base_uri": "https://localhost:8080/"
        },
        "id": "S-iuzfS-szEN",
        "outputId": "123e0120-a1aa-4b82-9c73-cbb7c7da6044"
      },
      "outputs": [
        {
          "output_type": "stream",
          "name": "stdout",
          "text": [
            "Dry_Bean_Dataset.xlsx  model.png  predictions.csv  sample_data\n"
          ]
        }
      ],
      "source": [
        "!ls"
      ]
    },
    {
      "cell_type": "code",
      "execution_count": null,
      "metadata": {
        "id": "s2NLunYAtDpb"
      },
      "outputs": [],
      "source": [
        "import pandas as pd # Import the pandas library\n",
        "import matplotlib.pyplot as plt # Import the matplotlib for data visulation\n",
        "import seaborn as sns\n",
        "import numpy as np"
      ]
    },
    {
      "cell_type": "code",
      "execution_count": null,
      "metadata": {
        "id": "10uFsxHttGCb"
      },
      "outputs": [],
      "source": [
        "# Use the pands `read_excel()` method to read an Excel file named \"Dry_Bean_Dataset.xlsx\" and read the data from the sheet named with \"Dry_Beans_Dataset\"\n",
        "\n",
        "df = pd.read_excel('Dry_Bean_Dataset.xlsx', sheet_name='Dry_Beans_Dataset') # Store the resulting data in a pandas DataFrame object named `df`\n"
      ]
    },
    {
      "cell_type": "code",
      "execution_count": null,
      "metadata": {
        "colab": {
          "base_uri": "https://localhost:8080/",
          "height": 488
        },
        "id": "VPycouAAtIPD",
        "outputId": "ba6ce2f9-0c89-462d-c43f-93c749a13f36"
      },
      "outputs": [
        {
          "output_type": "execute_result",
          "data": {
            "text/plain": [
              "        Area  Perimeter  MajorAxisLength  MinorAxisLength  AspectRation  \\\n",
              "0      28395    610.291       208.178117       173.888747      1.197191   \n",
              "1      28734    638.018       200.524796       182.734419      1.097356   \n",
              "2      29380    624.110       212.826130       175.931143      1.209713   \n",
              "3      30008    645.884       210.557999       182.516516      1.153638   \n",
              "4      30140    620.134       201.847882       190.279279      1.060798   \n",
              "...      ...        ...              ...              ...           ...   \n",
              "13606  42097    759.696       288.721612       185.944705      1.552728   \n",
              "13607  42101    757.499       281.576392       190.713136      1.476439   \n",
              "13608  42139    759.321       281.539928       191.187979      1.472582   \n",
              "13609  42147    763.779       283.382636       190.275731      1.489326   \n",
              "13610  42159    772.237       295.142741       182.204716      1.619841   \n",
              "\n",
              "       Eccentricity  ConvexArea  EquivDiameter    Extent  Solidity  roundness  \\\n",
              "0          0.549812       28715     190.141097  0.763923  0.988856   0.958027   \n",
              "1          0.411785       29172     191.272750  0.783968  0.984986   0.887034   \n",
              "2          0.562727       29690     193.410904  0.778113  0.989559   0.947849   \n",
              "3          0.498616       30724     195.467062  0.782681  0.976696   0.903936   \n",
              "4          0.333680       30417     195.896503  0.773098  0.990893   0.984877   \n",
              "...             ...         ...            ...       ...       ...        ...   \n",
              "13606      0.765002       42508     231.515799  0.714574  0.990331   0.916603   \n",
              "13607      0.735702       42494     231.526798  0.799943  0.990752   0.922015   \n",
              "13608      0.734065       42569     231.631261  0.729932  0.989899   0.918424   \n",
              "13609      0.741055       42667     231.653248  0.705389  0.987813   0.907906   \n",
              "13610      0.786693       42600     231.686223  0.788962  0.989648   0.888380   \n",
              "\n",
              "       Compactness  ShapeFactor1  ShapeFactor2  ShapeFactor3  ShapeFactor4  \\\n",
              "0         0.913358      0.007332      0.003147      0.834222      0.998724   \n",
              "1         0.953861      0.006979      0.003564      0.909851      0.998430   \n",
              "2         0.908774      0.007244      0.003048      0.825871      0.999066   \n",
              "3         0.928329      0.007017      0.003215      0.861794      0.994199   \n",
              "4         0.970516      0.006697      0.003665      0.941900      0.999166   \n",
              "...            ...           ...           ...           ...           ...   \n",
              "13606     0.801865      0.006858      0.001749      0.642988      0.998385   \n",
              "13607     0.822252      0.006688      0.001886      0.676099      0.998219   \n",
              "13608     0.822730      0.006681      0.001888      0.676884      0.996767   \n",
              "13609     0.817457      0.006724      0.001852      0.668237      0.995222   \n",
              "13610     0.784997      0.007001      0.001640      0.616221      0.998180   \n",
              "\n",
              "          Class  \n",
              "0         SEKER  \n",
              "1         SEKER  \n",
              "2         SEKER  \n",
              "3         SEKER  \n",
              "4         SEKER  \n",
              "...         ...  \n",
              "13606  DERMASON  \n",
              "13607  DERMASON  \n",
              "13608  DERMASON  \n",
              "13609  DERMASON  \n",
              "13610  DERMASON  \n",
              "\n",
              "[13611 rows x 17 columns]"
            ],
            "text/html": [
              "\n",
              "  <div id=\"df-c11e27ec-b2b4-492e-afa2-4f6034708f17\">\n",
              "    <div class=\"colab-df-container\">\n",
              "      <div>\n",
              "<style scoped>\n",
              "    .dataframe tbody tr th:only-of-type {\n",
              "        vertical-align: middle;\n",
              "    }\n",
              "\n",
              "    .dataframe tbody tr th {\n",
              "        vertical-align: top;\n",
              "    }\n",
              "\n",
              "    .dataframe thead th {\n",
              "        text-align: right;\n",
              "    }\n",
              "</style>\n",
              "<table border=\"1\" class=\"dataframe\">\n",
              "  <thead>\n",
              "    <tr style=\"text-align: right;\">\n",
              "      <th></th>\n",
              "      <th>Area</th>\n",
              "      <th>Perimeter</th>\n",
              "      <th>MajorAxisLength</th>\n",
              "      <th>MinorAxisLength</th>\n",
              "      <th>AspectRation</th>\n",
              "      <th>Eccentricity</th>\n",
              "      <th>ConvexArea</th>\n",
              "      <th>EquivDiameter</th>\n",
              "      <th>Extent</th>\n",
              "      <th>Solidity</th>\n",
              "      <th>roundness</th>\n",
              "      <th>Compactness</th>\n",
              "      <th>ShapeFactor1</th>\n",
              "      <th>ShapeFactor2</th>\n",
              "      <th>ShapeFactor3</th>\n",
              "      <th>ShapeFactor4</th>\n",
              "      <th>Class</th>\n",
              "    </tr>\n",
              "  </thead>\n",
              "  <tbody>\n",
              "    <tr>\n",
              "      <th>0</th>\n",
              "      <td>28395</td>\n",
              "      <td>610.291</td>\n",
              "      <td>208.178117</td>\n",
              "      <td>173.888747</td>\n",
              "      <td>1.197191</td>\n",
              "      <td>0.549812</td>\n",
              "      <td>28715</td>\n",
              "      <td>190.141097</td>\n",
              "      <td>0.763923</td>\n",
              "      <td>0.988856</td>\n",
              "      <td>0.958027</td>\n",
              "      <td>0.913358</td>\n",
              "      <td>0.007332</td>\n",
              "      <td>0.003147</td>\n",
              "      <td>0.834222</td>\n",
              "      <td>0.998724</td>\n",
              "      <td>SEKER</td>\n",
              "    </tr>\n",
              "    <tr>\n",
              "      <th>1</th>\n",
              "      <td>28734</td>\n",
              "      <td>638.018</td>\n",
              "      <td>200.524796</td>\n",
              "      <td>182.734419</td>\n",
              "      <td>1.097356</td>\n",
              "      <td>0.411785</td>\n",
              "      <td>29172</td>\n",
              "      <td>191.272750</td>\n",
              "      <td>0.783968</td>\n",
              "      <td>0.984986</td>\n",
              "      <td>0.887034</td>\n",
              "      <td>0.953861</td>\n",
              "      <td>0.006979</td>\n",
              "      <td>0.003564</td>\n",
              "      <td>0.909851</td>\n",
              "      <td>0.998430</td>\n",
              "      <td>SEKER</td>\n",
              "    </tr>\n",
              "    <tr>\n",
              "      <th>2</th>\n",
              "      <td>29380</td>\n",
              "      <td>624.110</td>\n",
              "      <td>212.826130</td>\n",
              "      <td>175.931143</td>\n",
              "      <td>1.209713</td>\n",
              "      <td>0.562727</td>\n",
              "      <td>29690</td>\n",
              "      <td>193.410904</td>\n",
              "      <td>0.778113</td>\n",
              "      <td>0.989559</td>\n",
              "      <td>0.947849</td>\n",
              "      <td>0.908774</td>\n",
              "      <td>0.007244</td>\n",
              "      <td>0.003048</td>\n",
              "      <td>0.825871</td>\n",
              "      <td>0.999066</td>\n",
              "      <td>SEKER</td>\n",
              "    </tr>\n",
              "    <tr>\n",
              "      <th>3</th>\n",
              "      <td>30008</td>\n",
              "      <td>645.884</td>\n",
              "      <td>210.557999</td>\n",
              "      <td>182.516516</td>\n",
              "      <td>1.153638</td>\n",
              "      <td>0.498616</td>\n",
              "      <td>30724</td>\n",
              "      <td>195.467062</td>\n",
              "      <td>0.782681</td>\n",
              "      <td>0.976696</td>\n",
              "      <td>0.903936</td>\n",
              "      <td>0.928329</td>\n",
              "      <td>0.007017</td>\n",
              "      <td>0.003215</td>\n",
              "      <td>0.861794</td>\n",
              "      <td>0.994199</td>\n",
              "      <td>SEKER</td>\n",
              "    </tr>\n",
              "    <tr>\n",
              "      <th>4</th>\n",
              "      <td>30140</td>\n",
              "      <td>620.134</td>\n",
              "      <td>201.847882</td>\n",
              "      <td>190.279279</td>\n",
              "      <td>1.060798</td>\n",
              "      <td>0.333680</td>\n",
              "      <td>30417</td>\n",
              "      <td>195.896503</td>\n",
              "      <td>0.773098</td>\n",
              "      <td>0.990893</td>\n",
              "      <td>0.984877</td>\n",
              "      <td>0.970516</td>\n",
              "      <td>0.006697</td>\n",
              "      <td>0.003665</td>\n",
              "      <td>0.941900</td>\n",
              "      <td>0.999166</td>\n",
              "      <td>SEKER</td>\n",
              "    </tr>\n",
              "    <tr>\n",
              "      <th>...</th>\n",
              "      <td>...</td>\n",
              "      <td>...</td>\n",
              "      <td>...</td>\n",
              "      <td>...</td>\n",
              "      <td>...</td>\n",
              "      <td>...</td>\n",
              "      <td>...</td>\n",
              "      <td>...</td>\n",
              "      <td>...</td>\n",
              "      <td>...</td>\n",
              "      <td>...</td>\n",
              "      <td>...</td>\n",
              "      <td>...</td>\n",
              "      <td>...</td>\n",
              "      <td>...</td>\n",
              "      <td>...</td>\n",
              "      <td>...</td>\n",
              "    </tr>\n",
              "    <tr>\n",
              "      <th>13606</th>\n",
              "      <td>42097</td>\n",
              "      <td>759.696</td>\n",
              "      <td>288.721612</td>\n",
              "      <td>185.944705</td>\n",
              "      <td>1.552728</td>\n",
              "      <td>0.765002</td>\n",
              "      <td>42508</td>\n",
              "      <td>231.515799</td>\n",
              "      <td>0.714574</td>\n",
              "      <td>0.990331</td>\n",
              "      <td>0.916603</td>\n",
              "      <td>0.801865</td>\n",
              "      <td>0.006858</td>\n",
              "      <td>0.001749</td>\n",
              "      <td>0.642988</td>\n",
              "      <td>0.998385</td>\n",
              "      <td>DERMASON</td>\n",
              "    </tr>\n",
              "    <tr>\n",
              "      <th>13607</th>\n",
              "      <td>42101</td>\n",
              "      <td>757.499</td>\n",
              "      <td>281.576392</td>\n",
              "      <td>190.713136</td>\n",
              "      <td>1.476439</td>\n",
              "      <td>0.735702</td>\n",
              "      <td>42494</td>\n",
              "      <td>231.526798</td>\n",
              "      <td>0.799943</td>\n",
              "      <td>0.990752</td>\n",
              "      <td>0.922015</td>\n",
              "      <td>0.822252</td>\n",
              "      <td>0.006688</td>\n",
              "      <td>0.001886</td>\n",
              "      <td>0.676099</td>\n",
              "      <td>0.998219</td>\n",
              "      <td>DERMASON</td>\n",
              "    </tr>\n",
              "    <tr>\n",
              "      <th>13608</th>\n",
              "      <td>42139</td>\n",
              "      <td>759.321</td>\n",
              "      <td>281.539928</td>\n",
              "      <td>191.187979</td>\n",
              "      <td>1.472582</td>\n",
              "      <td>0.734065</td>\n",
              "      <td>42569</td>\n",
              "      <td>231.631261</td>\n",
              "      <td>0.729932</td>\n",
              "      <td>0.989899</td>\n",
              "      <td>0.918424</td>\n",
              "      <td>0.822730</td>\n",
              "      <td>0.006681</td>\n",
              "      <td>0.001888</td>\n",
              "      <td>0.676884</td>\n",
              "      <td>0.996767</td>\n",
              "      <td>DERMASON</td>\n",
              "    </tr>\n",
              "    <tr>\n",
              "      <th>13609</th>\n",
              "      <td>42147</td>\n",
              "      <td>763.779</td>\n",
              "      <td>283.382636</td>\n",
              "      <td>190.275731</td>\n",
              "      <td>1.489326</td>\n",
              "      <td>0.741055</td>\n",
              "      <td>42667</td>\n",
              "      <td>231.653248</td>\n",
              "      <td>0.705389</td>\n",
              "      <td>0.987813</td>\n",
              "      <td>0.907906</td>\n",
              "      <td>0.817457</td>\n",
              "      <td>0.006724</td>\n",
              "      <td>0.001852</td>\n",
              "      <td>0.668237</td>\n",
              "      <td>0.995222</td>\n",
              "      <td>DERMASON</td>\n",
              "    </tr>\n",
              "    <tr>\n",
              "      <th>13610</th>\n",
              "      <td>42159</td>\n",
              "      <td>772.237</td>\n",
              "      <td>295.142741</td>\n",
              "      <td>182.204716</td>\n",
              "      <td>1.619841</td>\n",
              "      <td>0.786693</td>\n",
              "      <td>42600</td>\n",
              "      <td>231.686223</td>\n",
              "      <td>0.788962</td>\n",
              "      <td>0.989648</td>\n",
              "      <td>0.888380</td>\n",
              "      <td>0.784997</td>\n",
              "      <td>0.007001</td>\n",
              "      <td>0.001640</td>\n",
              "      <td>0.616221</td>\n",
              "      <td>0.998180</td>\n",
              "      <td>DERMASON</td>\n",
              "    </tr>\n",
              "  </tbody>\n",
              "</table>\n",
              "<p>13611 rows × 17 columns</p>\n",
              "</div>\n",
              "      <button class=\"colab-df-convert\" onclick=\"convertToInteractive('df-c11e27ec-b2b4-492e-afa2-4f6034708f17')\"\n",
              "              title=\"Convert this dataframe to an interactive table.\"\n",
              "              style=\"display:none;\">\n",
              "        \n",
              "  <svg xmlns=\"http://www.w3.org/2000/svg\" height=\"24px\"viewBox=\"0 0 24 24\"\n",
              "       width=\"24px\">\n",
              "    <path d=\"M0 0h24v24H0V0z\" fill=\"none\"/>\n",
              "    <path d=\"M18.56 5.44l.94 2.06.94-2.06 2.06-.94-2.06-.94-.94-2.06-.94 2.06-2.06.94zm-11 1L8.5 8.5l.94-2.06 2.06-.94-2.06-.94L8.5 2.5l-.94 2.06-2.06.94zm10 10l.94 2.06.94-2.06 2.06-.94-2.06-.94-.94-2.06-.94 2.06-2.06.94z\"/><path d=\"M17.41 7.96l-1.37-1.37c-.4-.4-.92-.59-1.43-.59-.52 0-1.04.2-1.43.59L10.3 9.45l-7.72 7.72c-.78.78-.78 2.05 0 2.83L4 21.41c.39.39.9.59 1.41.59.51 0 1.02-.2 1.41-.59l7.78-7.78 2.81-2.81c.8-.78.8-2.07 0-2.86zM5.41 20L4 18.59l7.72-7.72 1.47 1.35L5.41 20z\"/>\n",
              "  </svg>\n",
              "      </button>\n",
              "      \n",
              "  <style>\n",
              "    .colab-df-container {\n",
              "      display:flex;\n",
              "      flex-wrap:wrap;\n",
              "      gap: 12px;\n",
              "    }\n",
              "\n",
              "    .colab-df-convert {\n",
              "      background-color: #E8F0FE;\n",
              "      border: none;\n",
              "      border-radius: 50%;\n",
              "      cursor: pointer;\n",
              "      display: none;\n",
              "      fill: #1967D2;\n",
              "      height: 32px;\n",
              "      padding: 0 0 0 0;\n",
              "      width: 32px;\n",
              "    }\n",
              "\n",
              "    .colab-df-convert:hover {\n",
              "      background-color: #E2EBFA;\n",
              "      box-shadow: 0px 1px 2px rgba(60, 64, 67, 0.3), 0px 1px 3px 1px rgba(60, 64, 67, 0.15);\n",
              "      fill: #174EA6;\n",
              "    }\n",
              "\n",
              "    [theme=dark] .colab-df-convert {\n",
              "      background-color: #3B4455;\n",
              "      fill: #D2E3FC;\n",
              "    }\n",
              "\n",
              "    [theme=dark] .colab-df-convert:hover {\n",
              "      background-color: #434B5C;\n",
              "      box-shadow: 0px 1px 3px 1px rgba(0, 0, 0, 0.15);\n",
              "      filter: drop-shadow(0px 1px 2px rgba(0, 0, 0, 0.3));\n",
              "      fill: #FFFFFF;\n",
              "    }\n",
              "  </style>\n",
              "\n",
              "      <script>\n",
              "        const buttonEl =\n",
              "          document.querySelector('#df-c11e27ec-b2b4-492e-afa2-4f6034708f17 button.colab-df-convert');\n",
              "        buttonEl.style.display =\n",
              "          google.colab.kernel.accessAllowed ? 'block' : 'none';\n",
              "\n",
              "        async function convertToInteractive(key) {\n",
              "          const element = document.querySelector('#df-c11e27ec-b2b4-492e-afa2-4f6034708f17');\n",
              "          const dataTable =\n",
              "            await google.colab.kernel.invokeFunction('convertToInteractive',\n",
              "                                                     [key], {});\n",
              "          if (!dataTable) return;\n",
              "\n",
              "          const docLinkHtml = 'Like what you see? Visit the ' +\n",
              "            '<a target=\"_blank\" href=https://colab.research.google.com/notebooks/data_table.ipynb>data table notebook</a>'\n",
              "            + ' to learn more about interactive tables.';\n",
              "          element.innerHTML = '';\n",
              "          dataTable['output_type'] = 'display_data';\n",
              "          await google.colab.output.renderOutput(dataTable, element);\n",
              "          const docLink = document.createElement('div');\n",
              "          docLink.innerHTML = docLinkHtml;\n",
              "          element.appendChild(docLink);\n",
              "        }\n",
              "      </script>\n",
              "    </div>\n",
              "  </div>\n",
              "  "
            ]
          },
          "metadata": {},
          "execution_count": 4
        }
      ],
      "source": [
        "df"
      ]
    },
    {
      "cell_type": "code",
      "execution_count": null,
      "metadata": {
        "colab": {
          "base_uri": "https://localhost:8080/",
          "height": 270
        },
        "id": "tx5O4EE_tMHZ",
        "outputId": "825f9422-c122-402d-d975-ecc7b5f76274"
      },
      "outputs": [
        {
          "output_type": "execute_result",
          "data": {
            "text/plain": [
              "    Area  Perimeter  MajorAxisLength  MinorAxisLength  AspectRation  \\\n",
              "0  28395    610.291       208.178117       173.888747      1.197191   \n",
              "1  28734    638.018       200.524796       182.734419      1.097356   \n",
              "2  29380    624.110       212.826130       175.931143      1.209713   \n",
              "3  30008    645.884       210.557999       182.516516      1.153638   \n",
              "4  30140    620.134       201.847882       190.279279      1.060798   \n",
              "\n",
              "   Eccentricity  ConvexArea  EquivDiameter    Extent  Solidity  roundness  \\\n",
              "0      0.549812       28715     190.141097  0.763923  0.988856   0.958027   \n",
              "1      0.411785       29172     191.272750  0.783968  0.984986   0.887034   \n",
              "2      0.562727       29690     193.410904  0.778113  0.989559   0.947849   \n",
              "3      0.498616       30724     195.467062  0.782681  0.976696   0.903936   \n",
              "4      0.333680       30417     195.896503  0.773098  0.990893   0.984877   \n",
              "\n",
              "   Compactness  ShapeFactor1  ShapeFactor2  ShapeFactor3  ShapeFactor4  Class  \n",
              "0     0.913358      0.007332      0.003147      0.834222      0.998724  SEKER  \n",
              "1     0.953861      0.006979      0.003564      0.909851      0.998430  SEKER  \n",
              "2     0.908774      0.007244      0.003048      0.825871      0.999066  SEKER  \n",
              "3     0.928329      0.007017      0.003215      0.861794      0.994199  SEKER  \n",
              "4     0.970516      0.006697      0.003665      0.941900      0.999166  SEKER  "
            ],
            "text/html": [
              "\n",
              "  <div id=\"df-92cd2a19-5ec2-4274-98be-e653758b17b5\">\n",
              "    <div class=\"colab-df-container\">\n",
              "      <div>\n",
              "<style scoped>\n",
              "    .dataframe tbody tr th:only-of-type {\n",
              "        vertical-align: middle;\n",
              "    }\n",
              "\n",
              "    .dataframe tbody tr th {\n",
              "        vertical-align: top;\n",
              "    }\n",
              "\n",
              "    .dataframe thead th {\n",
              "        text-align: right;\n",
              "    }\n",
              "</style>\n",
              "<table border=\"1\" class=\"dataframe\">\n",
              "  <thead>\n",
              "    <tr style=\"text-align: right;\">\n",
              "      <th></th>\n",
              "      <th>Area</th>\n",
              "      <th>Perimeter</th>\n",
              "      <th>MajorAxisLength</th>\n",
              "      <th>MinorAxisLength</th>\n",
              "      <th>AspectRation</th>\n",
              "      <th>Eccentricity</th>\n",
              "      <th>ConvexArea</th>\n",
              "      <th>EquivDiameter</th>\n",
              "      <th>Extent</th>\n",
              "      <th>Solidity</th>\n",
              "      <th>roundness</th>\n",
              "      <th>Compactness</th>\n",
              "      <th>ShapeFactor1</th>\n",
              "      <th>ShapeFactor2</th>\n",
              "      <th>ShapeFactor3</th>\n",
              "      <th>ShapeFactor4</th>\n",
              "      <th>Class</th>\n",
              "    </tr>\n",
              "  </thead>\n",
              "  <tbody>\n",
              "    <tr>\n",
              "      <th>0</th>\n",
              "      <td>28395</td>\n",
              "      <td>610.291</td>\n",
              "      <td>208.178117</td>\n",
              "      <td>173.888747</td>\n",
              "      <td>1.197191</td>\n",
              "      <td>0.549812</td>\n",
              "      <td>28715</td>\n",
              "      <td>190.141097</td>\n",
              "      <td>0.763923</td>\n",
              "      <td>0.988856</td>\n",
              "      <td>0.958027</td>\n",
              "      <td>0.913358</td>\n",
              "      <td>0.007332</td>\n",
              "      <td>0.003147</td>\n",
              "      <td>0.834222</td>\n",
              "      <td>0.998724</td>\n",
              "      <td>SEKER</td>\n",
              "    </tr>\n",
              "    <tr>\n",
              "      <th>1</th>\n",
              "      <td>28734</td>\n",
              "      <td>638.018</td>\n",
              "      <td>200.524796</td>\n",
              "      <td>182.734419</td>\n",
              "      <td>1.097356</td>\n",
              "      <td>0.411785</td>\n",
              "      <td>29172</td>\n",
              "      <td>191.272750</td>\n",
              "      <td>0.783968</td>\n",
              "      <td>0.984986</td>\n",
              "      <td>0.887034</td>\n",
              "      <td>0.953861</td>\n",
              "      <td>0.006979</td>\n",
              "      <td>0.003564</td>\n",
              "      <td>0.909851</td>\n",
              "      <td>0.998430</td>\n",
              "      <td>SEKER</td>\n",
              "    </tr>\n",
              "    <tr>\n",
              "      <th>2</th>\n",
              "      <td>29380</td>\n",
              "      <td>624.110</td>\n",
              "      <td>212.826130</td>\n",
              "      <td>175.931143</td>\n",
              "      <td>1.209713</td>\n",
              "      <td>0.562727</td>\n",
              "      <td>29690</td>\n",
              "      <td>193.410904</td>\n",
              "      <td>0.778113</td>\n",
              "      <td>0.989559</td>\n",
              "      <td>0.947849</td>\n",
              "      <td>0.908774</td>\n",
              "      <td>0.007244</td>\n",
              "      <td>0.003048</td>\n",
              "      <td>0.825871</td>\n",
              "      <td>0.999066</td>\n",
              "      <td>SEKER</td>\n",
              "    </tr>\n",
              "    <tr>\n",
              "      <th>3</th>\n",
              "      <td>30008</td>\n",
              "      <td>645.884</td>\n",
              "      <td>210.557999</td>\n",
              "      <td>182.516516</td>\n",
              "      <td>1.153638</td>\n",
              "      <td>0.498616</td>\n",
              "      <td>30724</td>\n",
              "      <td>195.467062</td>\n",
              "      <td>0.782681</td>\n",
              "      <td>0.976696</td>\n",
              "      <td>0.903936</td>\n",
              "      <td>0.928329</td>\n",
              "      <td>0.007017</td>\n",
              "      <td>0.003215</td>\n",
              "      <td>0.861794</td>\n",
              "      <td>0.994199</td>\n",
              "      <td>SEKER</td>\n",
              "    </tr>\n",
              "    <tr>\n",
              "      <th>4</th>\n",
              "      <td>30140</td>\n",
              "      <td>620.134</td>\n",
              "      <td>201.847882</td>\n",
              "      <td>190.279279</td>\n",
              "      <td>1.060798</td>\n",
              "      <td>0.333680</td>\n",
              "      <td>30417</td>\n",
              "      <td>195.896503</td>\n",
              "      <td>0.773098</td>\n",
              "      <td>0.990893</td>\n",
              "      <td>0.984877</td>\n",
              "      <td>0.970516</td>\n",
              "      <td>0.006697</td>\n",
              "      <td>0.003665</td>\n",
              "      <td>0.941900</td>\n",
              "      <td>0.999166</td>\n",
              "      <td>SEKER</td>\n",
              "    </tr>\n",
              "  </tbody>\n",
              "</table>\n",
              "</div>\n",
              "      <button class=\"colab-df-convert\" onclick=\"convertToInteractive('df-92cd2a19-5ec2-4274-98be-e653758b17b5')\"\n",
              "              title=\"Convert this dataframe to an interactive table.\"\n",
              "              style=\"display:none;\">\n",
              "        \n",
              "  <svg xmlns=\"http://www.w3.org/2000/svg\" height=\"24px\"viewBox=\"0 0 24 24\"\n",
              "       width=\"24px\">\n",
              "    <path d=\"M0 0h24v24H0V0z\" fill=\"none\"/>\n",
              "    <path d=\"M18.56 5.44l.94 2.06.94-2.06 2.06-.94-2.06-.94-.94-2.06-.94 2.06-2.06.94zm-11 1L8.5 8.5l.94-2.06 2.06-.94-2.06-.94L8.5 2.5l-.94 2.06-2.06.94zm10 10l.94 2.06.94-2.06 2.06-.94-2.06-.94-.94-2.06-.94 2.06-2.06.94z\"/><path d=\"M17.41 7.96l-1.37-1.37c-.4-.4-.92-.59-1.43-.59-.52 0-1.04.2-1.43.59L10.3 9.45l-7.72 7.72c-.78.78-.78 2.05 0 2.83L4 21.41c.39.39.9.59 1.41.59.51 0 1.02-.2 1.41-.59l7.78-7.78 2.81-2.81c.8-.78.8-2.07 0-2.86zM5.41 20L4 18.59l7.72-7.72 1.47 1.35L5.41 20z\"/>\n",
              "  </svg>\n",
              "      </button>\n",
              "      \n",
              "  <style>\n",
              "    .colab-df-container {\n",
              "      display:flex;\n",
              "      flex-wrap:wrap;\n",
              "      gap: 12px;\n",
              "    }\n",
              "\n",
              "    .colab-df-convert {\n",
              "      background-color: #E8F0FE;\n",
              "      border: none;\n",
              "      border-radius: 50%;\n",
              "      cursor: pointer;\n",
              "      display: none;\n",
              "      fill: #1967D2;\n",
              "      height: 32px;\n",
              "      padding: 0 0 0 0;\n",
              "      width: 32px;\n",
              "    }\n",
              "\n",
              "    .colab-df-convert:hover {\n",
              "      background-color: #E2EBFA;\n",
              "      box-shadow: 0px 1px 2px rgba(60, 64, 67, 0.3), 0px 1px 3px 1px rgba(60, 64, 67, 0.15);\n",
              "      fill: #174EA6;\n",
              "    }\n",
              "\n",
              "    [theme=dark] .colab-df-convert {\n",
              "      background-color: #3B4455;\n",
              "      fill: #D2E3FC;\n",
              "    }\n",
              "\n",
              "    [theme=dark] .colab-df-convert:hover {\n",
              "      background-color: #434B5C;\n",
              "      box-shadow: 0px 1px 3px 1px rgba(0, 0, 0, 0.15);\n",
              "      filter: drop-shadow(0px 1px 2px rgba(0, 0, 0, 0.3));\n",
              "      fill: #FFFFFF;\n",
              "    }\n",
              "  </style>\n",
              "\n",
              "      <script>\n",
              "        const buttonEl =\n",
              "          document.querySelector('#df-92cd2a19-5ec2-4274-98be-e653758b17b5 button.colab-df-convert');\n",
              "        buttonEl.style.display =\n",
              "          google.colab.kernel.accessAllowed ? 'block' : 'none';\n",
              "\n",
              "        async function convertToInteractive(key) {\n",
              "          const element = document.querySelector('#df-92cd2a19-5ec2-4274-98be-e653758b17b5');\n",
              "          const dataTable =\n",
              "            await google.colab.kernel.invokeFunction('convertToInteractive',\n",
              "                                                     [key], {});\n",
              "          if (!dataTable) return;\n",
              "\n",
              "          const docLinkHtml = 'Like what you see? Visit the ' +\n",
              "            '<a target=\"_blank\" href=https://colab.research.google.com/notebooks/data_table.ipynb>data table notebook</a>'\n",
              "            + ' to learn more about interactive tables.';\n",
              "          element.innerHTML = '';\n",
              "          dataTable['output_type'] = 'display_data';\n",
              "          await google.colab.output.renderOutput(dataTable, element);\n",
              "          const docLink = document.createElement('div');\n",
              "          docLink.innerHTML = docLinkHtml;\n",
              "          element.appendChild(docLink);\n",
              "        }\n",
              "      </script>\n",
              "    </div>\n",
              "  </div>\n",
              "  "
            ]
          },
          "metadata": {},
          "execution_count": 5
        }
      ],
      "source": [
        "# Use the pandas `head()` method to display the first 5 rows of data from the DataFrame `df`\n",
        "\n",
        "df.head()"
      ]
    },
    {
      "cell_type": "code",
      "execution_count": null,
      "metadata": {
        "id": "VThZAJQStN5Y"
      },
      "outputs": [],
      "source": [
        "# Count the number of occurrences of each class\n",
        "class_counts = df['Class'].value_counts()\n"
      ]
    },
    {
      "cell_type": "code",
      "execution_count": null,
      "metadata": {
        "colab": {
          "base_uri": "https://localhost:8080/",
          "height": 538
        },
        "id": "SO6Z2TKCuQHB",
        "outputId": "b9ac15fd-5b8a-418b-ab74-c4a0ab4a6dc4"
      },
      "outputs": [
        {
          "output_type": "display_data",
          "data": {
            "text/plain": [
              "<Figure size 640x480 with 1 Axes>"
            ],
            "image/png": "[encoded data removed]"
          },
          "metadata": {}
        }
      ],
      "source": [
        "# Plot the result in a bar graph\n",
        "class_counts.plot(kind='bar')\n",
        "plt.title('Class Counts')\n",
        "plt.xlabel('Class')\n",
        "plt.ylabel('Count')\n",
        "plt.show()"
      ]
    },
    {
      "cell_type": "code",
      "execution_count": null,
      "metadata": {
        "colab": {
          "base_uri": "https://localhost:8080/",
          "height": 270
        },
        "id": "sNBy21sZuSSh",
        "outputId": "1815a2a4-afab-4e08-c677-c37ab8833f83"
      },
      "outputs": [
        {
          "output_type": "execute_result",
          "data": {
            "text/plain": [
              "    Area  Perimeter  MajorAxisLength  MinorAxisLength  AspectRation  \\\n",
              "0  28395    610.291       208.178117       173.888747      1.197191   \n",
              "1  28734    638.018       200.524796       182.734419      1.097356   \n",
              "2  29380    624.110       212.826130       175.931143      1.209713   \n",
              "3  30008    645.884       210.557999       182.516516      1.153638   \n",
              "4  30140    620.134       201.847882       190.279279      1.060798   \n",
              "\n",
              "   Eccentricity  ConvexArea  EquivDiameter    Extent  Solidity  roundness  \\\n",
              "0      0.549812       28715     190.141097  0.763923  0.988856   0.958027   \n",
              "1      0.411785       29172     191.272750  0.783968  0.984986   0.887034   \n",
              "2      0.562727       29690     193.410904  0.778113  0.989559   0.947849   \n",
              "3      0.498616       30724     195.467062  0.782681  0.976696   0.903936   \n",
              "4      0.333680       30417     195.896503  0.773098  0.990893   0.984877   \n",
              "\n",
              "   Compactness  ShapeFactor1  ShapeFactor2  ShapeFactor3  ShapeFactor4  Class  \n",
              "0     0.913358      0.007332      0.003147      0.834222      0.998724  SEKER  \n",
              "1     0.953861      0.006979      0.003564      0.909851      0.998430  SEKER  \n",
              "2     0.908774      0.007244      0.003048      0.825871      0.999066  SEKER  \n",
              "3     0.928329      0.007017      0.003215      0.861794      0.994199  SEKER  \n",
              "4     0.970516      0.006697      0.003665      0.941900      0.999166  SEKER  "
            ],
            "text/html": [
              "\n",
              "  <div id=\"df-5fd03964-a70b-4848-a937-a291eec12c65\">\n",
              "    <div class=\"colab-df-container\">\n",
              "      <div>\n",
              "<style scoped>\n",
              "    .dataframe tbody tr th:only-of-type {\n",
              "        vertical-align: middle;\n",
              "    }\n",
              "\n",
              "    .dataframe tbody tr th {\n",
              "        vertical-align: top;\n",
              "    }\n",
              "\n",
              "    .dataframe thead th {\n",
              "        text-align: right;\n",
              "    }\n",
              "</style>\n",
              "<table border=\"1\" class=\"dataframe\">\n",
              "  <thead>\n",
              "    <tr style=\"text-align: right;\">\n",
              "      <th></th>\n",
              "      <th>Area</th>\n",
              "      <th>Perimeter</th>\n",
              "      <th>MajorAxisLength</th>\n",
              "      <th>MinorAxisLength</th>\n",
              "      <th>AspectRation</th>\n",
              "      <th>Eccentricity</th>\n",
              "      <th>ConvexArea</th>\n",
              "      <th>EquivDiameter</th>\n",
              "      <th>Extent</th>\n",
              "      <th>Solidity</th>\n",
              "      <th>roundness</th>\n",
              "      <th>Compactness</th>\n",
              "      <th>ShapeFactor1</th>\n",
              "      <th>ShapeFactor2</th>\n",
              "      <th>ShapeFactor3</th>\n",
              "      <th>ShapeFactor4</th>\n",
              "      <th>Class</th>\n",
              "    </tr>\n",
              "  </thead>\n",
              "  <tbody>\n",
              "    <tr>\n",
              "      <th>0</th>\n",
              "      <td>28395</td>\n",
              "      <td>610.291</td>\n",
              "      <td>208.178117</td>\n",
              "      <td>173.888747</td>\n",
              "      <td>1.197191</td>\n",
              "      <td>0.549812</td>\n",
              "      <td>28715</td>\n",
              "      <td>190.141097</td>\n",
              "      <td>0.763923</td>\n",
              "      <td>0.988856</td>\n",
              "      <td>0.958027</td>\n",
              "      <td>0.913358</td>\n",
              "      <td>0.007332</td>\n",
              "      <td>0.003147</td>\n",
              "      <td>0.834222</td>\n",
              "      <td>0.998724</td>\n",
              "      <td>SEKER</td>\n",
              "    </tr>\n",
              "    <tr>\n",
              "      <th>1</th>\n",
              "      <td>28734</td>\n",
              "      <td>638.018</td>\n",
              "      <td>200.524796</td>\n",
              "      <td>182.734419</td>\n",
              "      <td>1.097356</td>\n",
              "      <td>0.411785</td>\n",
              "      <td>29172</td>\n",
              "      <td>191.272750</td>\n",
              "      <td>0.783968</td>\n",
              "      <td>0.984986</td>\n",
              "      <td>0.887034</td>\n",
              "      <td>0.953861</td>\n",
              "      <td>0.006979</td>\n",
              "      <td>0.003564</td>\n",
              "      <td>0.909851</td>\n",
              "      <td>0.998430</td>\n",
              "      <td>SEKER</td>\n",
              "    </tr>\n",
              "    <tr>\n",
              "      <th>2</th>\n",
              "      <td>29380</td>\n",
              "      <td>624.110</td>\n",
              "      <td>212.826130</td>\n",
              "      <td>175.931143</td>\n",
              "      <td>1.209713</td>\n",
              "      <td>0.562727</td>\n",
              "      <td>29690</td>\n",
              "      <td>193.410904</td>\n",
              "      <td>0.778113</td>\n",
              "      <td>0.989559</td>\n",
              "      <td>0.947849</td>\n",
              "      <td>0.908774</td>\n",
              "      <td>0.007244</td>\n",
              "      <td>0.003048</td>\n",
              "      <td>0.825871</td>\n",
              "      <td>0.999066</td>\n",
              "      <td>SEKER</td>\n",
              "    </tr>\n",
              "    <tr>\n",
              "      <th>3</th>\n",
              "      <td>30008</td>\n",
              "      <td>645.884</td>\n",
              "      <td>210.557999</td>\n",
              "      <td>182.516516</td>\n",
              "      <td>1.153638</td>\n",
              "      <td>0.498616</td>\n",
              "      <td>30724</td>\n",
              "      <td>195.467062</td>\n",
              "      <td>0.782681</td>\n",
              "      <td>0.976696</td>\n",
              "      <td>0.903936</td>\n",
              "      <td>0.928329</td>\n",
              "      <td>0.007017</td>\n",
              "      <td>0.003215</td>\n",
              "      <td>0.861794</td>\n",
              "      <td>0.994199</td>\n",
              "      <td>SEKER</td>\n",
              "    </tr>\n",
              "    <tr>\n",
              "      <th>4</th>\n",
              "      <td>30140</td>\n",
              "      <td>620.134</td>\n",
              "      <td>201.847882</td>\n",
              "      <td>190.279279</td>\n",
              "      <td>1.060798</td>\n",
              "      <td>0.333680</td>\n",
              "      <td>30417</td>\n",
              "      <td>195.896503</td>\n",
              "      <td>0.773098</td>\n",
              "      <td>0.990893</td>\n",
              "      <td>0.984877</td>\n",
              "      <td>0.970516</td>\n",
              "      <td>0.006697</td>\n",
              "      <td>0.003665</td>\n",
              "      <td>0.941900</td>\n",
              "      <td>0.999166</td>\n",
              "      <td>SEKER</td>\n",
              "    </tr>\n",
              "  </tbody>\n",
              "</table>\n",
              "</div>\n",
              "      <button class=\"colab-df-convert\" onclick=\"convertToInteractive('df-5fd03964-a70b-4848-a937-a291eec12c65')\"\n",
              "              title=\"Convert this dataframe to an interactive table.\"\n",
              "              style=\"display:none;\">\n",
              "        \n",
              "  <svg xmlns=\"http://www.w3.org/2000/svg\" height=\"24px\"viewBox=\"0 0 24 24\"\n",
              "       width=\"24px\">\n",
              "    <path d=\"M0 0h24v24H0V0z\" fill=\"none\"/>\n",
              "    <path d=\"M18.56 5.44l.94 2.06.94-2.06 2.06-.94-2.06-.94-.94-2.06-.94 2.06-2.06.94zm-11 1L8.5 8.5l.94-2.06 2.06-.94-2.06-.94L8.5 2.5l-.94 2.06-2.06.94zm10 10l.94 2.06.94-2.06 2.06-.94-2.06-.94-.94-2.06-.94 2.06-2.06.94z\"/><path d=\"M17.41 7.96l-1.37-1.37c-.4-.4-.92-.59-1.43-.59-.52 0-1.04.2-1.43.59L10.3 9.45l-7.72 7.72c-.78.78-.78 2.05 0 2.83L4 21.41c.39.39.9.59 1.41.59.51 0 1.02-.2 1.41-.59l7.78-7.78 2.81-2.81c.8-.78.8-2.07 0-2.86zM5.41 20L4 18.59l7.72-7.72 1.47 1.35L5.41 20z\"/>\n",
              "  </svg>\n",
              "      </button>\n",
              "      \n",
              "  <style>\n",
              "    .colab-df-container {\n",
              "      display:flex;\n",
              "      flex-wrap:wrap;\n",
              "      gap: 12px;\n",
              "    }\n",
              "\n",
              "    .colab-df-convert {\n",
              "      background-color: #E8F0FE;\n",
              "      border: none;\n",
              "      border-radius: 50%;\n",
              "      cursor: pointer;\n",
              "      display: none;\n",
              "      fill: #1967D2;\n",
              "      height: 32px;\n",
              "      padding: 0 0 0 0;\n",
              "      width: 32px;\n",
              "    }\n",
              "\n",
              "    .colab-df-convert:hover {\n",
              "      background-color: #E2EBFA;\n",
              "      box-shadow: 0px 1px 2px rgba(60, 64, 67, 0.3), 0px 1px 3px 1px rgba(60, 64, 67, 0.15);\n",
              "      fill: #174EA6;\n",
              "    }\n",
              "\n",
              "    [theme=dark] .colab-df-convert {\n",
              "      background-color: #3B4455;\n",
              "      fill: #D2E3FC;\n",
              "    }\n",
              "\n",
              "    [theme=dark] .colab-df-convert:hover {\n",
              "      background-color: #434B5C;\n",
              "      box-shadow: 0px 1px 3px 1px rgba(0, 0, 0, 0.15);\n",
              "      filter: drop-shadow(0px 1px 2px rgba(0, 0, 0, 0.3));\n",
              "      fill: #FFFFFF;\n",
              "    }\n",
              "  </style>\n",
              "\n",
              "      <script>\n",
              "        const buttonEl =\n",
              "          document.querySelector('#df-5fd03964-a70b-4848-a937-a291eec12c65 button.colab-df-convert');\n",
              "        buttonEl.style.display =\n",
              "          google.colab.kernel.accessAllowed ? 'block' : 'none';\n",
              "\n",
              "        async function convertToInteractive(key) {\n",
              "          const element = document.querySelector('#df-5fd03964-a70b-4848-a937-a291eec12c65');\n",
              "          const dataTable =\n",
              "            await google.colab.kernel.invokeFunction('convertToInteractive',\n",
              "                                                     [key], {});\n",
              "          if (!dataTable) return;\n",
              "\n",
              "          const docLinkHtml = 'Like what you see? Visit the ' +\n",
              "            '<a target=\"_blank\" href=https://colab.research.google.com/notebooks/data_table.ipynb>data table notebook</a>'\n",
              "            + ' to learn more about interactive tables.';\n",
              "          element.innerHTML = '';\n",
              "          dataTable['output_type'] = 'display_data';\n",
              "          await google.colab.output.renderOutput(dataTable, element);\n",
              "          const docLink = document.createElement('div');\n",
              "          docLink.innerHTML = docLinkHtml;\n",
              "          element.appendChild(docLink);\n",
              "        }\n",
              "      </script>\n",
              "    </div>\n",
              "  </div>\n",
              "  "
            ]
          },
          "metadata": {},
          "execution_count": 8
        }
      ],
      "source": [
        "# Use the pandas `head()` method to display the first 5 rows of data from the DataFrame `df`\n",
        "\n",
        "df.head()"
      ]
    },
    {
      "cell_type": "code",
      "execution_count": null,
      "metadata": {
        "colab": {
          "base_uri": "https://localhost:8080/"
        },
        "id": "JfvZo7InuZ9x",
        "outputId": "3321e19b-2abb-4681-da8d-a39f19be0cce"
      },
      "outputs": [
        {
          "output_type": "stream",
          "name": "stdout",
          "text": [
            "<class 'pandas.core.frame.DataFrame'>\n",
            "RangeIndex: 13611 entries, 0 to 13610\n",
            "Data columns (total 17 columns):\n",
            " #   Column           Non-Null Count  Dtype  \n",
            "---  ------           --------------  -----  \n",
            " 0   Area             13611 non-null  int64  \n",
            " 1   Perimeter        13611 non-null  float64\n",
            " 2   MajorAxisLength  13611 non-null  float64\n",
            " 3   MinorAxisLength  13611 non-null  float64\n",
            " 4   AspectRation     13611 non-null  float64\n",
            " 5   Eccentricity     13611 non-null  float64\n",
            " 6   ConvexArea       13611 non-null  int64  \n",
            " 7   EquivDiameter    13611 non-null  float64\n",
            " 8   Extent           13611 non-null  float64\n",
            " 9   Solidity         13611 non-null  float64\n",
            " 10  roundness        13611 non-null  float64\n",
            " 11  Compactness      13611 non-null  float64\n",
            " 12  ShapeFactor1     13611 non-null  float64\n",
            " 13  ShapeFactor2     13611 non-null  float64\n",
            " 14  ShapeFactor3     13611 non-null  float64\n",
            " 15  ShapeFactor4     13611 non-null  float64\n",
            " 16  Class            13611 non-null  object \n",
            "dtypes: float64(14), int64(2), object(1)\n",
            "memory usage: 1.8+ MB\n"
          ]
        }
      ],
      "source": [
        "#panad  df.info() is a method that returns information about the DataFrame 'df'\n",
        "# This method provides a concise summary of the DataFrame 'df'\n",
        "df.info()"
      ]
    },
    {
      "cell_type": "code",
      "execution_count": null,
      "metadata": {
        "colab": {
          "base_uri": "https://localhost:8080/",
          "height": 650
        },
        "id": "ObnjM5oHuneJ",
        "outputId": "5a869616-43c4-453e-faf4-85d4aabfd83f"
      },
      "outputs": [
        {
          "output_type": "stream",
          "name": "stderr",
          "text": [
            "<ipython-input-10-8476bb6d48c8>:2: FutureWarning: The default value of numeric_only in DataFrame.corr is deprecated. In a future version, it will default to False. Select only valid columns or specify the value of numeric_only to silence this warning.\n",
            "  df.corr()\n"
          ]
        },
        {
          "output_type": "execute_result",
          "data": {
            "text/plain": [
              "                     Area  Perimeter  MajorAxisLength  MinorAxisLength  \\\n",
              "Area             1.000000   0.966722         0.931834         0.951602   \n",
              "Perimeter        0.966722   1.000000         0.977338         0.913179   \n",
              "MajorAxisLength  0.931834   0.977338         1.000000         0.826052   \n",
              "MinorAxisLength  0.951602   0.913179         0.826052         1.000000   \n",
              "AspectRation     0.241735   0.385276         0.550335        -0.009161   \n",
              "Eccentricity     0.267481   0.391066         0.541972         0.019574   \n",
              "ConvexArea       0.999939   0.967689         0.932607         0.951339   \n",
              "EquivDiameter    0.984968   0.991380         0.961733         0.948539   \n",
              "Extent           0.054345  -0.021160        -0.078062         0.145957   \n",
              "Solidity        -0.196585  -0.303970        -0.284302        -0.155831   \n",
              "roundness       -0.357530  -0.547647        -0.596358        -0.210344   \n",
              "Compactness     -0.268067  -0.406857        -0.568377        -0.015066   \n",
              "ShapeFactor1    -0.847958  -0.864623        -0.773609        -0.947204   \n",
              "ShapeFactor2    -0.639291  -0.767592        -0.859238        -0.471347   \n",
              "ShapeFactor3    -0.272145  -0.408435        -0.568185        -0.019326   \n",
              "ShapeFactor4    -0.355721  -0.429310        -0.482527        -0.263749   \n",
              "\n",
              "                 AspectRation  Eccentricity  ConvexArea  EquivDiameter  \\\n",
              "Area                 0.241735      0.267481    0.999939       0.984968   \n",
              "Perimeter            0.385276      0.391066    0.967689       0.991380   \n",
              "MajorAxisLength      0.550335      0.541972    0.932607       0.961733   \n",
              "MinorAxisLength     -0.009161      0.019574    0.951339       0.948539   \n",
              "AspectRation         1.000000      0.924293    0.243301       0.303647   \n",
              "Eccentricity         0.924293      1.000000    0.269255       0.318667   \n",
              "ConvexArea           0.243301      0.269255    1.000000       0.985226   \n",
              "EquivDiameter        0.303647      0.318667    0.985226       1.000000   \n",
              "Extent              -0.370184     -0.319362    0.052564       0.028383   \n",
              "Solidity            -0.267754     -0.297592   -0.206191      -0.231648   \n",
              "roundness           -0.766979     -0.722272   -0.362083      -0.435945   \n",
              "Compactness         -0.987687     -0.970313   -0.269922      -0.327650   \n",
              "ShapeFactor1         0.024593      0.019920   -0.847950      -0.892741   \n",
              "ShapeFactor2        -0.837841     -0.860141   -0.640862      -0.713069   \n",
              "ShapeFactor3        -0.978592     -0.981058   -0.274024      -0.330389   \n",
              "ShapeFactor4        -0.449264     -0.449354   -0.362049      -0.392512   \n",
              "\n",
              "                   Extent  Solidity  roundness  Compactness  ShapeFactor1  \\\n",
              "Area             0.054345 -0.196585  -0.357530    -0.268067     -0.847958   \n",
              "Perimeter       -0.021160 -0.303970  -0.547647    -0.406857     -0.864623   \n",
              "MajorAxisLength -0.078062 -0.284302  -0.596358    -0.568377     -0.773609   \n",
              "MinorAxisLength  0.145957 -0.155831  -0.210344    -0.015066     -0.947204   \n",
              "AspectRation    -0.370184 -0.267754  -0.766979    -0.987687      0.024593   \n",
              "Eccentricity    -0.319362 -0.297592  -0.722272    -0.970313      0.019920   \n",
              "ConvexArea       0.052564 -0.206191  -0.362083    -0.269922     -0.847950   \n",
              "EquivDiameter    0.028383 -0.231648  -0.435945    -0.327650     -0.892741   \n",
              "Extent           1.000000  0.191389   0.344411     0.354212     -0.141616   \n",
              "Solidity         0.191389  1.000000   0.607150     0.303766      0.153388   \n",
              "roundness        0.344411  0.607150   1.000000     0.768086      0.230273   \n",
              "Compactness      0.354212  0.303766   0.768086     1.000000     -0.009394   \n",
              "ShapeFactor1    -0.141616  0.153388   0.230273    -0.009394      1.000000   \n",
              "ShapeFactor2     0.237956  0.343559   0.782824     0.868939      0.469197   \n",
              "ShapeFactor3     0.347624  0.307662   0.763126     0.998686     -0.008320   \n",
              "ShapeFactor4     0.148502  0.702163   0.472149     0.484436      0.248619   \n",
              "\n",
              "                 ShapeFactor2  ShapeFactor3  ShapeFactor4  \n",
              "Area                -0.639291     -0.272145     -0.355721  \n",
              "Perimeter           -0.767592     -0.408435     -0.429310  \n",
              "MajorAxisLength     -0.859238     -0.568185     -0.482527  \n",
              "MinorAxisLength     -0.471347     -0.019326     -0.263749  \n",
              "AspectRation        -0.837841     -0.978592     -0.449264  \n",
              "Eccentricity        -0.860141     -0.981058     -0.449354  \n",
              "ConvexArea          -0.640862     -0.274024     -0.362049  \n",
              "EquivDiameter       -0.713069     -0.330389     -0.392512  \n",
              "Extent               0.237956      0.347624      0.148502  \n",
              "Solidity             0.343559      0.307662      0.702163  \n",
              "roundness            0.782824      0.763126      0.472149  \n",
              "Compactness          0.868939      0.998686      0.484436  \n",
              "ShapeFactor1         0.469197     -0.008320      0.248619  \n",
              "ShapeFactor2         1.000000      0.872971      0.529932  \n",
              "ShapeFactor3         0.872971      1.000000      0.484274  \n",
              "ShapeFactor4         0.529932      0.484274      1.000000  "
            ],
            "text/html": [
              "\n",
              "  <div id=\"df-d2074b41-b112-416f-b07c-c41cf7c60b18\">\n",
              "    <div class=\"colab-df-container\">\n",
              "      <div>\n",
              "<style scoped>\n",
              "    .dataframe tbody tr th:only-of-type {\n",
              "        vertical-align: middle;\n",
              "    }\n",
              "\n",
              "    .dataframe tbody tr th {\n",
              "        vertical-align: top;\n",
              "    }\n",
              "\n",
              "    .dataframe thead th {\n",
              "        text-align: right;\n",
              "    }\n",
              "</style>\n",
              "<table border=\"1\" class=\"dataframe\">\n",
              "  <thead>\n",
              "    <tr style=\"text-align: right;\">\n",
              "      <th></th>\n",
              "      <th>Area</th>\n",
              "      <th>Perimeter</th>\n",
              "      <th>MajorAxisLength</th>\n",
              "      <th>MinorAxisLength</th>\n",
              "      <th>AspectRation</th>\n",
              "      <th>Eccentricity</th>\n",
              "      <th>ConvexArea</th>\n",
              "      <th>EquivDiameter</th>\n",
              "      <th>Extent</th>\n",
              "      <th>Solidity</th>\n",
              "      <th>roundness</th>\n",
              "      <th>Compactness</th>\n",
              "      <th>ShapeFactor1</th>\n",
              "      <th>ShapeFactor2</th>\n",
              "      <th>ShapeFactor3</th>\n",
              "      <th>ShapeFactor4</th>\n",
              "    </tr>\n",
              "  </thead>\n",
              "  <tbody>\n",
              "    <tr>\n",
              "      <th>Area</th>\n",
              "      <td>1.000000</td>\n",
              "      <td>0.966722</td>\n",
              "      <td>0.931834</td>\n",
              "      <td>0.951602</td>\n",
              "      <td>0.241735</td>\n",
              "      <td>0.267481</td>\n",
              "      <td>0.999939</td>\n",
              "      <td>0.984968</td>\n",
              "      <td>0.054345</td>\n",
              "      <td>-0.196585</td>\n",
              "      <td>-0.357530</td>\n",
              "      <td>-0.268067</td>\n",
              "      <td>-0.847958</td>\n",
              "      <td>-0.639291</td>\n",
              "      <td>-0.272145</td>\n",
              "      <td>-0.355721</td>\n",
              "    </tr>\n",
              "    <tr>\n",
              "      <th>Perimeter</th>\n",
              "      <td>0.966722</td>\n",
              "      <td>1.000000</td>\n",
              "      <td>0.977338</td>\n",
              "      <td>0.913179</td>\n",
              "      <td>0.385276</td>\n",
              "      <td>0.391066</td>\n",
              "      <td>0.967689</td>\n",
              "      <td>0.991380</td>\n",
              "      <td>-0.021160</td>\n",
              "      <td>-0.303970</td>\n",
              "      <td>-0.547647</td>\n",
              "      <td>-0.406857</td>\n",
              "      <td>-0.864623</td>\n",
              "      <td>-0.767592</td>\n",
              "      <td>-0.408435</td>\n",
              "      <td>-0.429310</td>\n",
              "    </tr>\n",
              "    <tr>\n",
              "      <th>MajorAxisLength</th>\n",
              "      <td>0.931834</td>\n",
              "      <td>0.977338</td>\n",
              "      <td>1.000000</td>\n",
              "      <td>0.826052</td>\n",
              "      <td>0.550335</td>\n",
              "      <td>0.541972</td>\n",
              "      <td>0.932607</td>\n",
              "      <td>0.961733</td>\n",
              "      <td>-0.078062</td>\n",
              "      <td>-0.284302</td>\n",
              "      <td>-0.596358</td>\n",
              "      <td>-0.568377</td>\n",
              "      <td>-0.773609</td>\n",
              "      <td>-0.859238</td>\n",
              "      <td>-0.568185</td>\n",
              "      <td>-0.482527</td>\n",
              "    </tr>\n",
              "    <tr>\n",
              "      <th>MinorAxisLength</th>\n",
              "      <td>0.951602</td>\n",
              "      <td>0.913179</td>\n",
              "      <td>0.826052</td>\n",
              "      <td>1.000000</td>\n",
              "      <td>-0.009161</td>\n",
              "      <td>0.019574</td>\n",
              "      <td>0.951339</td>\n",
              "      <td>0.948539</td>\n",
              "      <td>0.145957</td>\n",
              "      <td>-0.155831</td>\n",
              "      <td>-0.210344</td>\n",
              "      <td>-0.015066</td>\n",
              "      <td>-0.947204</td>\n",
              "      <td>-0.471347</td>\n",
              "      <td>-0.019326</td>\n",
              "      <td>-0.263749</td>\n",
              "    </tr>\n",
              "    <tr>\n",
              "      <th>AspectRation</th>\n",
              "      <td>0.241735</td>\n",
              "      <td>0.385276</td>\n",
              "      <td>0.550335</td>\n",
              "      <td>-0.009161</td>\n",
              "      <td>1.000000</td>\n",
              "      <td>0.924293</td>\n",
              "      <td>0.243301</td>\n",
              "      <td>0.303647</td>\n",
              "      <td>-0.370184</td>\n",
              "      <td>-0.267754</td>\n",
              "      <td>-0.766979</td>\n",
              "      <td>-0.987687</td>\n",
              "      <td>0.024593</td>\n",
              "      <td>-0.837841</td>\n",
              "      <td>-0.978592</td>\n",
              "      <td>-0.449264</td>\n",
              "    </tr>\n",
              "    <tr>\n",
              "      <th>Eccentricity</th>\n",
              "      <td>0.267481</td>\n",
              "      <td>0.391066</td>\n",
              "      <td>0.541972</td>\n",
              "      <td>0.019574</td>\n",
              "      <td>0.924293</td>\n",
              "      <td>1.000000</td>\n",
              "      <td>0.269255</td>\n",
              "      <td>0.318667</td>\n",
              "      <td>-0.319362</td>\n",
              "      <td>-0.297592</td>\n",
              "      <td>-0.722272</td>\n",
              "      <td>-0.970313</td>\n",
              "      <td>0.019920</td>\n",
              "      <td>-0.860141</td>\n",
              "      <td>-0.981058</td>\n",
              "      <td>-0.449354</td>\n",
              "    </tr>\n",
              "    <tr>\n",
              "      <th>ConvexArea</th>\n",
              "      <td>0.999939</td>\n",
              "      <td>0.967689</td>\n",
              "      <td>0.932607</td>\n",
              "      <td>0.951339</td>\n",
              "      <td>0.243301</td>\n",
              "      <td>0.269255</td>\n",
              "      <td>1.000000</td>\n",
              "      <td>0.985226</td>\n",
              "      <td>0.052564</td>\n",
              "      <td>-0.206191</td>\n",
              "      <td>-0.362083</td>\n",
              "      <td>-0.269922</td>\n",
              "      <td>-0.847950</td>\n",
              "      <td>-0.640862</td>\n",
              "      <td>-0.274024</td>\n",
              "      <td>-0.362049</td>\n",
              "    </tr>\n",
              "    <tr>\n",
              "      <th>EquivDiameter</th>\n",
              "      <td>0.984968</td>\n",
              "      <td>0.991380</td>\n",
              "      <td>0.961733</td>\n",
              "      <td>0.948539</td>\n",
              "      <td>0.303647</td>\n",
              "      <td>0.318667</td>\n",
              "      <td>0.985226</td>\n",
              "      <td>1.000000</td>\n",
              "      <td>0.028383</td>\n",
              "      <td>-0.231648</td>\n",
              "      <td>-0.435945</td>\n",
              "      <td>-0.327650</td>\n",
              "      <td>-0.892741</td>\n",
              "      <td>-0.713069</td>\n",
              "      <td>-0.330389</td>\n",
              "      <td>-0.392512</td>\n",
              "    </tr>\n",
              "    <tr>\n",
              "      <th>Extent</th>\n",
              "      <td>0.054345</td>\n",
              "      <td>-0.021160</td>\n",
              "      <td>-0.078062</td>\n",
              "      <td>0.145957</td>\n",
              "      <td>-0.370184</td>\n",
              "      <td>-0.319362</td>\n",
              "      <td>0.052564</td>\n",
              "      <td>0.028383</td>\n",
              "      <td>1.000000</td>\n",
              "      <td>0.191389</td>\n",
              "      <td>0.344411</td>\n",
              "      <td>0.354212</td>\n",
              "      <td>-0.141616</td>\n",
              "      <td>0.237956</td>\n",
              "      <td>0.347624</td>\n",
              "      <td>0.148502</td>\n",
              "    </tr>\n",
              "    <tr>\n",
              "      <th>Solidity</th>\n",
              "      <td>-0.196585</td>\n",
              "      <td>-0.303970</td>\n",
              "      <td>-0.284302</td>\n",
              "      <td>-0.155831</td>\n",
              "      <td>-0.267754</td>\n",
              "      <td>-0.297592</td>\n",
              "      <td>-0.206191</td>\n",
              "      <td>-0.231648</td>\n",
              "      <td>0.191389</td>\n",
              "      <td>1.000000</td>\n",
              "      <td>0.607150</td>\n",
              "      <td>0.303766</td>\n",
              "      <td>0.153388</td>\n",
              "      <td>0.343559</td>\n",
              "      <td>0.307662</td>\n",
              "      <td>0.702163</td>\n",
              "    </tr>\n",
              "    <tr>\n",
              "      <th>roundness</th>\n",
              "      <td>-0.357530</td>\n",
              "      <td>-0.547647</td>\n",
              "      <td>-0.596358</td>\n",
              "      <td>-0.210344</td>\n",
              "      <td>-0.766979</td>\n",
              "      <td>-0.722272</td>\n",
              "      <td>-0.362083</td>\n",
              "      <td>-0.435945</td>\n",
              "      <td>0.344411</td>\n",
              "      <td>0.607150</td>\n",
              "      <td>1.000000</td>\n",
              "      <td>0.768086</td>\n",
              "      <td>0.230273</td>\n",
              "      <td>0.782824</td>\n",
              "      <td>0.763126</td>\n",
              "      <td>0.472149</td>\n",
              "    </tr>\n",
              "    <tr>\n",
              "      <th>Compactness</th>\n",
              "      <td>-0.268067</td>\n",
              "      <td>-0.406857</td>\n",
              "      <td>-0.568377</td>\n",
              "      <td>-0.015066</td>\n",
              "      <td>-0.987687</td>\n",
              "      <td>-0.970313</td>\n",
              "      <td>-0.269922</td>\n",
              "      <td>-0.327650</td>\n",
              "      <td>0.354212</td>\n",
              "      <td>0.303766</td>\n",
              "      <td>0.768086</td>\n",
              "      <td>1.000000</td>\n",
              "      <td>-0.009394</td>\n",
              "      <td>0.868939</td>\n",
              "      <td>0.998686</td>\n",
              "      <td>0.484436</td>\n",
              "    </tr>\n",
              "    <tr>\n",
              "      <th>ShapeFactor1</th>\n",
              "      <td>-0.847958</td>\n",
              "      <td>-0.864623</td>\n",
              "      <td>-0.773609</td>\n",
              "      <td>-0.947204</td>\n",
              "      <td>0.024593</td>\n",
              "      <td>0.019920</td>\n",
              "      <td>-0.847950</td>\n",
              "      <td>-0.892741</td>\n",
              "      <td>-0.141616</td>\n",
              "      <td>0.153388</td>\n",
              "      <td>0.230273</td>\n",
              "      <td>-0.009394</td>\n",
              "      <td>1.000000</td>\n",
              "      <td>0.469197</td>\n",
              "      <td>-0.008320</td>\n",
              "      <td>0.248619</td>\n",
              "    </tr>\n",
              "    <tr>\n",
              "      <th>ShapeFactor2</th>\n",
              "      <td>-0.639291</td>\n",
              "      <td>-0.767592</td>\n",
              "      <td>-0.859238</td>\n",
              "      <td>-0.471347</td>\n",
              "      <td>-0.837841</td>\n",
              "      <td>-0.860141</td>\n",
              "      <td>-0.640862</td>\n",
              "      <td>-0.713069</td>\n",
              "      <td>0.237956</td>\n",
              "      <td>0.343559</td>\n",
              "      <td>0.782824</td>\n",
              "      <td>0.868939</td>\n",
              "      <td>0.469197</td>\n",
              "      <td>1.000000</td>\n",
              "      <td>0.872971</td>\n",
              "      <td>0.529932</td>\n",
              "    </tr>\n",
              "    <tr>\n",
              "      <th>ShapeFactor3</th>\n",
              "      <td>-0.272145</td>\n",
              "      <td>-0.408435</td>\n",
              "      <td>-0.568185</td>\n",
              "      <td>-0.019326</td>\n",
              "      <td>-0.978592</td>\n",
              "      <td>-0.981058</td>\n",
              "      <td>-0.274024</td>\n",
              "      <td>-0.330389</td>\n",
              "      <td>0.347624</td>\n",
              "      <td>0.307662</td>\n",
              "      <td>0.763126</td>\n",
              "      <td>0.998686</td>\n",
              "      <td>-0.008320</td>\n",
              "      <td>0.872971</td>\n",
              "      <td>1.000000</td>\n",
              "      <td>0.484274</td>\n",
              "    </tr>\n",
              "    <tr>\n",
              "      <th>ShapeFactor4</th>\n",
              "      <td>-0.355721</td>\n",
              "      <td>-0.429310</td>\n",
              "      <td>-0.482527</td>\n",
              "      <td>-0.263749</td>\n",
              "      <td>-0.449264</td>\n",
              "      <td>-0.449354</td>\n",
              "      <td>-0.362049</td>\n",
              "      <td>-0.392512</td>\n",
              "      <td>0.148502</td>\n",
              "      <td>0.702163</td>\n",
              "      <td>0.472149</td>\n",
              "      <td>0.484436</td>\n",
              "      <td>0.248619</td>\n",
              "      <td>0.529932</td>\n",
              "      <td>0.484274</td>\n",
              "      <td>1.000000</td>\n",
              "    </tr>\n",
              "  </tbody>\n",
              "</table>\n",
              "</div>\n",
              "      <button class=\"colab-df-convert\" onclick=\"convertToInteractive('df-d2074b41-b112-416f-b07c-c41cf7c60b18')\"\n",
              "              title=\"Convert this dataframe to an interactive table.\"\n",
              "              style=\"display:none;\">\n",
              "        \n",
              "  <svg xmlns=\"http://www.w3.org/2000/svg\" height=\"24px\"viewBox=\"0 0 24 24\"\n",
              "       width=\"24px\">\n",
              "    <path d=\"M0 0h24v24H0V0z\" fill=\"none\"/>\n",
              "    <path d=\"M18.56 5.44l.94 2.06.94-2.06 2.06-.94-2.06-.94-.94-2.06-.94 2.06-2.06.94zm-11 1L8.5 8.5l.94-2.06 2.06-.94-2.06-.94L8.5 2.5l-.94 2.06-2.06.94zm10 10l.94 2.06.94-2.06 2.06-.94-2.06-.94-.94-2.06-.94 2.06-2.06.94z\"/><path d=\"M17.41 7.96l-1.37-1.37c-.4-.4-.92-.59-1.43-.59-.52 0-1.04.2-1.43.59L10.3 9.45l-7.72 7.72c-.78.78-.78 2.05 0 2.83L4 21.41c.39.39.9.59 1.41.59.51 0 1.02-.2 1.41-.59l7.78-7.78 2.81-2.81c.8-.78.8-2.07 0-2.86zM5.41 20L4 18.59l7.72-7.72 1.47 1.35L5.41 20z\"/>\n",
              "  </svg>\n",
              "      </button>\n",
              "      \n",
              "  <style>\n",
              "    .colab-df-container {\n",
              "      display:flex;\n",
              "      flex-wrap:wrap;\n",
              "      gap: 12px;\n",
              "    }\n",
              "\n",
              "    .colab-df-convert {\n",
              "      background-color: #E8F0FE;\n",
              "      border: none;\n",
              "      border-radius: 50%;\n",
              "      cursor: pointer;\n",
              "      display: none;\n",
              "      fill: #1967D2;\n",
              "      height: 32px;\n",
              "      padding: 0 0 0 0;\n",
              "      width: 32px;\n",
              "    }\n",
              "\n",
              "    .colab-df-convert:hover {\n",
              "      background-color: #E2EBFA;\n",
              "      box-shadow: 0px 1px 2px rgba(60, 64, 67, 0.3), 0px 1px 3px 1px rgba(60, 64, 67, 0.15);\n",
              "      fill: #174EA6;\n",
              "    }\n",
              "\n",
              "    [theme=dark] .colab-df-convert {\n",
              "      background-color: #3B4455;\n",
              "      fill: #D2E3FC;\n",
              "    }\n",
              "\n",
              "    [theme=dark] .colab-df-convert:hover {\n",
              "      background-color: #434B5C;\n",
              "      box-shadow: 0px 1px 3px 1px rgba(0, 0, 0, 0.15);\n",
              "      filter: drop-shadow(0px 1px 2px rgba(0, 0, 0, 0.3));\n",
              "      fill: #FFFFFF;\n",
              "    }\n",
              "  </style>\n",
              "\n",
              "      <script>\n",
              "        const buttonEl =\n",
              "          document.querySelector('#df-d2074b41-b112-416f-b07c-c41cf7c60b18 button.colab-df-convert');\n",
              "        buttonEl.style.display =\n",
              "          google.colab.kernel.accessAllowed ? 'block' : 'none';\n",
              "\n",
              "        async function convertToInteractive(key) {\n",
              "          const element = document.querySelector('#df-d2074b41-b112-416f-b07c-c41cf7c60b18');\n",
              "          const dataTable =\n",
              "            await google.colab.kernel.invokeFunction('convertToInteractive',\n",
              "                                                     [key], {});\n",
              "          if (!dataTable) return;\n",
              "\n",
              "          const docLinkHtml = 'Like what you see? Visit the ' +\n",
              "            '<a target=\"_blank\" href=https://colab.research.google.com/notebooks/data_table.ipynb>data table notebook</a>'\n",
              "            + ' to learn more about interactive tables.';\n",
              "          element.innerHTML = '';\n",
              "          dataTable['output_type'] = 'display_data';\n",
              "          await google.colab.output.renderOutput(dataTable, element);\n",
              "          const docLink = document.createElement('div');\n",
              "          docLink.innerHTML = docLinkHtml;\n",
              "          element.appendChild(docLink);\n",
              "        }\n",
              "      </script>\n",
              "    </div>\n",
              "  </div>\n",
              "  "
            ]
          },
          "metadata": {},
          "execution_count": 10
        }
      ],
      "source": [
        "# for pandas the corr method to find the correlation between the data\n",
        "df.corr()"
      ]
    },
    {
      "cell_type": "code",
      "execution_count": null,
      "metadata": {
        "id": "C4Pgq4RNuzcB"
      },
      "outputs": [],
      "source": [
        "%matplotlib inline\n"
      ]
    },
    {
      "cell_type": "code",
      "execution_count": null,
      "metadata": {
        "colab": {
          "base_uri": "https://localhost:8080/",
          "height": 609
        },
        "id": "ZmG2ucDqu56X",
        "outputId": "92e414a4-cb78-4073-ebc5-67ace84d0b60"
      },
      "outputs": [
        {
          "output_type": "stream",
          "name": "stderr",
          "text": [
            "<ipython-input-12-aa4f4450a243>:1: FutureWarning: The default value of numeric_only in DataFrame.corr is deprecated. In a future version, it will default to False. Select only valid columns or specify the value of numeric_only to silence this warning.\n",
            "  sns.heatmap(df.corr())\n"
          ]
        },
        {
          "output_type": "execute_result",
          "data": {
            "text/plain": [
              "<Axes: >"
            ]
          },
          "metadata": {},
          "execution_count": 12
        },
        {
          "output_type": "display_data",
          "data": {
            "text/plain": [
              "<Figure size 640x480 with 2 Axes>"
            ],
            "image/png": "[encoded data removed]"
          },
          "metadata": {}
        }
      ],
      "source": [
        "sns.heatmap(df.corr())"
      ]
    },
    {
      "cell_type": "code",
      "execution_count": null,
      "metadata": {
        "id": "ELA-5j9eu88_"
      },
      "outputs": [],
      "source": [
        "#plt.show()"
      ]
    },
    {
      "cell_type": "code",
      "execution_count": null,
      "metadata": {
        "colab": {
          "base_uri": "https://localhost:8080/"
        },
        "id": "cUuObppZu_iv",
        "outputId": "0849eb86-477a-42f2-e108-ce1688da3f1e"
      },
      "outputs": [
        {
          "output_type": "execute_result",
          "data": {
            "text/plain": [
              "Area               0\n",
              "Perimeter          0\n",
              "MajorAxisLength    0\n",
              "MinorAxisLength    0\n",
              "AspectRation       0\n",
              "Eccentricity       0\n",
              "ConvexArea         0\n",
              "EquivDiameter      0\n",
              "Extent             0\n",
              "Solidity           0\n",
              "roundness          0\n",
              "Compactness        0\n",
              "ShapeFactor1       0\n",
              "ShapeFactor2       0\n",
              "ShapeFactor3       0\n",
              "ShapeFactor4       0\n",
              "Class              0\n",
              "dtype: int64"
            ]
          },
          "metadata": {},
          "execution_count": 14
        }
      ],
      "source": [
        "#check the null values in this dataset\n",
        "df.isnull().sum()"
      ]
    },
    {
      "cell_type": "code",
      "execution_count": null,
      "metadata": {
        "colab": {
          "base_uri": "https://localhost:8080/",
          "height": 1000
        },
        "id": "9Ff8thKjvD1I",
        "outputId": "812ea25d-6386-41d3-bba0-27f46702228d"
      },
      "outputs": [
        {
          "output_type": "stream",
          "name": "stderr",
          "text": [
            "<ipython-input-15-e739994d4f4e>:2: FutureWarning: The default value of numeric_only in DataFrame.corr is deprecated. In a future version, it will default to False. Select only valid columns or specify the value of numeric_only to silence this warning.\n",
            "  sns.heatmap(df.corr(),annot=True,cmap='viridis',linewidths=.5)\n"
          ]
        },
        {
          "output_type": "execute_result",
          "data": {
            "text/plain": [
              "<Axes: >"
            ]
          },
          "metadata": {},
          "execution_count": 15
        },
        {
          "output_type": "display_data",
          "data": {
            "text/plain": [
              "<Figure size 1500x1500 with 2 Axes>"
            ],
            "image/png": "[encoded data removed]"
          },
          "metadata": {}
        }
      ],
      "source": [
        "plt.figure(figsize=(15,15))\n",
        "sns.heatmap(df.corr(),annot=True,cmap='viridis',linewidths=.5)"
      ]
    },
    {
      "cell_type": "code",
      "execution_count": null,
      "metadata": {
        "id": "l5SO3UGEvGxw"
      },
      "outputs": [],
      "source": [
        "# separate the features and target variable\n",
        "\n",
        "Y = df['Class'] # Target dataset\n",
        "X = df.drop(['Class'], axis=1) # Input Dataset feature"
      ]
    },
    {
      "cell_type": "code",
      "execution_count": null,
      "metadata": {
        "colab": {
          "base_uri": "https://localhost:8080/"
        },
        "id": "O5XUd5NP6uPj",
        "outputId": "cbddc2b7-9d2e-4943-a724-821e2e07a0ef"
      },
      "outputs": [
        {
          "output_type": "execute_result",
          "data": {
            "text/plain": [
              "0           SEKER\n",
              "1           SEKER\n",
              "2           SEKER\n",
              "3           SEKER\n",
              "4           SEKER\n",
              "           ...   \n",
              "13606    DERMASON\n",
              "13607    DERMASON\n",
              "13608    DERMASON\n",
              "13609    DERMASON\n",
              "13610    DERMASON\n",
              "Name: Class, Length: 13611, dtype: object"
            ]
          },
          "metadata": {},
          "execution_count": 17
        }
      ],
      "source": [
        "Y"
      ]
    },
    {
      "cell_type": "code",
      "execution_count": null,
      "metadata": {
        "id": "BOUI25xB6vt6"
      },
      "outputs": [],
      "source": []
    },
    {
      "cell_type": "code",
      "execution_count": null,
      "metadata": {
        "colab": {
          "base_uri": "https://localhost:8080/",
          "height": 488
        },
        "id": "ekMCcVwB68XJ",
        "outputId": "eddbde33-f117-4ec9-9ee6-2431ec5f5e05"
      },
      "outputs": [
        {
          "output_type": "execute_result",
          "data": {
            "text/plain": [
              "        Area  Perimeter  MajorAxisLength  MinorAxisLength  AspectRation  \\\n",
              "0      28395    610.291       208.178117       173.888747      1.197191   \n",
              "1      28734    638.018       200.524796       182.734419      1.097356   \n",
              "2      29380    624.110       212.826130       175.931143      1.209713   \n",
              "3      30008    645.884       210.557999       182.516516      1.153638   \n",
              "4      30140    620.134       201.847882       190.279279      1.060798   \n",
              "...      ...        ...              ...              ...           ...   \n",
              "13606  42097    759.696       288.721612       185.944705      1.552728   \n",
              "13607  42101    757.499       281.576392       190.713136      1.476439   \n",
              "13608  42139    759.321       281.539928       191.187979      1.472582   \n",
              "13609  42147    763.779       283.382636       190.275731      1.489326   \n",
              "13610  42159    772.237       295.142741       182.204716      1.619841   \n",
              "\n",
              "       Eccentricity  ConvexArea  EquivDiameter    Extent  Solidity  roundness  \\\n",
              "0          0.549812       28715     190.141097  0.763923  0.988856   0.958027   \n",
              "1          0.411785       29172     191.272750  0.783968  0.984986   0.887034   \n",
              "2          0.562727       29690     193.410904  0.778113  0.989559   0.947849   \n",
              "3          0.498616       30724     195.467062  0.782681  0.976696   0.903936   \n",
              "4          0.333680       30417     195.896503  0.773098  0.990893   0.984877   \n",
              "...             ...         ...            ...       ...       ...        ...   \n",
              "13606      0.765002       42508     231.515799  0.714574  0.990331   0.916603   \n",
              "13607      0.735702       42494     231.526798  0.799943  0.990752   0.922015   \n",
              "13608      0.734065       42569     231.631261  0.729932  0.989899   0.918424   \n",
              "13609      0.741055       42667     231.653248  0.705389  0.987813   0.907906   \n",
              "13610      0.786693       42600     231.686223  0.788962  0.989648   0.888380   \n",
              "\n",
              "       Compactness  ShapeFactor1  ShapeFactor2  ShapeFactor3  ShapeFactor4  \n",
              "0         0.913358      0.007332      0.003147      0.834222      0.998724  \n",
              "1         0.953861      0.006979      0.003564      0.909851      0.998430  \n",
              "2         0.908774      0.007244      0.003048      0.825871      0.999066  \n",
              "3         0.928329      0.007017      0.003215      0.861794      0.994199  \n",
              "4         0.970516      0.006697      0.003665      0.941900      0.999166  \n",
              "...            ...           ...           ...           ...           ...  \n",
              "13606     0.801865      0.006858      0.001749      0.642988      0.998385  \n",
              "13607     0.822252      0.006688      0.001886      0.676099      0.998219  \n",
              "13608     0.822730      0.006681      0.001888      0.676884      0.996767  \n",
              "13609     0.817457      0.006724      0.001852      0.668237      0.995222  \n",
              "13610     0.784997      0.007001      0.001640      0.616221      0.998180  \n",
              "\n",
              "[13611 rows x 16 columns]"
            ],
            "text/html": [
              "\n",
              "  <div id=\"df-7264aca7-f282-463c-ba3f-9caebf8b8af7\">\n",
              "    <div class=\"colab-df-container\">\n",
              "      <div>\n",
              "<style scoped>\n",
              "    .dataframe tbody tr th:only-of-type {\n",
              "        vertical-align: middle;\n",
              "    }\n",
              "\n",
              "    .dataframe tbody tr th {\n",
              "        vertical-align: top;\n",
              "    }\n",
              "\n",
              "    .dataframe thead th {\n",
              "        text-align: right;\n",
              "    }\n",
              "</style>\n",
              "<table border=\"1\" class=\"dataframe\">\n",
              "  <thead>\n",
              "    <tr style=\"text-align: right;\">\n",
              "      <th></th>\n",
              "      <th>Area</th>\n",
              "      <th>Perimeter</th>\n",
              "      <th>MajorAxisLength</th>\n",
              "      <th>MinorAxisLength</th>\n",
              "      <th>AspectRation</th>\n",
              "      <th>Eccentricity</th>\n",
              "      <th>ConvexArea</th>\n",
              "      <th>EquivDiameter</th>\n",
              "      <th>Extent</th>\n",
              "      <th>Solidity</th>\n",
              "      <th>roundness</th>\n",
              "      <th>Compactness</th>\n",
              "      <th>ShapeFactor1</th>\n",
              "      <th>ShapeFactor2</th>\n",
              "      <th>ShapeFactor3</th>\n",
              "      <th>ShapeFactor4</th>\n",
              "    </tr>\n",
              "  </thead>\n",
              "  <tbody>\n",
              "    <tr>\n",
              "      <th>0</th>\n",
              "      <td>28395</td>\n",
              "      <td>610.291</td>\n",
              "      <td>208.178117</td>\n",
              "      <td>173.888747</td>\n",
              "      <td>1.197191</td>\n",
              "      <td>0.549812</td>\n",
              "      <td>28715</td>\n",
              "      <td>190.141097</td>\n",
              "      <td>0.763923</td>\n",
              "      <td>0.988856</td>\n",
              "      <td>0.958027</td>\n",
              "      <td>0.913358</td>\n",
              "      <td>0.007332</td>\n",
              "      <td>0.003147</td>\n",
              "      <td>0.834222</td>\n",
              "      <td>0.998724</td>\n",
              "    </tr>\n",
              "    <tr>\n",
              "      <th>1</th>\n",
              "      <td>28734</td>\n",
              "      <td>638.018</td>\n",
              "      <td>200.524796</td>\n",
              "      <td>182.734419</td>\n",
              "      <td>1.097356</td>\n",
              "      <td>0.411785</td>\n",
              "      <td>29172</td>\n",
              "      <td>191.272750</td>\n",
              "      <td>0.783968</td>\n",
              "      <td>0.984986</td>\n",
              "      <td>0.887034</td>\n",
              "      <td>0.953861</td>\n",
              "      <td>0.006979</td>\n",
              "      <td>0.003564</td>\n",
              "      <td>0.909851</td>\n",
              "      <td>0.998430</td>\n",
              "    </tr>\n",
              "    <tr>\n",
              "      <th>2</th>\n",
              "      <td>29380</td>\n",
              "      <td>624.110</td>\n",
              "      <td>212.826130</td>\n",
              "      <td>175.931143</td>\n",
              "      <td>1.209713</td>\n",
              "      <td>0.562727</td>\n",
              "      <td>29690</td>\n",
              "      <td>193.410904</td>\n",
              "      <td>0.778113</td>\n",
              "      <td>0.989559</td>\n",
              "      <td>0.947849</td>\n",
              "      <td>0.908774</td>\n",
              "      <td>0.007244</td>\n",
              "      <td>0.003048</td>\n",
              "      <td>0.825871</td>\n",
              "      <td>0.999066</td>\n",
              "    </tr>\n",
              "    <tr>\n",
              "      <th>3</th>\n",
              "      <td>30008</td>\n",
              "      <td>645.884</td>\n",
              "      <td>210.557999</td>\n",
              "      <td>182.516516</td>\n",
              "      <td>1.153638</td>\n",
              "      <td>0.498616</td>\n",
              "      <td>30724</td>\n",
              "      <td>195.467062</td>\n",
              "      <td>0.782681</td>\n",
              "      <td>0.976696</td>\n",
              "      <td>0.903936</td>\n",
              "      <td>0.928329</td>\n",
              "      <td>0.007017</td>\n",
              "      <td>0.003215</td>\n",
              "      <td>0.861794</td>\n",
              "      <td>0.994199</td>\n",
              "    </tr>\n",
              "    <tr>\n",
              "      <th>4</th>\n",
              "      <td>30140</td>\n",
              "      <td>620.134</td>\n",
              "      <td>201.847882</td>\n",
              "      <td>190.279279</td>\n",
              "      <td>1.060798</td>\n",
              "      <td>0.333680</td>\n",
              "      <td>30417</td>\n",
              "      <td>195.896503</td>\n",
              "      <td>0.773098</td>\n",
              "      <td>0.990893</td>\n",
              "      <td>0.984877</td>\n",
              "      <td>0.970516</td>\n",
              "      <td>0.006697</td>\n",
              "      <td>0.003665</td>\n",
              "      <td>0.941900</td>\n",
              "      <td>0.999166</td>\n",
              "    </tr>\n",
              "    <tr>\n",
              "      <th>...</th>\n",
              "      <td>...</td>\n",
              "      <td>...</td>\n",
              "      <td>...</td>\n",
              "      <td>...</td>\n",
              "      <td>...</td>\n",
              "      <td>...</td>\n",
              "      <td>...</td>\n",
              "      <td>...</td>\n",
              "      <td>...</td>\n",
              "      <td>...</td>\n",
              "      <td>...</td>\n",
              "      <td>...</td>\n",
              "      <td>...</td>\n",
              "      <td>...</td>\n",
              "      <td>...</td>\n",
              "      <td>...</td>\n",
              "    </tr>\n",
              "    <tr>\n",
              "      <th>13606</th>\n",
              "      <td>42097</td>\n",
              "      <td>759.696</td>\n",
              "      <td>288.721612</td>\n",
              "      <td>185.944705</td>\n",
              "      <td>1.552728</td>\n",
              "      <td>0.765002</td>\n",
              "      <td>42508</td>\n",
              "      <td>231.515799</td>\n",
              "      <td>0.714574</td>\n",
              "      <td>0.990331</td>\n",
              "      <td>0.916603</td>\n",
              "      <td>0.801865</td>\n",
              "      <td>0.006858</td>\n",
              "      <td>0.001749</td>\n",
              "      <td>0.642988</td>\n",
              "      <td>0.998385</td>\n",
              "    </tr>\n",
              "    <tr>\n",
              "      <th>13607</th>\n",
              "      <td>42101</td>\n",
              "      <td>757.499</td>\n",
              "      <td>281.576392</td>\n",
              "      <td>190.713136</td>\n",
              "      <td>1.476439</td>\n",
              "      <td>0.735702</td>\n",
              "      <td>42494</td>\n",
              "      <td>231.526798</td>\n",
              "      <td>0.799943</td>\n",
              "      <td>0.990752</td>\n",
              "      <td>0.922015</td>\n",
              "      <td>0.822252</td>\n",
              "      <td>0.006688</td>\n",
              "      <td>0.001886</td>\n",
              "      <td>0.676099</td>\n",
              "      <td>0.998219</td>\n",
              "    </tr>\n",
              "    <tr>\n",
              "      <th>13608</th>\n",
              "      <td>42139</td>\n",
              "      <td>759.321</td>\n",
              "      <td>281.539928</td>\n",
              "      <td>191.187979</td>\n",
              "      <td>1.472582</td>\n",
              "      <td>0.734065</td>\n",
              "      <td>42569</td>\n",
              "      <td>231.631261</td>\n",
              "      <td>0.729932</td>\n",
              "      <td>0.989899</td>\n",
              "      <td>0.918424</td>\n",
              "      <td>0.822730</td>\n",
              "      <td>0.006681</td>\n",
              "      <td>0.001888</td>\n",
              "      <td>0.676884</td>\n",
              "      <td>0.996767</td>\n",
              "    </tr>\n",
              "    <tr>\n",
              "      <th>13609</th>\n",
              "      <td>42147</td>\n",
              "      <td>763.779</td>\n",
              "      <td>283.382636</td>\n",
              "      <td>190.275731</td>\n",
              "      <td>1.489326</td>\n",
              "      <td>0.741055</td>\n",
              "      <td>42667</td>\n",
              "      <td>231.653248</td>\n",
              "      <td>0.705389</td>\n",
              "      <td>0.987813</td>\n",
              "      <td>0.907906</td>\n",
              "      <td>0.817457</td>\n",
              "      <td>0.006724</td>\n",
              "      <td>0.001852</td>\n",
              "      <td>0.668237</td>\n",
              "      <td>0.995222</td>\n",
              "    </tr>\n",
              "    <tr>\n",
              "      <th>13610</th>\n",
              "      <td>42159</td>\n",
              "      <td>772.237</td>\n",
              "      <td>295.142741</td>\n",
              "      <td>182.204716</td>\n",
              "      <td>1.619841</td>\n",
              "      <td>0.786693</td>\n",
              "      <td>42600</td>\n",
              "      <td>231.686223</td>\n",
              "      <td>0.788962</td>\n",
              "      <td>0.989648</td>\n",
              "      <td>0.888380</td>\n",
              "      <td>0.784997</td>\n",
              "      <td>0.007001</td>\n",
              "      <td>0.001640</td>\n",
              "      <td>0.616221</td>\n",
              "      <td>0.998180</td>\n",
              "    </tr>\n",
              "  </tbody>\n",
              "</table>\n",
              "<p>13611 rows × 16 columns</p>\n",
              "</div>\n",
              "      <button class=\"colab-df-convert\" onclick=\"convertToInteractive('df-7264aca7-f282-463c-ba3f-9caebf8b8af7')\"\n",
              "              title=\"Convert this dataframe to an interactive table.\"\n",
              "              style=\"display:none;\">\n",
              "        \n",
              "  <svg xmlns=\"http://www.w3.org/2000/svg\" height=\"24px\"viewBox=\"0 0 24 24\"\n",
              "       width=\"24px\">\n",
              "    <path d=\"M0 0h24v24H0V0z\" fill=\"none\"/>\n",
              "    <path d=\"M18.56 5.44l.94 2.06.94-2.06 2.06-.94-2.06-.94-.94-2.06-.94 2.06-2.06.94zm-11 1L8.5 8.5l.94-2.06 2.06-.94-2.06-.94L8.5 2.5l-.94 2.06-2.06.94zm10 10l.94 2.06.94-2.06 2.06-.94-2.06-.94-.94-2.06-.94 2.06-2.06.94z\"/><path d=\"M17.41 7.96l-1.37-1.37c-.4-.4-.92-.59-1.43-.59-.52 0-1.04.2-1.43.59L10.3 9.45l-7.72 7.72c-.78.78-.78 2.05 0 2.83L4 21.41c.39.39.9.59 1.41.59.51 0 1.02-.2 1.41-.59l7.78-7.78 2.81-2.81c.8-.78.8-2.07 0-2.86zM5.41 20L4 18.59l7.72-7.72 1.47 1.35L5.41 20z\"/>\n",
              "  </svg>\n",
              "      </button>\n",
              "      \n",
              "  <style>\n",
              "    .colab-df-container {\n",
              "      display:flex;\n",
              "      flex-wrap:wrap;\n",
              "      gap: 12px;\n",
              "    }\n",
              "\n",
              "    .colab-df-convert {\n",
              "      background-color: #E8F0FE;\n",
              "      border: none;\n",
              "      border-radius: 50%;\n",
              "      cursor: pointer;\n",
              "      display: none;\n",
              "      fill: #1967D2;\n",
              "      height: 32px;\n",
              "      padding: 0 0 0 0;\n",
              "      width: 32px;\n",
              "    }\n",
              "\n",
              "    .colab-df-convert:hover {\n",
              "      background-color: #E2EBFA;\n",
              "      box-shadow: 0px 1px 2px rgba(60, 64, 67, 0.3), 0px 1px 3px 1px rgba(60, 64, 67, 0.15);\n",
              "      fill: #174EA6;\n",
              "    }\n",
              "\n",
              "    [theme=dark] .colab-df-convert {\n",
              "      background-color: #3B4455;\n",
              "      fill: #D2E3FC;\n",
              "    }\n",
              "\n",
              "    [theme=dark] .colab-df-convert:hover {\n",
              "      background-color: #434B5C;\n",
              "      box-shadow: 0px 1px 3px 1px rgba(0, 0, 0, 0.15);\n",
              "      filter: drop-shadow(0px 1px 2px rgba(0, 0, 0, 0.3));\n",
              "      fill: #FFFFFF;\n",
              "    }\n",
              "  </style>\n",
              "\n",
              "      <script>\n",
              "        const buttonEl =\n",
              "          document.querySelector('#df-7264aca7-f282-463c-ba3f-9caebf8b8af7 button.colab-df-convert');\n",
              "        buttonEl.style.display =\n",
              "          google.colab.kernel.accessAllowed ? 'block' : 'none';\n",
              "\n",
              "        async function convertToInteractive(key) {\n",
              "          const element = document.querySelector('#df-7264aca7-f282-463c-ba3f-9caebf8b8af7');\n",
              "          const dataTable =\n",
              "            await google.colab.kernel.invokeFunction('convertToInteractive',\n",
              "                                                     [key], {});\n",
              "          if (!dataTable) return;\n",
              "\n",
              "          const docLinkHtml = 'Like what you see? Visit the ' +\n",
              "            '<a target=\"_blank\" href=https://colab.research.google.com/notebooks/data_table.ipynb>data table notebook</a>'\n",
              "            + ' to learn more about interactive tables.';\n",
              "          element.innerHTML = '';\n",
              "          dataTable['output_type'] = 'display_data';\n",
              "          await google.colab.output.renderOutput(dataTable, element);\n",
              "          const docLink = document.createElement('div');\n",
              "          docLink.innerHTML = docLinkHtml;\n",
              "          element.appendChild(docLink);\n",
              "        }\n",
              "      </script>\n",
              "    </div>\n",
              "  </div>\n",
              "  "
            ]
          },
          "metadata": {},
          "execution_count": 18
        }
      ],
      "source": [
        "X"
      ]
    },
    {
      "cell_type": "code",
      "execution_count": null,
      "metadata": {
        "id": "J9lIoUjj696B"
      },
      "outputs": [],
      "source": [
        "from sklearn.model_selection import train_test_split"
      ]
    },
    {
      "cell_type": "code",
      "execution_count": null,
      "metadata": {
        "id": "K-YcHgVAA4VP"
      },
      "outputs": [],
      "source": [
        "# split the dataset into training and testing sets\n",
        "x_train, x_test, y_train, y_test = train_test_split(X, Y, test_size=0.2)"
      ]
    },
    {
      "cell_type": "code",
      "source": [
        "new_y_test =y_test\n"
      ],
      "metadata": {
        "id": "ZGUDbvJGdizz"
      },
      "execution_count": null,
      "outputs": []
    },
    {
      "cell_type": "code",
      "execution_count": null,
      "metadata": {
        "colab": {
          "base_uri": "https://localhost:8080/",
          "height": 488
        },
        "id": "mdVU9zGVBEU-",
        "outputId": "82746d37-cff6-4880-d7fa-4e356dd88bc7"
      },
      "outputs": [
        {
          "output_type": "execute_result",
          "data": {
            "text/plain": [
              "        Area  Perimeter  MajorAxisLength  MinorAxisLength  AspectRation  \\\n",
              "683    37453    706.241       236.522570       201.979709      1.171021   \n",
              "8952   45502    797.005       304.515252       190.714687      1.596706   \n",
              "2465   65503   1028.839       333.483926       253.412475      1.315973   \n",
              "1521   42708    751.454       268.986447       202.328363      1.329455   \n",
              "12080  32904    668.662       240.067010       175.161431      1.370547   \n",
              "...      ...        ...              ...              ...           ...   \n",
              "2648   68882   1003.476       356.958069       246.818247      1.446239   \n",
              "1449   42094    743.573       267.070758       201.031702      1.328501   \n",
              "9603   49110    835.878       309.456457       203.843231      1.518110   \n",
              "2172   57563    986.047       343.635912       213.958916      1.606084   \n",
              "1582   43362    751.489       263.160769       210.247428      1.251672   \n",
              "\n",
              "       Eccentricity  ConvexArea  EquivDiameter    Extent  Solidity  roundness  \\\n",
              "683        0.520346       37925     218.372710  0.754113  0.987554   0.943606   \n",
              "8952       0.779591       45895     240.696792  0.790995  0.991437   0.900157   \n",
              "2465       0.650047       67100     288.792330  0.768093  0.976200   0.777636   \n",
              "1521       0.658949       43057     233.189868  0.787476  0.991894   0.950417   \n",
              "12080      0.683836       33244     204.681885  0.799145  0.989773   0.924795   \n",
              "...             ...         ...            ...       ...       ...        ...   \n",
              "2648       0.722425       69727     296.147406  0.778856  0.987881   0.859610   \n",
              "1449       0.658331       42455     231.507549  0.787569  0.991497   0.956716   \n",
              "9603       0.752394       49936     250.057581  0.689505  0.983459   0.883271   \n",
              "2172       0.782514       58779     270.724007  0.710926  0.979312   0.743975   \n",
              "1582       0.601422       43682     234.968536  0.765140  0.992674   0.964881   \n",
              "\n",
              "       Compactness  ShapeFactor1  ShapeFactor2  ShapeFactor3  ShapeFactor4  \n",
              "683       0.923264      0.006315      0.002831      0.852416      0.998197  \n",
              "8952      0.790426      0.006692      0.001611      0.624773      0.997579  \n",
              "2465      0.865986      0.005091      0.001766      0.749931      0.986889  \n",
              "1521      0.866921      0.006298      0.002194      0.751551      0.999153  \n",
              "12080     0.852603      0.007296      0.002378      0.726932      0.996295  \n",
              "...            ...           ...           ...           ...           ...  \n",
              "2648      0.829642      0.005182      0.001514      0.688306      0.995454  \n",
              "1449      0.866840      0.006345      0.002210      0.751411      0.998250  \n",
              "9603      0.808054      0.006301      0.001657      0.652952      0.991252  \n",
              "2172      0.787822      0.005970      0.001419      0.620664      0.996838  \n",
              "1582      0.892871      0.006069      0.002379      0.797218      0.997855  \n",
              "\n",
              "[10888 rows x 16 columns]"
            ],
            "text/html": [
              "\n",
              "  <div id=\"df-fee11415-d203-46ed-a7e1-e02a89ebf2fc\">\n",
              "    <div class=\"colab-df-container\">\n",
              "      <div>\n",
              "<style scoped>\n",
              "    .dataframe tbody tr th:only-of-type {\n",
              "        vertical-align: middle;\n",
              "    }\n",
              "\n",
              "    .dataframe tbody tr th {\n",
              "        vertical-align: top;\n",
              "    }\n",
              "\n",
              "    .dataframe thead th {\n",
              "        text-align: right;\n",
              "    }\n",
              "</style>\n",
              "<table border=\"1\" class=\"dataframe\">\n",
              "  <thead>\n",
              "    <tr style=\"text-align: right;\">\n",
              "      <th></th>\n",
              "      <th>Area</th>\n",
              "      <th>Perimeter</th>\n",
              "      <th>MajorAxisLength</th>\n",
              "      <th>MinorAxisLength</th>\n",
              "      <th>AspectRation</th>\n",
              "      <th>Eccentricity</th>\n",
              "      <th>ConvexArea</th>\n",
              "      <th>EquivDiameter</th>\n",
              "      <th>Extent</th>\n",
              "      <th>Solidity</th>\n",
              "      <th>roundness</th>\n",
              "      <th>Compactness</th>\n",
              "      <th>ShapeFactor1</th>\n",
              "      <th>ShapeFactor2</th>\n",
              "      <th>ShapeFactor3</th>\n",
              "      <th>ShapeFactor4</th>\n",
              "    </tr>\n",
              "  </thead>\n",
              "  <tbody>\n",
              "    <tr>\n",
              "      <th>683</th>\n",
              "      <td>37453</td>\n",
              "      <td>706.241</td>\n",
              "      <td>236.522570</td>\n",
              "      <td>201.979709</td>\n",
              "      <td>1.171021</td>\n",
              "      <td>0.520346</td>\n",
              "      <td>37925</td>\n",
              "      <td>218.372710</td>\n",
              "      <td>0.754113</td>\n",
              "      <td>0.987554</td>\n",
              "      <td>0.943606</td>\n",
              "      <td>0.923264</td>\n",
              "      <td>0.006315</td>\n",
              "      <td>0.002831</td>\n",
              "      <td>0.852416</td>\n",
              "      <td>0.998197</td>\n",
              "    </tr>\n",
              "    <tr>\n",
              "      <th>8952</th>\n",
              "      <td>45502</td>\n",
              "      <td>797.005</td>\n",
              "      <td>304.515252</td>\n",
              "      <td>190.714687</td>\n",
              "      <td>1.596706</td>\n",
              "      <td>0.779591</td>\n",
              "      <td>45895</td>\n",
              "      <td>240.696792</td>\n",
              "      <td>0.790995</td>\n",
              "      <td>0.991437</td>\n",
              "      <td>0.900157</td>\n",
              "      <td>0.790426</td>\n",
              "      <td>0.006692</td>\n",
              "      <td>0.001611</td>\n",
              "      <td>0.624773</td>\n",
              "      <td>0.997579</td>\n",
              "    </tr>\n",
              "    <tr>\n",
              "      <th>2465</th>\n",
              "      <td>65503</td>\n",
              "      <td>1028.839</td>\n",
              "      <td>333.483926</td>\n",
              "      <td>253.412475</td>\n",
              "      <td>1.315973</td>\n",
              "      <td>0.650047</td>\n",
              "      <td>67100</td>\n",
              "      <td>288.792330</td>\n",
              "      <td>0.768093</td>\n",
              "      <td>0.976200</td>\n",
              "      <td>0.777636</td>\n",
              "      <td>0.865986</td>\n",
              "      <td>0.005091</td>\n",
              "      <td>0.001766</td>\n",
              "      <td>0.749931</td>\n",
              "      <td>0.986889</td>\n",
              "    </tr>\n",
              "    <tr>\n",
              "      <th>1521</th>\n",
              "      <td>42708</td>\n",
              "      <td>751.454</td>\n",
              "      <td>268.986447</td>\n",
              "      <td>202.328363</td>\n",
              "      <td>1.329455</td>\n",
              "      <td>0.658949</td>\n",
              "      <td>43057</td>\n",
              "      <td>233.189868</td>\n",
              "      <td>0.787476</td>\n",
              "      <td>0.991894</td>\n",
              "      <td>0.950417</td>\n",
              "      <td>0.866921</td>\n",
              "      <td>0.006298</td>\n",
              "      <td>0.002194</td>\n",
              "      <td>0.751551</td>\n",
              "      <td>0.999153</td>\n",
              "    </tr>\n",
              "    <tr>\n",
              "      <th>12080</th>\n",
              "      <td>32904</td>\n",
              "      <td>668.662</td>\n",
              "      <td>240.067010</td>\n",
              "      <td>175.161431</td>\n",
              "      <td>1.370547</td>\n",
              "      <td>0.683836</td>\n",
              "      <td>33244</td>\n",
              "      <td>204.681885</td>\n",
              "      <td>0.799145</td>\n",
              "      <td>0.989773</td>\n",
              "      <td>0.924795</td>\n",
              "      <td>0.852603</td>\n",
              "      <td>0.007296</td>\n",
              "      <td>0.002378</td>\n",
              "      <td>0.726932</td>\n",
              "      <td>0.996295</td>\n",
              "    </tr>\n",
              "    <tr>\n",
              "      <th>...</th>\n",
              "      <td>...</td>\n",
              "      <td>...</td>\n",
              "      <td>...</td>\n",
              "      <td>...</td>\n",
              "      <td>...</td>\n",
              "      <td>...</td>\n",
              "      <td>...</td>\n",
              "      <td>...</td>\n",
              "      <td>...</td>\n",
              "      <td>...</td>\n",
              "      <td>...</td>\n",
              "      <td>...</td>\n",
              "      <td>...</td>\n",
              "      <td>...</td>\n",
              "      <td>...</td>\n",
              "      <td>...</td>\n",
              "    </tr>\n",
              "    <tr>\n",
              "      <th>2648</th>\n",
              "      <td>68882</td>\n",
              "      <td>1003.476</td>\n",
              "      <td>356.958069</td>\n",
              "      <td>246.818247</td>\n",
              "      <td>1.446239</td>\n",
              "      <td>0.722425</td>\n",
              "      <td>69727</td>\n",
              "      <td>296.147406</td>\n",
              "      <td>0.778856</td>\n",
              "      <td>0.987881</td>\n",
              "      <td>0.859610</td>\n",
              "      <td>0.829642</td>\n",
              "      <td>0.005182</td>\n",
              "      <td>0.001514</td>\n",
              "      <td>0.688306</td>\n",
              "      <td>0.995454</td>\n",
              "    </tr>\n",
              "    <tr>\n",
              "      <th>1449</th>\n",
              "      <td>42094</td>\n",
              "      <td>743.573</td>\n",
              "      <td>267.070758</td>\n",
              "      <td>201.031702</td>\n",
              "      <td>1.328501</td>\n",
              "      <td>0.658331</td>\n",
              "      <td>42455</td>\n",
              "      <td>231.507549</td>\n",
              "      <td>0.787569</td>\n",
              "      <td>0.991497</td>\n",
              "      <td>0.956716</td>\n",
              "      <td>0.866840</td>\n",
              "      <td>0.006345</td>\n",
              "      <td>0.002210</td>\n",
              "      <td>0.751411</td>\n",
              "      <td>0.998250</td>\n",
              "    </tr>\n",
              "    <tr>\n",
              "      <th>9603</th>\n",
              "      <td>49110</td>\n",
              "      <td>835.878</td>\n",
              "      <td>309.456457</td>\n",
              "      <td>203.843231</td>\n",
              "      <td>1.518110</td>\n",
              "      <td>0.752394</td>\n",
              "      <td>49936</td>\n",
              "      <td>250.057581</td>\n",
              "      <td>0.689505</td>\n",
              "      <td>0.983459</td>\n",
              "      <td>0.883271</td>\n",
              "      <td>0.808054</td>\n",
              "      <td>0.006301</td>\n",
              "      <td>0.001657</td>\n",
              "      <td>0.652952</td>\n",
              "      <td>0.991252</td>\n",
              "    </tr>\n",
              "    <tr>\n",
              "      <th>2172</th>\n",
              "      <td>57563</td>\n",
              "      <td>986.047</td>\n",
              "      <td>343.635912</td>\n",
              "      <td>213.958916</td>\n",
              "      <td>1.606084</td>\n",
              "      <td>0.782514</td>\n",
              "      <td>58779</td>\n",
              "      <td>270.724007</td>\n",
              "      <td>0.710926</td>\n",
              "      <td>0.979312</td>\n",
              "      <td>0.743975</td>\n",
              "      <td>0.787822</td>\n",
              "      <td>0.005970</td>\n",
              "      <td>0.001419</td>\n",
              "      <td>0.620664</td>\n",
              "      <td>0.996838</td>\n",
              "    </tr>\n",
              "    <tr>\n",
              "      <th>1582</th>\n",
              "      <td>43362</td>\n",
              "      <td>751.489</td>\n",
              "      <td>263.160769</td>\n",
              "      <td>210.247428</td>\n",
              "      <td>1.251672</td>\n",
              "      <td>0.601422</td>\n",
              "      <td>43682</td>\n",
              "      <td>234.968536</td>\n",
              "      <td>0.765140</td>\n",
              "      <td>0.992674</td>\n",
              "      <td>0.964881</td>\n",
              "      <td>0.892871</td>\n",
              "      <td>0.006069</td>\n",
              "      <td>0.002379</td>\n",
              "      <td>0.797218</td>\n",
              "      <td>0.997855</td>\n",
              "    </tr>\n",
              "  </tbody>\n",
              "</table>\n",
              "<p>10888 rows × 16 columns</p>\n",
              "</div>\n",
              "      <button class=\"colab-df-convert\" onclick=\"convertToInteractive('df-fee11415-d203-46ed-a7e1-e02a89ebf2fc')\"\n",
              "              title=\"Convert this dataframe to an interactive table.\"\n",
              "              style=\"display:none;\">\n",
              "        \n",
              "  <svg xmlns=\"http://www.w3.org/2000/svg\" height=\"24px\"viewBox=\"0 0 24 24\"\n",
              "       width=\"24px\">\n",
              "    <path d=\"M0 0h24v24H0V0z\" fill=\"none\"/>\n",
              "    <path d=\"M18.56 5.44l.94 2.06.94-2.06 2.06-.94-2.06-.94-.94-2.06-.94 2.06-2.06.94zm-11 1L8.5 8.5l.94-2.06 2.06-.94-2.06-.94L8.5 2.5l-.94 2.06-2.06.94zm10 10l.94 2.06.94-2.06 2.06-.94-2.06-.94-.94-2.06-.94 2.06-2.06.94z\"/><path d=\"M17.41 7.96l-1.37-1.37c-.4-.4-.92-.59-1.43-.59-.52 0-1.04.2-1.43.59L10.3 9.45l-7.72 7.72c-.78.78-.78 2.05 0 2.83L4 21.41c.39.39.9.59 1.41.59.51 0 1.02-.2 1.41-.59l7.78-7.78 2.81-2.81c.8-.78.8-2.07 0-2.86zM5.41 20L4 18.59l7.72-7.72 1.47 1.35L5.41 20z\"/>\n",
              "  </svg>\n",
              "      </button>\n",
              "      \n",
              "  <style>\n",
              "    .colab-df-container {\n",
              "      display:flex;\n",
              "      flex-wrap:wrap;\n",
              "      gap: 12px;\n",
              "    }\n",
              "\n",
              "    .colab-df-convert {\n",
              "      background-color: #E8F0FE;\n",
              "      border: none;\n",
              "      border-radius: 50%;\n",
              "      cursor: pointer;\n",
              "      display: none;\n",
              "      fill: #1967D2;\n",
              "      height: 32px;\n",
              "      padding: 0 0 0 0;\n",
              "      width: 32px;\n",
              "    }\n",
              "\n",
              "    .colab-df-convert:hover {\n",
              "      background-color: #E2EBFA;\n",
              "      box-shadow: 0px 1px 2px rgba(60, 64, 67, 0.3), 0px 1px 3px 1px rgba(60, 64, 67, 0.15);\n",
              "      fill: #174EA6;\n",
              "    }\n",
              "\n",
              "    [theme=dark] .colab-df-convert {\n",
              "      background-color: #3B4455;\n",
              "      fill: #D2E3FC;\n",
              "    }\n",
              "\n",
              "    [theme=dark] .colab-df-convert:hover {\n",
              "      background-color: #434B5C;\n",
              "      box-shadow: 0px 1px 3px 1px rgba(0, 0, 0, 0.15);\n",
              "      filter: drop-shadow(0px 1px 2px rgba(0, 0, 0, 0.3));\n",
              "      fill: #FFFFFF;\n",
              "    }\n",
              "  </style>\n",
              "\n",
              "      <script>\n",
              "        const buttonEl =\n",
              "          document.querySelector('#df-fee11415-d203-46ed-a7e1-e02a89ebf2fc button.colab-df-convert');\n",
              "        buttonEl.style.display =\n",
              "          google.colab.kernel.accessAllowed ? 'block' : 'none';\n",
              "\n",
              "        async function convertToInteractive(key) {\n",
              "          const element = document.querySelector('#df-fee11415-d203-46ed-a7e1-e02a89ebf2fc');\n",
              "          const dataTable =\n",
              "            await google.colab.kernel.invokeFunction('convertToInteractive',\n",
              "                                                     [key], {});\n",
              "          if (!dataTable) return;\n",
              "\n",
              "          const docLinkHtml = 'Like what you see? Visit the ' +\n",
              "            '<a target=\"_blank\" href=https://colab.research.google.com/notebooks/data_table.ipynb>data table notebook</a>'\n",
              "            + ' to learn more about interactive tables.';\n",
              "          element.innerHTML = '';\n",
              "          dataTable['output_type'] = 'display_data';\n",
              "          await google.colab.output.renderOutput(dataTable, element);\n",
              "          const docLink = document.createElement('div');\n",
              "          docLink.innerHTML = docLinkHtml;\n",
              "          element.appendChild(docLink);\n",
              "        }\n",
              "      </script>\n",
              "    </div>\n",
              "  </div>\n",
              "  "
            ]
          },
          "metadata": {},
          "execution_count": 22
        }
      ],
      "source": [
        "x_train"
      ]
    },
    {
      "cell_type": "code",
      "execution_count": null,
      "metadata": {
        "id": "eoWypQbqBFqm"
      },
      "outputs": [],
      "source": [
        "# for checking the accuracy of model\n",
        "from sklearn.metrics import accuracy_score, classification_report"
      ]
    },
    {
      "cell_type": "code",
      "execution_count": null,
      "metadata": {
        "id": "9Whs-S_rBSSi"
      },
      "outputs": [],
      "source": [
        "# for labeling encode\n",
        "from sklearn.preprocessing import LabelEncoder"
      ]
    },
    {
      "cell_type": "code",
      "execution_count": null,
      "metadata": {
        "id": "-Fgs2Cj-BZnW"
      },
      "outputs": [],
      "source": [
        "# Initialize LabelEncoder object\n",
        "le = LabelEncoder()\n",
        "\n",
        "# Fit and transform multiclass_data\n",
        "Y_train = le.fit_transform(y_train)\n",
        "Y_test = le.fit_transform(y_test)"
      ]
    },
    {
      "cell_type": "markdown",
      "metadata": {
        "id": "pjqvGEJfDQ4f"
      },
      "source": [
        "Data Scaling"
      ]
    },
    {
      "cell_type": "code",
      "execution_count": null,
      "metadata": {
        "id": "-Z6J1QWkDRGO"
      },
      "outputs": [],
      "source": [
        "# perform feature scaling on the training and testing sets\n",
        "from sklearn.preprocessing import StandardScaler\n",
        "scaler = StandardScaler()\n",
        "X_train = scaler.fit_transform(x_train)\n",
        "X_test = scaler.fit_transform(x_test)"
      ]
    },
    {
      "cell_type": "code",
      "source": [
        "#inital store accuracy\n",
        "initial_All_Model_Acc = {}\n",
        "inital_All_Model_Training_Accuracy={}"
      ],
      "metadata": {
        "id": "0GvOlwS4wcEx"
      },
      "execution_count": null,
      "outputs": []
    },
    {
      "cell_type": "code",
      "execution_count": null,
      "metadata": {
        "id": "KC1c8Rj6BLv1"
      },
      "outputs": [],
      "source": [
        "# import the necessary libraries\n",
        "import tensorflow as tf\n",
        "from tensorflow import keras\n",
        "from tensorflow.keras import layers\n",
        "from tensorflow.keras import Sequential\n",
        "from tensorflow.keras.layers import Dense,Flatten, Dropout\n",
        "from tensorflow.keras.optimizers import Adam"
      ]
    },
    {
      "cell_type": "markdown",
      "metadata": {
        "id": "geZSV6XhB09U"
      },
      "source": [
        "ANN"
      ]
    },
    {
      "cell_type": "code",
      "execution_count": null,
      "metadata": {
        "id": "W_-S84vJBVlM"
      },
      "outputs": [],
      "source": [
        "# create a sequential model object\n",
        "model = Sequential()   \n",
        "\n",
        "# add a dense layer with 100 units, ReLU activation function, and input dimension of 16 to the model\n",
        "model.add(Dense(100,activation='relu',input_dim=16))\n",
        "\n",
        "# create a sequential model object\n",
        "model.add(Dense(50,activation='relu'))\n",
        "\n",
        "# create a sequential model object\n",
        "model.add(Dense(7,activation='softmax'))"
      ]
    },
    {
      "cell_type": "code",
      "source": [
        "#Complie the model\n",
        "model.compile(loss='sparse_categorical_crossentropy',  # Use sparse categorical cross-entropy as the loss function\n",
        "              optimizer=Adam(learning_rate=0.001),  # Use Adam optimizer with learning rate of 0.001\n",
        "              metrics=['accuracy'])  # Track accuracy as the evaluation metric"
      ],
      "metadata": {
        "id": "luCsUNkD0Oep"
      },
      "execution_count": null,
      "outputs": []
    },
    {
      "cell_type": "code",
      "execution_count": null,
      "metadata": {
        "colab": {
          "base_uri": "https://localhost:8080/"
        },
        "id": "kmuFSwf2COqm",
        "outputId": "49de2af3-8902-40ab-8a46-945ff1c52c99"
      },
      "outputs": [
        {
          "output_type": "stream",
          "name": "stdout",
          "text": [
            "Epoch 1/50\n",
            "341/341 - 2s - loss: 0.4691 - accuracy: 0.8599 - val_loss: 0.2251 - val_accuracy: 0.9174 - 2s/epoch - 5ms/step\n",
            "Epoch 2/50\n",
            "341/341 - 1s - loss: 0.2172 - accuracy: 0.9219 - val_loss: 0.2104 - val_accuracy: 0.9192 - 784ms/epoch - 2ms/step\n",
            "Epoch 3/50\n",
            "341/341 - 1s - loss: 0.2050 - accuracy: 0.9264 - val_loss: 0.1998 - val_accuracy: 0.9236 - 750ms/epoch - 2ms/step\n",
            "Epoch 4/50\n",
            "341/341 - 1s - loss: 0.1998 - accuracy: 0.9245 - val_loss: 0.1942 - val_accuracy: 0.9251 - 803ms/epoch - 2ms/step\n",
            "Epoch 5/50\n",
            "341/341 - 1s - loss: 0.1968 - accuracy: 0.9272 - val_loss: 0.1994 - val_accuracy: 0.9277 - 694ms/epoch - 2ms/step\n",
            "Epoch 6/50\n",
            "341/341 - 1s - loss: 0.1911 - accuracy: 0.9301 - val_loss: 0.1968 - val_accuracy: 0.9254 - 1s/epoch - 3ms/step\n",
            "Epoch 7/50\n",
            "341/341 - 1s - loss: 0.1911 - accuracy: 0.9277 - val_loss: 0.2040 - val_accuracy: 0.9273 - 1s/epoch - 4ms/step\n",
            "Epoch 8/50\n",
            "341/341 - 1s - loss: 0.1897 - accuracy: 0.9296 - val_loss: 0.1982 - val_accuracy: 0.9225 - 865ms/epoch - 3ms/step\n",
            "Epoch 9/50\n",
            "341/341 - 1s - loss: 0.1869 - accuracy: 0.9317 - val_loss: 0.1987 - val_accuracy: 0.9229 - 709ms/epoch - 2ms/step\n",
            "Epoch 10/50\n",
            "341/341 - 1s - loss: 0.1861 - accuracy: 0.9294 - val_loss: 0.1977 - val_accuracy: 0.9280 - 668ms/epoch - 2ms/step\n",
            "Epoch 11/50\n",
            "341/341 - 1s - loss: 0.1841 - accuracy: 0.9302 - val_loss: 0.1910 - val_accuracy: 0.9295 - 751ms/epoch - 2ms/step\n",
            "Epoch 12/50\n",
            "341/341 - 1s - loss: 0.1818 - accuracy: 0.9322 - val_loss: 0.1864 - val_accuracy: 0.9335 - 711ms/epoch - 2ms/step\n",
            "Epoch 13/50\n",
            "341/341 - 1s - loss: 0.1803 - accuracy: 0.9316 - val_loss: 0.2038 - val_accuracy: 0.9280 - 640ms/epoch - 2ms/step\n",
            "Epoch 14/50\n",
            "341/341 - 1s - loss: 0.1798 - accuracy: 0.9311 - val_loss: 0.1956 - val_accuracy: 0.9321 - 706ms/epoch - 2ms/step\n",
            "Epoch 15/50\n",
            "341/341 - 1s - loss: 0.1799 - accuracy: 0.9324 - val_loss: 0.1849 - val_accuracy: 0.9302 - 705ms/epoch - 2ms/step\n",
            "Epoch 16/50\n",
            "341/341 - 1s - loss: 0.1801 - accuracy: 0.9319 - val_loss: 0.1880 - val_accuracy: 0.9321 - 718ms/epoch - 2ms/step\n",
            "Epoch 17/50\n",
            "341/341 - 1s - loss: 0.1751 - accuracy: 0.9341 - val_loss: 0.1920 - val_accuracy: 0.9277 - 685ms/epoch - 2ms/step\n",
            "Epoch 18/50\n",
            "341/341 - 1s - loss: 0.1749 - accuracy: 0.9334 - val_loss: 0.1971 - val_accuracy: 0.9280 - 886ms/epoch - 3ms/step\n",
            "Epoch 19/50\n",
            "341/341 - 1s - loss: 0.1771 - accuracy: 0.9322 - val_loss: 0.1879 - val_accuracy: 0.9291 - 721ms/epoch - 2ms/step\n",
            "Epoch 20/50\n",
            "341/341 - 1s - loss: 0.1749 - accuracy: 0.9341 - val_loss: 0.2070 - val_accuracy: 0.9254 - 1s/epoch - 4ms/step\n",
            "Epoch 21/50\n",
            "341/341 - 2s - loss: 0.1716 - accuracy: 0.9331 - val_loss: 0.1848 - val_accuracy: 0.9317 - 2s/epoch - 6ms/step\n",
            "Epoch 22/50\n",
            "341/341 - 2s - loss: 0.1723 - accuracy: 0.9356 - val_loss: 0.1840 - val_accuracy: 0.9295 - 2s/epoch - 6ms/step\n",
            "Epoch 23/50\n",
            "341/341 - 1s - loss: 0.1713 - accuracy: 0.9339 - val_loss: 0.1865 - val_accuracy: 0.9299 - 1s/epoch - 4ms/step\n",
            "Epoch 24/50\n",
            "341/341 - 2s - loss: 0.1708 - accuracy: 0.9335 - val_loss: 0.1927 - val_accuracy: 0.9291 - 2s/epoch - 4ms/step\n",
            "Epoch 25/50\n",
            "341/341 - 1s - loss: 0.1696 - accuracy: 0.9369 - val_loss: 0.1904 - val_accuracy: 0.9295 - 1s/epoch - 4ms/step\n",
            "Epoch 26/50\n",
            "341/341 - 1s - loss: 0.1705 - accuracy: 0.9349 - val_loss: 0.1856 - val_accuracy: 0.9313 - 1s/epoch - 3ms/step\n",
            "Epoch 27/50\n",
            "341/341 - 2s - loss: 0.1706 - accuracy: 0.9346 - val_loss: 0.1883 - val_accuracy: 0.9317 - 2s/epoch - 4ms/step\n",
            "Epoch 28/50\n",
            "341/341 - 1s - loss: 0.1673 - accuracy: 0.9361 - val_loss: 0.1887 - val_accuracy: 0.9291 - 1s/epoch - 4ms/step\n",
            "Epoch 29/50\n",
            "341/341 - 1s - loss: 0.1659 - accuracy: 0.9382 - val_loss: 0.1820 - val_accuracy: 0.9321 - 1s/epoch - 4ms/step\n",
            "Epoch 30/50\n",
            "341/341 - 3s - loss: 0.1671 - accuracy: 0.9382 - val_loss: 0.1835 - val_accuracy: 0.9324 - 3s/epoch - 8ms/step\n",
            "Epoch 31/50\n",
            "341/341 - 2s - loss: 0.1669 - accuracy: 0.9363 - val_loss: 0.1880 - val_accuracy: 0.9306 - 2s/epoch - 6ms/step\n",
            "Epoch 32/50\n",
            "341/341 - 2s - loss: 0.1656 - accuracy: 0.9378 - val_loss: 0.1862 - val_accuracy: 0.9313 - 2s/epoch - 5ms/step\n",
            "Epoch 33/50\n",
            "341/341 - 1s - loss: 0.1661 - accuracy: 0.9364 - val_loss: 0.1819 - val_accuracy: 0.9313 - 1s/epoch - 4ms/step\n",
            "Epoch 34/50\n",
            "341/341 - 1s - loss: 0.1666 - accuracy: 0.9357 - val_loss: 0.1937 - val_accuracy: 0.9306 - 1s/epoch - 4ms/step\n",
            "Epoch 35/50\n",
            "341/341 - 2s - loss: 0.1625 - accuracy: 0.9375 - val_loss: 0.1906 - val_accuracy: 0.9310 - 2s/epoch - 5ms/step\n",
            "Epoch 36/50\n",
            "341/341 - 1s - loss: 0.1637 - accuracy: 0.9375 - val_loss: 0.1874 - val_accuracy: 0.9339 - 1s/epoch - 4ms/step\n",
            "Epoch 37/50\n",
            "341/341 - 2s - loss: 0.1619 - accuracy: 0.9383 - val_loss: 0.1876 - val_accuracy: 0.9324 - 2s/epoch - 7ms/step\n",
            "Epoch 38/50\n",
            "341/341 - 2s - loss: 0.1612 - accuracy: 0.9387 - val_loss: 0.1893 - val_accuracy: 0.9317 - 2s/epoch - 5ms/step\n",
            "Epoch 39/50\n",
            "341/341 - 2s - loss: 0.1611 - accuracy: 0.9395 - val_loss: 0.1896 - val_accuracy: 0.9310 - 2s/epoch - 5ms/step\n",
            "Epoch 40/50\n",
            "341/341 - 1s - loss: 0.1625 - accuracy: 0.9376 - val_loss: 0.1922 - val_accuracy: 0.9295 - 845ms/epoch - 2ms/step\n",
            "Epoch 41/50\n",
            "341/341 - 1s - loss: 0.1601 - accuracy: 0.9389 - val_loss: 0.1879 - val_accuracy: 0.9313 - 669ms/epoch - 2ms/step\n",
            "Epoch 42/50\n",
            "341/341 - 1s - loss: 0.1602 - accuracy: 0.9407 - val_loss: 0.1889 - val_accuracy: 0.9288 - 715ms/epoch - 2ms/step\n",
            "Epoch 43/50\n",
            "341/341 - 1s - loss: 0.1596 - accuracy: 0.9387 - val_loss: 0.1860 - val_accuracy: 0.9291 - 688ms/epoch - 2ms/step\n",
            "Epoch 44/50\n",
            "341/341 - 1s - loss: 0.1584 - accuracy: 0.9386 - val_loss: 0.1948 - val_accuracy: 0.9302 - 680ms/epoch - 2ms/step\n",
            "Epoch 45/50\n",
            "341/341 - 1s - loss: 0.1597 - accuracy: 0.9385 - val_loss: 0.1918 - val_accuracy: 0.9266 - 723ms/epoch - 2ms/step\n",
            "Epoch 46/50\n",
            "341/341 - 1s - loss: 0.1579 - accuracy: 0.9411 - val_loss: 0.1975 - val_accuracy: 0.9306 - 700ms/epoch - 2ms/step\n",
            "Epoch 47/50\n",
            "341/341 - 1s - loss: 0.1577 - accuracy: 0.9386 - val_loss: 0.1837 - val_accuracy: 0.9335 - 702ms/epoch - 2ms/step\n",
            "Epoch 48/50\n",
            "341/341 - 1s - loss: 0.1558 - accuracy: 0.9408 - val_loss: 0.1913 - val_accuracy: 0.9321 - 655ms/epoch - 2ms/step\n",
            "Epoch 49/50\n",
            "341/341 - 1s - loss: 0.1565 - accuracy: 0.9391 - val_loss: 0.1852 - val_accuracy: 0.9328 - 696ms/epoch - 2ms/step\n",
            "Epoch 50/50\n",
            "341/341 - 1s - loss: 0.1578 - accuracy: 0.9383 - val_loss: 0.1878 - val_accuracy: 0.9317 - 985ms/epoch - 3ms/step\n"
          ]
        }
      ],
      "source": [
        "# Train the ANN model on the training data for 50 epochs, with a 32 batch size\n",
        "# Print the training log information for each epoch (verbose=2)\n",
        "history = model.fit(X_train, Y_train, epochs=50, batch_size=32, verbose=2,validation_data=(X_test,Y_test))"
      ]
    },
    {
      "cell_type": "code",
      "execution_count": null,
      "metadata": {
        "id": "FghSWyGxEHSl",
        "colab": {
          "base_uri": "https://localhost:8080/"
        },
        "outputId": "d5f7af71-74e6-4b4e-e451-f1e9ebbfc156"
      },
      "outputs": [
        {
          "output_type": "stream",
          "name": "stdout",
          "text": [
            "86/86 [==============================] - 0s 2ms/step\n",
            "Testing ANN Accuracy:  0.9316929856775615\n",
            "341/341 [==============================] - 0s 1ms/step\n",
            "Training ANN Accuracy:  0.9436994856722998\n"
          ]
        }
      ],
      "source": [
        "# Use the trained model to make predictions on the testing dataset and calculate the accuracy of testing dataset\n",
        "y_pred = model.predict(X_test)  # Get predicted class probabilities of the testing dataset\n",
        "Y_pred_test = y_pred.argmax(axis=-1) # Convert above probabilities to class labels\n",
        "test_Accuracy = accuracy_score(Y_test,Y_pred_test)  # Calculate accuracy of predicted labels compared to actual labels\n",
        "print(\"Testing ANN Accuracy: \",test_Accuracy)  # Print the testing accuracy\n",
        "\n",
        "# Use the trained model to make predictions on the training dataset and calculate the accuracy of training dataset\n",
        "y_pred = model.predict(X_train)   # Get predicted class probabilities of the training dataset\n",
        "Y_pred = y_pred.argmax(axis=-1)   # Convert above probabilities to class labels\n",
        "train_Accuracy = accuracy_score(Y_train,Y_pred)  # Calculate accuracy of predicted labels compared to actual labels\n",
        "print(\"Training ANN Accuracy: \",train_Accuracy)  # Print the testing accuracy\n",
        "\n",
        "# Store the testing accuracy and training accuracy of the model in separate dictionaries\n",
        "initial_All_Model_Acc['Ann']= test_Accuracy*100    # Store testing accuracy\n",
        "inital_All_Model_Training_Accuracy['Ann']= train_Accuracy*100   # Store training accuracy"
      ]
    },
    {
      "cell_type": "markdown",
      "source": [
        "Visualizing model performance and classification report\n",
        "\n"
      ],
      "metadata": {
        "id": "hRPPoGx-oDOV"
      }
    },
    {
      "cell_type": "code",
      "source": [
        "from sklearn import metrics\n",
        "label_names = ['Seker', 'Barbunya', 'Bombay', 'Cali', 'Dermosan', 'Horoz','Sira']\n",
        "cm_cnn = metrics.confusion_matrix(Y_test, Y_pred_test)\n",
        "fig, ax = plt.subplots(figsize=(10, 8))\n",
        "ax = sns.heatmap(cm_cnn, annot=True, fmt='g', xticklabels=label_names, yticklabels=label_names)\n",
        "ax.set(ylabel=\"True Label\", xlabel=\"Predicted Label\")\n",
        "plt.show()"
      ],
      "metadata": {
        "colab": {
          "base_uri": "https://localhost:8080/",
          "height": 696
        },
        "id": "2lMGiNVriQ7n",
        "outputId": "2bb6efad-9afa-4363-f4a7-2bb0c80ec7ca"
      },
      "execution_count": null,
      "outputs": [
        {
          "output_type": "display_data",
          "data": {
            "text/plain": [
              "<Figure size 1000x800 with 2 Axes>"
            ],
            "image/png": "[encoded data removed]"
          },
          "metadata": {}
        }
      ]
    },
    {
      "cell_type": "code",
      "source": [
        "# Decode the numerical values back to categorical labels\n",
        "decoded_labels = le.inverse_transform([Y_pred[0]])\n",
        "print(decoded_labels)"
      ],
      "metadata": {
        "colab": {
          "base_uri": "https://localhost:8080/"
        },
        "id": "nId6euAFq1Cu",
        "outputId": "e3f29ee1-7200-4888-9f95-de330c0c3364"
      },
      "execution_count": null,
      "outputs": [
        {
          "output_type": "stream",
          "name": "stdout",
          "text": [
            "['HOROZ']\n"
          ]
        }
      ]
    },
    {
      "cell_type": "code",
      "source": [
        "\n",
        "# graph shown btween accuracy vs validation accuracy\n",
        "plt.plot(history.history['accuracy'],label='Training Accuracy')\n",
        "plt.plot(history.history['val_accuracy'],label='Validation Accuracy')\n",
        "plt.xlim(0, 50) # Set the x axis limits\n",
        "plt.ylim(0.8, 0.98) # Set the y axis limits\n",
        "plt.title('Accuracy over Epoch')\n",
        "plt.xlabel('Epoch')\n",
        "plt.ylabel('Accuracy')\n",
        "plt.legend()"
      ],
      "metadata": {
        "colab": {
          "base_uri": "https://localhost:8080/",
          "height": 489
        },
        "id": "0CN1Lu4eHK7E",
        "outputId": "5dacbcd7-17de-46a6-aec0-b7cad09a8d75"
      },
      "execution_count": null,
      "outputs": [
        {
          "output_type": "execute_result",
          "data": {
            "text/plain": [
              "<matplotlib.legend.Legend at 0x7ff5d8612af0>"
            ]
          },
          "metadata": {},
          "execution_count": 35
        },
        {
          "output_type": "display_data",
          "data": {
            "text/plain": [
              "<Figure size 640x480 with 1 Axes>"
            ],
            "image/png": "[encoded data removed]"
          },
          "metadata": {}
        }
      ]
    },
    {
      "cell_type": "code",
      "source": [
        "# Plot the training accuracy vs. epoch\n",
        "\n",
        "plt.plot(history.history['accuracy'],label='Training Accuracy')\n",
        "\n",
        "# Set as a x-axis limits to (0, 50) and y-axis limits to (0.8, 0.98)\n",
        "plt.xlim(0, 50)\n",
        "plt.ylim(0.8, 0.98)\n",
        "\n",
        "# Set the title of the plot graph to \"Accuracy Graph\" and the x- and y-axis labels\n",
        "plt.title('Accuracy Graph')\n",
        "plt.xlabel('Epoch')\n",
        "plt.ylabel('Accuracy')\n",
        "plt.legend()"
      ],
      "metadata": {
        "colab": {
          "base_uri": "https://localhost:8080/",
          "height": 489
        },
        "id": "FEKdLInlJRii",
        "outputId": "f884da12-75ad-4745-a58a-ea4f7156d1e8"
      },
      "execution_count": null,
      "outputs": [
        {
          "output_type": "execute_result",
          "data": {
            "text/plain": [
              "<matplotlib.legend.Legend at 0x7ff5cb75a790>"
            ]
          },
          "metadata": {},
          "execution_count": 36
        },
        {
          "output_type": "display_data",
          "data": {
            "text/plain": [
              "<Figure size 640x480 with 1 Axes>"
            ],
            "image/png": "[encoded data removed]"
          },
          "metadata": {}
        }
      ]
    },
    {
      "cell_type": "code",
      "source": [
        "from keras.utils import plot_model # Import the plot_model function from Keras utils\n",
        "plot_model(model, show_shapes=True) # # Generate a visualization of the model architecture with input/output shapes\n"
      ],
      "metadata": {
        "colab": {
          "base_uri": "https://localhost:8080/",
          "height": 422
        },
        "id": "O5EWBo2fL-k1",
        "outputId": "76faeeed-4212-43a9-8890-367997bd662c"
      },
      "execution_count": null,
      "outputs": [
        {
          "output_type": "execute_result",
          "data": {
            "image/png": "[encoded data removed]",
            "text/plain": [
              "<IPython.core.display.Image object>"
            ]
          },
          "metadata": {},
          "execution_count": 37
        }
      ]
    },
    {
      "cell_type": "code",
      "source": [
        "model.summary() # model summary"
      ],
      "metadata": {
        "colab": {
          "base_uri": "https://localhost:8080/"
        },
        "id": "0oIWg0sUM6zI",
        "outputId": "6a3fbc87-f226-4eb8-88ec-f88cac055930"
      },
      "execution_count": null,
      "outputs": [
        {
          "output_type": "stream",
          "name": "stdout",
          "text": [
            "Model: \"sequential\"\n",
            "_________________________________________________________________\n",
            " Layer (type)                Output Shape              Param #   \n",
            "=================================================================\n",
            " dense (Dense)               (None, 100)               1700      \n",
            "                                                                 \n",
            " dense_1 (Dense)             (None, 50)                5050      \n",
            "                                                                 \n",
            " dense_2 (Dense)             (None, 7)                 357       \n",
            "                                                                 \n",
            "=================================================================\n",
            "Total params: 7,107\n",
            "Trainable params: 7,107\n",
            "Non-trainable params: 0\n",
            "_________________________________________________________________\n"
          ]
        }
      ]
    },
    {
      "cell_type": "markdown",
      "source": [
        "Logistic Regression\n"
      ],
      "metadata": {
        "id": "ErgBaWaJNN3c"
      }
    },
    {
      "cell_type": "code",
      "source": [
        "from sklearn.linear_model import LogisticRegression"
      ],
      "metadata": {
        "id": "oo66nXGEM_Hw"
      },
      "execution_count": null,
      "outputs": []
    },
    {
      "cell_type": "code",
      "source": [
        "# Initialize a Logistic Regression model\n",
        "logreg = LogisticRegression()\n",
        "\n",
        "# Train the model on the training data\n",
        "logreg.fit(X_train, Y_train)\n"
      ],
      "metadata": {
        "colab": {
          "base_uri": "https://localhost:8080/",
          "height": 214
        },
        "id": "Ay8BzqAJNQPo",
        "outputId": "c09bbc7b-0573-4ca4-def9-193341d95f01"
      },
      "execution_count": null,
      "outputs": [
        {
          "output_type": "stream",
          "name": "stderr",
          "text": [
            "/usr/local/lib/python3.9/dist-packages/sklearn/linear_model/_logistic.py:458: ConvergenceWarning: lbfgs failed to converge (status=1):\n",
            "STOP: TOTAL NO. of ITERATIONS REACHED LIMIT.\n",
            "\n",
            "Increase the number of iterations (max_iter) or scale the data as shown in:\n",
            "    https://scikit-learn.org/stable/modules/preprocessing.html\n",
            "Please also refer to the documentation for alternative solver options:\n",
            "    https://scikit-learn.org/stable/modules/linear_model.html#logistic-regression\n",
            "  n_iter_i = _check_optimize_result(\n"
          ]
        },
        {
          "output_type": "execute_result",
          "data": {
            "text/plain": [
              "LogisticRegression()"
            ],
            "text/html": [
              "<style>#sk-container-id-1 {color: black;background-color: white;}#sk-container-id-1 pre{padding: 0;}#sk-container-id-1 div.sk-toggleable {background-color: white;}#sk-container-id-1 label.sk-toggleable__label {cursor: pointer;display: block;width: 100%;margin-bottom: 0;padding: 0.3em;box-sizing: border-box;text-align: center;}#sk-container-id-1 label.sk-toggleable__label-arrow:before {content: \"▸\";float: left;margin-right: 0.25em;color: #696969;}#sk-container-id-1 label.sk-toggleable__label-arrow:hover:before {color: black;}#sk-container-id-1 div.sk-estimator:hover label.sk-toggleable__label-arrow:before {color: black;}#sk-container-id-1 div.sk-toggleable__content {max-height: 0;max-width: 0;overflow: hidden;text-align: left;background-color: #f0f8ff;}#sk-container-id-1 div.sk-toggleable__content pre {margin: 0.2em;color: black;border-radius: 0.25em;background-color: #f0f8ff;}#sk-container-id-1 input.sk-toggleable__control:checked~div.sk-toggleable__content {max-height: 200px;max-width: 100%;overflow: auto;}#sk-container-id-1 input.sk-toggleable__control:checked~label.sk-toggleable__label-arrow:before {content: \"▾\";}#sk-container-id-1 div.sk-estimator input.sk-toggleable__control:checked~label.sk-toggleable__label {background-color: #d4ebff;}#sk-container-id-1 div.sk-label input.sk-toggleable__control:checked~label.sk-toggleable__label {background-color: #d4ebff;}#sk-container-id-1 input.sk-hidden--visually {border: 0;clip: rect(1px 1px 1px 1px);clip: rect(1px, 1px, 1px, 1px);height: 1px;margin: -1px;overflow: hidden;padding: 0;position: absolute;width: 1px;}#sk-container-id-1 div.sk-estimator {font-family: monospace;background-color: #f0f8ff;border: 1px dotted black;border-radius: 0.25em;box-sizing: border-box;margin-bottom: 0.5em;}#sk-container-id-1 div.sk-estimator:hover {background-color: #d4ebff;}#sk-container-id-1 div.sk-parallel-item::after {content: \"\";width: 100%;border-bottom: 1px solid gray;flex-grow: 1;}#sk-container-id-1 div.sk-label:hover label.sk-toggleable__label {background-color: #d4ebff;}#sk-container-id-1 div.sk-serial::before {content: \"\";position: absolute;border-left: 1px solid gray;box-sizing: border-box;top: 0;bottom: 0;left: 50%;z-index: 0;}#sk-container-id-1 div.sk-serial {display: flex;flex-direction: column;align-items: center;background-color: white;padding-right: 0.2em;padding-left: 0.2em;position: relative;}#sk-container-id-1 div.sk-item {position: relative;z-index: 1;}#sk-container-id-1 div.sk-parallel {display: flex;align-items: stretch;justify-content: center;background-color: white;position: relative;}#sk-container-id-1 div.sk-item::before, #sk-container-id-1 div.sk-parallel-item::before {content: \"\";position: absolute;border-left: 1px solid gray;box-sizing: border-box;top: 0;bottom: 0;left: 50%;z-index: -1;}#sk-container-id-1 div.sk-parallel-item {display: flex;flex-direction: column;z-index: 1;position: relative;background-color: white;}#sk-container-id-1 div.sk-parallel-item:first-child::after {align-self: flex-end;width: 50%;}#sk-container-id-1 div.sk-parallel-item:last-child::after {align-self: flex-start;width: 50%;}#sk-container-id-1 div.sk-parallel-item:only-child::after {width: 0;}#sk-container-id-1 div.sk-dashed-wrapped {border: 1px dashed gray;margin: 0 0.4em 0.5em 0.4em;box-sizing: border-box;padding-bottom: 0.4em;background-color: white;}#sk-container-id-1 div.sk-label label {font-family: monospace;font-weight: bold;display: inline-block;line-height: 1.2em;}#sk-container-id-1 div.sk-label-container {text-align: center;}#sk-container-id-1 div.sk-container {/* jupyter's `normalize.less` sets `[hidden] { display: none; }` but bootstrap.min.css set `[hidden] { display: none !important; }` so we also need the `!important` here to be able to override the default hidden behavior on the sphinx rendered scikit-learn.org. See: https://github.com/scikit-learn/scikit-learn/issues/21755 */display: inline-block !important;position: relative;}#sk-container-id-1 div.sk-text-repr-fallback {display: none;}</style><div id=\"sk-container-id-1\" class=\"sk-top-container\"><div class=\"sk-text-repr-fallback\"><pre>LogisticRegression()</pre><b>In a Jupyter environment, please rerun this cell to show the HTML representation or trust the notebook. <br />On GitHub, the HTML representation is unable to render, please try loading this page with nbviewer.org.</b></div><div class=\"sk-container\" hidden><div class=\"sk-item\"><div class=\"sk-estimator sk-toggleable\"><input class=\"sk-toggleable__control sk-hidden--visually\" id=\"sk-estimator-id-1\" type=\"checkbox\" checked><label for=\"sk-estimator-id-1\" class=\"sk-toggleable__label sk-toggleable__label-arrow\">LogisticRegression</label><div class=\"sk-toggleable__content\"><pre>LogisticRegression()</pre></div></div></div></div></div>"
            ]
          },
          "metadata": {},
          "execution_count": 40
        }
      ]
    },
    {
      "cell_type": "code",
      "source": [
        "# Make predictions on the testing data and Calculate the accuracy of the Logistic Regression model\n",
        "\n",
        "# Predict on the testing data\n",
        "y_pred = logreg.predict(X_test) # Predict on the testing data\n",
        "test_Accuracy = accuracy_score(Y_test, y_pred) # Calculate the accuracy of the model on testing data\n",
        "print(\"Logistic Testing Accuracy:\", test_Accuracy) \n",
        "\n",
        "# Predict on the training data\n",
        "y_pred = logreg.predict(X_train) # Predict on the training data\n",
        "train_Accuracy = accuracy_score(Y_train, y_pred) # Calculate the accuracy of the model on training data\n",
        "print(\"Logistic Training Accuracy:\", train_Accuracy)\n",
        "\n",
        "initial_All_Model_Acc['Logistic']= test_Accuracy*100   # Store the testing accuracy in a dictionary\n",
        "inital_All_Model_Training_Accuracy['Logistic']= train_Accuracy*100  # Store the training accuracy in a dictionary"
      ],
      "metadata": {
        "colab": {
          "base_uri": "https://localhost:8080/"
        },
        "id": "9eSKS4VcNS2o",
        "outputId": "39cbc103-c5e1-4978-a72f-43248dd902ac"
      },
      "execution_count": null,
      "outputs": [
        {
          "output_type": "stream",
          "name": "stdout",
          "text": [
            "Logistic Testing Accuracy: 0.9217774513404333\n",
            "Logistic Training Accuracy: 0.924504041146216\n"
          ]
        }
      ]
    },
    {
      "cell_type": "markdown",
      "source": [
        "KNN classification"
      ],
      "metadata": {
        "id": "fRSNpQVTPG6v"
      }
    },
    {
      "cell_type": "code",
      "source": [
        "\n",
        "\n",
        "from sklearn.neighbors import KNeighborsClassifier"
      ],
      "metadata": {
        "id": "EC56v_YAOEbw"
      },
      "execution_count": null,
      "outputs": []
    },
    {
      "cell_type": "code",
      "source": [
        "# Create a k-NN classifier with k=3\n",
        "knn = KNeighborsClassifier(n_neighbors=3)\n",
        "\n"
      ],
      "metadata": {
        "id": "hgiEQmZ7jpow"
      },
      "execution_count": null,
      "outputs": []
    },
    {
      "cell_type": "code",
      "source": [
        "# Train the classifier\n",
        "knn.fit(X_train, Y_train)"
      ],
      "metadata": {
        "colab": {
          "base_uri": "https://localhost:8080/",
          "height": 75
        },
        "id": "pcf_yE0-jt4o",
        "outputId": "6bcffa93-73fd-4d34-ee4c-3ea8afe92770"
      },
      "execution_count": null,
      "outputs": [
        {
          "output_type": "execute_result",
          "data": {
            "text/plain": [
              "KNeighborsClassifier(n_neighbors=3)"
            ],
            "text/html": [
              "<style>#sk-container-id-2 {color: black;background-color: white;}#sk-container-id-2 pre{padding: 0;}#sk-container-id-2 div.sk-toggleable {background-color: white;}#sk-container-id-2 label.sk-toggleable__label {cursor: pointer;display: block;width: 100%;margin-bottom: 0;padding: 0.3em;box-sizing: border-box;text-align: center;}#sk-container-id-2 label.sk-toggleable__label-arrow:before {content: \"▸\";float: left;margin-right: 0.25em;color: #696969;}#sk-container-id-2 label.sk-toggleable__label-arrow:hover:before {color: black;}#sk-container-id-2 div.sk-estimator:hover label.sk-toggleable__label-arrow:before {color: black;}#sk-container-id-2 div.sk-toggleable__content {max-height: 0;max-width: 0;overflow: hidden;text-align: left;background-color: #f0f8ff;}#sk-container-id-2 div.sk-toggleable__content pre {margin: 0.2em;color: black;border-radius: 0.25em;background-color: #f0f8ff;}#sk-container-id-2 input.sk-toggleable__control:checked~div.sk-toggleable__content {max-height: 200px;max-width: 100%;overflow: auto;}#sk-container-id-2 input.sk-toggleable__control:checked~label.sk-toggleable__label-arrow:before {content: \"▾\";}#sk-container-id-2 div.sk-estimator input.sk-toggleable__control:checked~label.sk-toggleable__label {background-color: #d4ebff;}#sk-container-id-2 div.sk-label input.sk-toggleable__control:checked~label.sk-toggleable__label {background-color: #d4ebff;}#sk-container-id-2 input.sk-hidden--visually {border: 0;clip: rect(1px 1px 1px 1px);clip: rect(1px, 1px, 1px, 1px);height: 1px;margin: -1px;overflow: hidden;padding: 0;position: absolute;width: 1px;}#sk-container-id-2 div.sk-estimator {font-family: monospace;background-color: #f0f8ff;border: 1px dotted black;border-radius: 0.25em;box-sizing: border-box;margin-bottom: 0.5em;}#sk-container-id-2 div.sk-estimator:hover {background-color: #d4ebff;}#sk-container-id-2 div.sk-parallel-item::after {content: \"\";width: 100%;border-bottom: 1px solid gray;flex-grow: 1;}#sk-container-id-2 div.sk-label:hover label.sk-toggleable__label {background-color: #d4ebff;}#sk-container-id-2 div.sk-serial::before {content: \"\";position: absolute;border-left: 1px solid gray;box-sizing: border-box;top: 0;bottom: 0;left: 50%;z-index: 0;}#sk-container-id-2 div.sk-serial {display: flex;flex-direction: column;align-items: center;background-color: white;padding-right: 0.2em;padding-left: 0.2em;position: relative;}#sk-container-id-2 div.sk-item {position: relative;z-index: 1;}#sk-container-id-2 div.sk-parallel {display: flex;align-items: stretch;justify-content: center;background-color: white;position: relative;}#sk-container-id-2 div.sk-item::before, #sk-container-id-2 div.sk-parallel-item::before {content: \"\";position: absolute;border-left: 1px solid gray;box-sizing: border-box;top: 0;bottom: 0;left: 50%;z-index: -1;}#sk-container-id-2 div.sk-parallel-item {display: flex;flex-direction: column;z-index: 1;position: relative;background-color: white;}#sk-container-id-2 div.sk-parallel-item:first-child::after {align-self: flex-end;width: 50%;}#sk-container-id-2 div.sk-parallel-item:last-child::after {align-self: flex-start;width: 50%;}#sk-container-id-2 div.sk-parallel-item:only-child::after {width: 0;}#sk-container-id-2 div.sk-dashed-wrapped {border: 1px dashed gray;margin: 0 0.4em 0.5em 0.4em;box-sizing: border-box;padding-bottom: 0.4em;background-color: white;}#sk-container-id-2 div.sk-label label {font-family: monospace;font-weight: bold;display: inline-block;line-height: 1.2em;}#sk-container-id-2 div.sk-label-container {text-align: center;}#sk-container-id-2 div.sk-container {/* jupyter's `normalize.less` sets `[hidden] { display: none; }` but bootstrap.min.css set `[hidden] { display: none !important; }` so we also need the `!important` here to be able to override the default hidden behavior on the sphinx rendered scikit-learn.org. See: https://github.com/scikit-learn/scikit-learn/issues/21755 */display: inline-block !important;position: relative;}#sk-container-id-2 div.sk-text-repr-fallback {display: none;}</style><div id=\"sk-container-id-2\" class=\"sk-top-container\"><div class=\"sk-text-repr-fallback\"><pre>KNeighborsClassifier(n_neighbors=3)</pre><b>In a Jupyter environment, please rerun this cell to show the HTML representation or trust the notebook. <br />On GitHub, the HTML representation is unable to render, please try loading this page with nbviewer.org.</b></div><div class=\"sk-container\" hidden><div class=\"sk-item\"><div class=\"sk-estimator sk-toggleable\"><input class=\"sk-toggleable__control sk-hidden--visually\" id=\"sk-estimator-id-2\" type=\"checkbox\" checked><label for=\"sk-estimator-id-2\" class=\"sk-toggleable__label sk-toggleable__label-arrow\">KNeighborsClassifier</label><div class=\"sk-toggleable__content\"><pre>KNeighborsClassifier(n_neighbors=3)</pre></div></div></div></div></div>"
            ]
          },
          "metadata": {},
          "execution_count": 44
        }
      ]
    },
    {
      "cell_type": "code",
      "source": [
        "# Make predictions on the testing data and Calculate the accuracy of the KNN model\n",
        "\n",
        "# Use the KNN model to predict the output of the testing dataset (X_test)\n",
        "y_pred = knn.predict(X_test)\n",
        "test_Accuracy = accuracy_score(Y_test, y_pred) # Calculate the accuracy of the predicted output (y_pred) against the true output (Y_test)\n",
        "print(\"KNN Testing Accuracy:\", test_Accuracy)\n",
        "\n",
        "# Use the KNN model to predict the output of the training dataset (X_train)\n",
        "y_pred = knn.predict(X_train)\n",
        "train_Accuracy = accuracy_score(Y_train, y_pred) # Calculate the accuracy of the predicted output (y_pred) against the true output (Y_train)\n",
        "print(\"KNN Training Accuracy:\", train_Accuracy)\n",
        "\n",
        "initial_All_Model_Acc['KNN']= test_Accuracy*100    # Store the testing accuracy in a dictionary\n",
        "inital_All_Model_Training_Accuracy['KNN']= train_Accuracy*100  # Store the training accuracy in a dictionary"
      ],
      "metadata": {
        "colab": {
          "base_uri": "https://localhost:8080/"
        },
        "id": "UpQ7CVfjjuJP",
        "outputId": "954fbe6b-47cd-40c8-e792-7adb72be75bf"
      },
      "execution_count": null,
      "outputs": [
        {
          "output_type": "stream",
          "name": "stdout",
          "text": [
            "KNN Testing Accuracy: 0.914799853103195\n",
            "KNN Training Accuracy: 0.9518736223365173\n"
          ]
        }
      ]
    },
    {
      "cell_type": "markdown",
      "source": [
        "Decision Tree"
      ],
      "metadata": {
        "id": "25fQAfMPqv3P"
      }
    },
    {
      "cell_type": "code",
      "source": [
        "from sklearn.tree import DecisionTreeClassifier"
      ],
      "metadata": {
        "id": "aOJYwCCkj_7p"
      },
      "execution_count": null,
      "outputs": []
    },
    {
      "cell_type": "code",
      "source": [
        "# Create the decision tree classifier object\n",
        "clf = DecisionTreeClassifier()\n"
      ],
      "metadata": {
        "id": "hRpxcRWhqxry"
      },
      "execution_count": null,
      "outputs": []
    },
    {
      "cell_type": "code",
      "source": [
        "# Train the classifier on the training data\n",
        "clf.fit(X_train, Y_train)"
      ],
      "metadata": {
        "colab": {
          "base_uri": "https://localhost:8080/",
          "height": 75
        },
        "id": "ciaJnCSdq0GN",
        "outputId": "bb315812-84dd-48c8-e71d-f3119b554889"
      },
      "execution_count": null,
      "outputs": [
        {
          "output_type": "execute_result",
          "data": {
            "text/plain": [
              "DecisionTreeClassifier()"
            ],
            "text/html": [
              "<style>#sk-container-id-3 {color: black;background-color: white;}#sk-container-id-3 pre{padding: 0;}#sk-container-id-3 div.sk-toggleable {background-color: white;}#sk-container-id-3 label.sk-toggleable__label {cursor: pointer;display: block;width: 100%;margin-bottom: 0;padding: 0.3em;box-sizing: border-box;text-align: center;}#sk-container-id-3 label.sk-toggleable__label-arrow:before {content: \"▸\";float: left;margin-right: 0.25em;color: #696969;}#sk-container-id-3 label.sk-toggleable__label-arrow:hover:before {color: black;}#sk-container-id-3 div.sk-estimator:hover label.sk-toggleable__label-arrow:before {color: black;}#sk-container-id-3 div.sk-toggleable__content {max-height: 0;max-width: 0;overflow: hidden;text-align: left;background-color: #f0f8ff;}#sk-container-id-3 div.sk-toggleable__content pre {margin: 0.2em;color: black;border-radius: 0.25em;background-color: #f0f8ff;}#sk-container-id-3 input.sk-toggleable__control:checked~div.sk-toggleable__content {max-height: 200px;max-width: 100%;overflow: auto;}#sk-container-id-3 input.sk-toggleable__control:checked~label.sk-toggleable__label-arrow:before {content: \"▾\";}#sk-container-id-3 div.sk-estimator input.sk-toggleable__control:checked~label.sk-toggleable__label {background-color: #d4ebff;}#sk-container-id-3 div.sk-label input.sk-toggleable__control:checked~label.sk-toggleable__label {background-color: #d4ebff;}#sk-container-id-3 input.sk-hidden--visually {border: 0;clip: rect(1px 1px 1px 1px);clip: rect(1px, 1px, 1px, 1px);height: 1px;margin: -1px;overflow: hidden;padding: 0;position: absolute;width: 1px;}#sk-container-id-3 div.sk-estimator {font-family: monospace;background-color: #f0f8ff;border: 1px dotted black;border-radius: 0.25em;box-sizing: border-box;margin-bottom: 0.5em;}#sk-container-id-3 div.sk-estimator:hover {background-color: #d4ebff;}#sk-container-id-3 div.sk-parallel-item::after {content: \"\";width: 100%;border-bottom: 1px solid gray;flex-grow: 1;}#sk-container-id-3 div.sk-label:hover label.sk-toggleable__label {background-color: #d4ebff;}#sk-container-id-3 div.sk-serial::before {content: \"\";position: absolute;border-left: 1px solid gray;box-sizing: border-box;top: 0;bottom: 0;left: 50%;z-index: 0;}#sk-container-id-3 div.sk-serial {display: flex;flex-direction: column;align-items: center;background-color: white;padding-right: 0.2em;padding-left: 0.2em;position: relative;}#sk-container-id-3 div.sk-item {position: relative;z-index: 1;}#sk-container-id-3 div.sk-parallel {display: flex;align-items: stretch;justify-content: center;background-color: white;position: relative;}#sk-container-id-3 div.sk-item::before, #sk-container-id-3 div.sk-parallel-item::before {content: \"\";position: absolute;border-left: 1px solid gray;box-sizing: border-box;top: 0;bottom: 0;left: 50%;z-index: -1;}#sk-container-id-3 div.sk-parallel-item {display: flex;flex-direction: column;z-index: 1;position: relative;background-color: white;}#sk-container-id-3 div.sk-parallel-item:first-child::after {align-self: flex-end;width: 50%;}#sk-container-id-3 div.sk-parallel-item:last-child::after {align-self: flex-start;width: 50%;}#sk-container-id-3 div.sk-parallel-item:only-child::after {width: 0;}#sk-container-id-3 div.sk-dashed-wrapped {border: 1px dashed gray;margin: 0 0.4em 0.5em 0.4em;box-sizing: border-box;padding-bottom: 0.4em;background-color: white;}#sk-container-id-3 div.sk-label label {font-family: monospace;font-weight: bold;display: inline-block;line-height: 1.2em;}#sk-container-id-3 div.sk-label-container {text-align: center;}#sk-container-id-3 div.sk-container {/* jupyter's `normalize.less` sets `[hidden] { display: none; }` but bootstrap.min.css set `[hidden] { display: none !important; }` so we also need the `!important` here to be able to override the default hidden behavior on the sphinx rendered scikit-learn.org. See: https://github.com/scikit-learn/scikit-learn/issues/21755 */display: inline-block !important;position: relative;}#sk-container-id-3 div.sk-text-repr-fallback {display: none;}</style><div id=\"sk-container-id-3\" class=\"sk-top-container\"><div class=\"sk-text-repr-fallback\"><pre>DecisionTreeClassifier()</pre><b>In a Jupyter environment, please rerun this cell to show the HTML representation or trust the notebook. <br />On GitHub, the HTML representation is unable to render, please try loading this page with nbviewer.org.</b></div><div class=\"sk-container\" hidden><div class=\"sk-item\"><div class=\"sk-estimator sk-toggleable\"><input class=\"sk-toggleable__control sk-hidden--visually\" id=\"sk-estimator-id-3\" type=\"checkbox\" checked><label for=\"sk-estimator-id-3\" class=\"sk-toggleable__label sk-toggleable__label-arrow\">DecisionTreeClassifier</label><div class=\"sk-toggleable__content\"><pre>DecisionTreeClassifier()</pre></div></div></div></div></div>"
            ]
          },
          "metadata": {},
          "execution_count": 48
        }
      ]
    },
    {
      "cell_type": "code",
      "source": [
        "# Make predictions on the testing data and Calculate the accuracy of the Decision Tree model\n",
        "\n",
        "# Predict the class labels of test instances\n",
        "y_pred = clf.predict(X_test)\n",
        "test_Accuracy = accuracy_score(Y_test, y_pred)  # Calculate the accuracy of the model on test data\n",
        "print(\"Decision Tree Testing Accuracy:\", test_Accuracy)\n",
        "\n",
        "# Predict the class labels of train instances\n",
        "y_pred = clf.predict(X_train)\n",
        "train_Accuracy = accuracy_score(Y_train, y_pred)  # Calculate the accuracy of the model on train data\n",
        "print(\"Decision Tree Training Accuracy:\", train_Accuracy)\n",
        "\n",
        "initial_All_Model_Acc['decision_Tree']= test_Accuracy*100  # Save the testing accuracy in a dictionary with key 'decision_Tree'\n",
        "inital_All_Model_Training_Accuracy['decision_Tree']= train_Accuracy*100   # Save the training accuracy in a dictionary with key 'decision_Tree'"
      ],
      "metadata": {
        "colab": {
          "base_uri": "https://localhost:8080/"
        },
        "id": "k_w_Yhpoq37N",
        "outputId": "b597af50-2382-4695-95e8-13b41a654dd6"
      },
      "execution_count": null,
      "outputs": [
        {
          "output_type": "stream",
          "name": "stdout",
          "text": [
            "Decision Tree Testing Accuracy: 0.8872567021667279\n",
            "Decision Tree Training Accuracy: 1.0\n"
          ]
        }
      ]
    },
    {
      "cell_type": "markdown",
      "source": [
        "Random Forest"
      ],
      "metadata": {
        "id": "oqf0PIqkrb23"
      }
    },
    {
      "cell_type": "code",
      "source": [
        "from sklearn.ensemble import RandomForestClassifier"
      ],
      "metadata": {
        "id": "Gh9h0N8prKb1"
      },
      "execution_count": null,
      "outputs": []
    },
    {
      "cell_type": "code",
      "source": [
        "\n",
        "# Create the random forest classifier object\n",
        "random_model = RandomForestClassifier(n_estimators=500, random_state = 42)"
      ],
      "metadata": {
        "id": "filn5jHPrdgz"
      },
      "execution_count": null,
      "outputs": []
    },
    {
      "cell_type": "code",
      "source": [
        "# Fit the model to the training data\n",
        "random_model.fit(X_train, Y_train)\n"
      ],
      "metadata": {
        "colab": {
          "base_uri": "https://localhost:8080/",
          "height": 75
        },
        "id": "mCCpWiL8rfj1",
        "outputId": "f55fad8b-3aed-4249-f1e5-e0acfed45f30"
      },
      "execution_count": null,
      "outputs": [
        {
          "output_type": "execute_result",
          "data": {
            "text/plain": [
              "RandomForestClassifier(n_estimators=500, random_state=42)"
            ],
            "text/html": [
              "<style>#sk-container-id-4 {color: black;background-color: white;}#sk-container-id-4 pre{padding: 0;}#sk-container-id-4 div.sk-toggleable {background-color: white;}#sk-container-id-4 label.sk-toggleable__label {cursor: pointer;display: block;width: 100%;margin-bottom: 0;padding: 0.3em;box-sizing: border-box;text-align: center;}#sk-container-id-4 label.sk-toggleable__label-arrow:before {content: \"▸\";float: left;margin-right: 0.25em;color: #696969;}#sk-container-id-4 label.sk-toggleable__label-arrow:hover:before {color: black;}#sk-container-id-4 div.sk-estimator:hover label.sk-toggleable__label-arrow:before {color: black;}#sk-container-id-4 div.sk-toggleable__content {max-height: 0;max-width: 0;overflow: hidden;text-align: left;background-color: #f0f8ff;}#sk-container-id-4 div.sk-toggleable__content pre {margin: 0.2em;color: black;border-radius: 0.25em;background-color: #f0f8ff;}#sk-container-id-4 input.sk-toggleable__control:checked~div.sk-toggleable__content {max-height: 200px;max-width: 100%;overflow: auto;}#sk-container-id-4 input.sk-toggleable__control:checked~label.sk-toggleable__label-arrow:before {content: \"▾\";}#sk-container-id-4 div.sk-estimator input.sk-toggleable__control:checked~label.sk-toggleable__label {background-color: #d4ebff;}#sk-container-id-4 div.sk-label input.sk-toggleable__control:checked~label.sk-toggleable__label {background-color: #d4ebff;}#sk-container-id-4 input.sk-hidden--visually {border: 0;clip: rect(1px 1px 1px 1px);clip: rect(1px, 1px, 1px, 1px);height: 1px;margin: -1px;overflow: hidden;padding: 0;position: absolute;width: 1px;}#sk-container-id-4 div.sk-estimator {font-family: monospace;background-color: #f0f8ff;border: 1px dotted black;border-radius: 0.25em;box-sizing: border-box;margin-bottom: 0.5em;}#sk-container-id-4 div.sk-estimator:hover {background-color: #d4ebff;}#sk-container-id-4 div.sk-parallel-item::after {content: \"\";width: 100%;border-bottom: 1px solid gray;flex-grow: 1;}#sk-container-id-4 div.sk-label:hover label.sk-toggleable__label {background-color: #d4ebff;}#sk-container-id-4 div.sk-serial::before {content: \"\";position: absolute;border-left: 1px solid gray;box-sizing: border-box;top: 0;bottom: 0;left: 50%;z-index: 0;}#sk-container-id-4 div.sk-serial {display: flex;flex-direction: column;align-items: center;background-color: white;padding-right: 0.2em;padding-left: 0.2em;position: relative;}#sk-container-id-4 div.sk-item {position: relative;z-index: 1;}#sk-container-id-4 div.sk-parallel {display: flex;align-items: stretch;justify-content: center;background-color: white;position: relative;}#sk-container-id-4 div.sk-item::before, #sk-container-id-4 div.sk-parallel-item::before {content: \"\";position: absolute;border-left: 1px solid gray;box-sizing: border-box;top: 0;bottom: 0;left: 50%;z-index: -1;}#sk-container-id-4 div.sk-parallel-item {display: flex;flex-direction: column;z-index: 1;position: relative;background-color: white;}#sk-container-id-4 div.sk-parallel-item:first-child::after {align-self: flex-end;width: 50%;}#sk-container-id-4 div.sk-parallel-item:last-child::after {align-self: flex-start;width: 50%;}#sk-container-id-4 div.sk-parallel-item:only-child::after {width: 0;}#sk-container-id-4 div.sk-dashed-wrapped {border: 1px dashed gray;margin: 0 0.4em 0.5em 0.4em;box-sizing: border-box;padding-bottom: 0.4em;background-color: white;}#sk-container-id-4 div.sk-label label {font-family: monospace;font-weight: bold;display: inline-block;line-height: 1.2em;}#sk-container-id-4 div.sk-label-container {text-align: center;}#sk-container-id-4 div.sk-container {/* jupyter's `normalize.less` sets `[hidden] { display: none; }` but bootstrap.min.css set `[hidden] { display: none !important; }` so we also need the `!important` here to be able to override the default hidden behavior on the sphinx rendered scikit-learn.org. See: https://github.com/scikit-learn/scikit-learn/issues/21755 */display: inline-block !important;position: relative;}#sk-container-id-4 div.sk-text-repr-fallback {display: none;}</style><div id=\"sk-container-id-4\" class=\"sk-top-container\"><div class=\"sk-text-repr-fallback\"><pre>RandomForestClassifier(n_estimators=500, random_state=42)</pre><b>In a Jupyter environment, please rerun this cell to show the HTML representation or trust the notebook. <br />On GitHub, the HTML representation is unable to render, please try loading this page with nbviewer.org.</b></div><div class=\"sk-container\" hidden><div class=\"sk-item\"><div class=\"sk-estimator sk-toggleable\"><input class=\"sk-toggleable__control sk-hidden--visually\" id=\"sk-estimator-id-4\" type=\"checkbox\" checked><label for=\"sk-estimator-id-4\" class=\"sk-toggleable__label sk-toggleable__label-arrow\">RandomForestClassifier</label><div class=\"sk-toggleable__content\"><pre>RandomForestClassifier(n_estimators=500, random_state=42)</pre></div></div></div></div></div>"
            ]
          },
          "metadata": {},
          "execution_count": 52
        }
      ]
    },
    {
      "cell_type": "code",
      "source": [
        "# Make predictions on the testing data and Calculate the accuracy of the Random Forest model\n",
        "\n",
        "y_pred = random_model.predict(X_test) # Predict using the Random Forest model on X_test data\n",
        "test_Accuracy = accuracy_score(Y_test, y_pred)  # Calculate the accuracy of Random Forest model using Y_test and y_pred\n",
        "print(\"Random Forest Testing Accuracy:\", test_Accuracy)\n",
        "\n",
        "y_pred = random_model.predict(X_train) # Predict using the Random Forest model on X_train data\n",
        "train_Accuracy = accuracy_score(Y_train, y_pred)  # Calculate the accuracy of Random Forest model using Y_train and y_pred\n",
        "print(\"Random Forest Training Accuracy:\", train_Accuracy)\n",
        "\n",
        "initial_All_Model_Acc['random_Forest']= test_Accuracy*100   # Store the testing accuracy of Random Forest model in dictionary\n",
        "inital_All_Model_Training_Accuracy['random_Forest']= train_Accuracy*100  # Store the training accuracy of Random Forest model in dictionary"
      ],
      "metadata": {
        "colab": {
          "base_uri": "https://localhost:8080/"
        },
        "id": "n5ksqZcBrh6F",
        "outputId": "4745325a-bfc3-4cab-83d9-7e6e3792484e"
      },
      "execution_count": null,
      "outputs": [
        {
          "output_type": "stream",
          "name": "stdout",
          "text": [
            "Random Forest Testing Accuracy: 0.9214102093279471\n",
            "Random Forest Training Accuracy: 1.0\n"
          ]
        }
      ]
    },
    {
      "cell_type": "markdown",
      "source": [
        "Support Vector Machines (SVM)"
      ],
      "metadata": {
        "id": "3-8aXT-FrwZM"
      }
    },
    {
      "cell_type": "code",
      "source": [
        "from sklearn import svm"
      ],
      "metadata": {
        "id": "xy_nPSl8rsU1"
      },
      "execution_count": null,
      "outputs": []
    },
    {
      "cell_type": "code",
      "source": [
        "# Create SVM classifier\n",
        "svm = svm.SVC(kernel='linear')"
      ],
      "metadata": {
        "id": "bb-HBcLhr3ZG"
      },
      "execution_count": null,
      "outputs": []
    },
    {
      "cell_type": "code",
      "source": [
        "# Fit SVM classifier on training data\n",
        "svm.fit(X_train, Y_train)"
      ],
      "metadata": {
        "colab": {
          "base_uri": "https://localhost:8080/",
          "height": 75
        },
        "id": "xq8qgdQ2r5-8",
        "outputId": "29961497-7603-4fd2-ac0b-42e60db3eec6"
      },
      "execution_count": null,
      "outputs": [
        {
          "output_type": "execute_result",
          "data": {
            "text/plain": [
              "SVC(kernel='linear')"
            ],
            "text/html": [
              "<style>#sk-container-id-5 {color: black;background-color: white;}#sk-container-id-5 pre{padding: 0;}#sk-container-id-5 div.sk-toggleable {background-color: white;}#sk-container-id-5 label.sk-toggleable__label {cursor: pointer;display: block;width: 100%;margin-bottom: 0;padding: 0.3em;box-sizing: border-box;text-align: center;}#sk-container-id-5 label.sk-toggleable__label-arrow:before {content: \"▸\";float: left;margin-right: 0.25em;color: #696969;}#sk-container-id-5 label.sk-toggleable__label-arrow:hover:before {color: black;}#sk-container-id-5 div.sk-estimator:hover label.sk-toggleable__label-arrow:before {color: black;}#sk-container-id-5 div.sk-toggleable__content {max-height: 0;max-width: 0;overflow: hidden;text-align: left;background-color: #f0f8ff;}#sk-container-id-5 div.sk-toggleable__content pre {margin: 0.2em;color: black;border-radius: 0.25em;background-color: #f0f8ff;}#sk-container-id-5 input.sk-toggleable__control:checked~div.sk-toggleable__content {max-height: 200px;max-width: 100%;overflow: auto;}#sk-container-id-5 input.sk-toggleable__control:checked~label.sk-toggleable__label-arrow:before {content: \"▾\";}#sk-container-id-5 div.sk-estimator input.sk-toggleable__control:checked~label.sk-toggleable__label {background-color: #d4ebff;}#sk-container-id-5 div.sk-label input.sk-toggleable__control:checked~label.sk-toggleable__label {background-color: #d4ebff;}#sk-container-id-5 input.sk-hidden--visually {border: 0;clip: rect(1px 1px 1px 1px);clip: rect(1px, 1px, 1px, 1px);height: 1px;margin: -1px;overflow: hidden;padding: 0;position: absolute;width: 1px;}#sk-container-id-5 div.sk-estimator {font-family: monospace;background-color: #f0f8ff;border: 1px dotted black;border-radius: 0.25em;box-sizing: border-box;margin-bottom: 0.5em;}#sk-container-id-5 div.sk-estimator:hover {background-color: #d4ebff;}#sk-container-id-5 div.sk-parallel-item::after {content: \"\";width: 100%;border-bottom: 1px solid gray;flex-grow: 1;}#sk-container-id-5 div.sk-label:hover label.sk-toggleable__label {background-color: #d4ebff;}#sk-container-id-5 div.sk-serial::before {content: \"\";position: absolute;border-left: 1px solid gray;box-sizing: border-box;top: 0;bottom: 0;left: 50%;z-index: 0;}#sk-container-id-5 div.sk-serial {display: flex;flex-direction: column;align-items: center;background-color: white;padding-right: 0.2em;padding-left: 0.2em;position: relative;}#sk-container-id-5 div.sk-item {position: relative;z-index: 1;}#sk-container-id-5 div.sk-parallel {display: flex;align-items: stretch;justify-content: center;background-color: white;position: relative;}#sk-container-id-5 div.sk-item::before, #sk-container-id-5 div.sk-parallel-item::before {content: \"\";position: absolute;border-left: 1px solid gray;box-sizing: border-box;top: 0;bottom: 0;left: 50%;z-index: -1;}#sk-container-id-5 div.sk-parallel-item {display: flex;flex-direction: column;z-index: 1;position: relative;background-color: white;}#sk-container-id-5 div.sk-parallel-item:first-child::after {align-self: flex-end;width: 50%;}#sk-container-id-5 div.sk-parallel-item:last-child::after {align-self: flex-start;width: 50%;}#sk-container-id-5 div.sk-parallel-item:only-child::after {width: 0;}#sk-container-id-5 div.sk-dashed-wrapped {border: 1px dashed gray;margin: 0 0.4em 0.5em 0.4em;box-sizing: border-box;padding-bottom: 0.4em;background-color: white;}#sk-container-id-5 div.sk-label label {font-family: monospace;font-weight: bold;display: inline-block;line-height: 1.2em;}#sk-container-id-5 div.sk-label-container {text-align: center;}#sk-container-id-5 div.sk-container {/* jupyter's `normalize.less` sets `[hidden] { display: none; }` but bootstrap.min.css set `[hidden] { display: none !important; }` so we also need the `!important` here to be able to override the default hidden behavior on the sphinx rendered scikit-learn.org. See: https://github.com/scikit-learn/scikit-learn/issues/21755 */display: inline-block !important;position: relative;}#sk-container-id-5 div.sk-text-repr-fallback {display: none;}</style><div id=\"sk-container-id-5\" class=\"sk-top-container\"><div class=\"sk-text-repr-fallback\"><pre>SVC(kernel=&#x27;linear&#x27;)</pre><b>In a Jupyter environment, please rerun this cell to show the HTML representation or trust the notebook. <br />On GitHub, the HTML representation is unable to render, please try loading this page with nbviewer.org.</b></div><div class=\"sk-container\" hidden><div class=\"sk-item\"><div class=\"sk-estimator sk-toggleable\"><input class=\"sk-toggleable__control sk-hidden--visually\" id=\"sk-estimator-id-5\" type=\"checkbox\" checked><label for=\"sk-estimator-id-5\" class=\"sk-toggleable__label sk-toggleable__label-arrow\">SVC</label><div class=\"sk-toggleable__content\"><pre>SVC(kernel=&#x27;linear&#x27;)</pre></div></div></div></div></div>"
            ]
          },
          "metadata": {},
          "execution_count": 56
        }
      ]
    },
    {
      "cell_type": "code",
      "source": [
        "# Make predictions on the testing data and Calculate the accuracy of the Support Vector Machines (SVM) model\n",
        "\n",
        "y_pred = svm.predict(X_test)   # Predict using the SVM model on X_test data\n",
        "test_Accuracy = accuracy_score(Y_test, y_pred)  # Calculate the accuracy of SVM model using Y_test and y_pred\n",
        "print(\"SVM Testing Accuracy:\", test_Accuracy)\n",
        "\n",
        "y_pred = svm.predict(X_train)  # Predict using the SVM model on X_train data\n",
        "train_Accuracy = accuracy_score(Y_train, y_pred)  # Calculate the accuracy of SVM model using Y_train and y_pred\n",
        "print(\"SVM Training Accuracy:\", train_Accuracy)\n",
        "\n",
        "initial_All_Model_Acc['Svm']= test_Accuracy*100   # Store the testing accuracy of SVM model in dictionary\n",
        "inital_All_Model_Training_Accuracy['Svm']= train_Accuracy*100  # Store the training accuracy of SVM model in dictionary"
      ],
      "metadata": {
        "colab": {
          "base_uri": "https://localhost:8080/"
        },
        "id": "iC8CS5pyr_C7",
        "outputId": "149fd6e6-478f-451c-f82d-33fc341b1f59"
      },
      "execution_count": null,
      "outputs": [
        {
          "output_type": "stream",
          "name": "stdout",
          "text": [
            "SVM Testing Accuracy: 0.9247153874403232\n",
            "SVM Training Accuracy: 0.9280859662013226\n"
          ]
        }
      ]
    },
    {
      "cell_type": "markdown",
      "source": [
        "Naive Bayes"
      ],
      "metadata": {
        "id": "xUhYsnaLso14"
      }
    },
    {
      "cell_type": "code",
      "source": [
        "from sklearn.naive_bayes import GaussianNB\n"
      ],
      "metadata": {
        "id": "Tmmpq_5WsN80"
      },
      "execution_count": null,
      "outputs": []
    },
    {
      "cell_type": "code",
      "source": [
        "# Create an instance of Gaussian Naive Bayes classifier\n",
        "gnb = GaussianNB()"
      ],
      "metadata": {
        "id": "UpWH76HhsrK9"
      },
      "execution_count": null,
      "outputs": []
    },
    {
      "cell_type": "code",
      "source": [
        "# Train the model using the training data\n",
        "gnb.fit(X_train, Y_train)\n"
      ],
      "metadata": {
        "colab": {
          "base_uri": "https://localhost:8080/",
          "height": 75
        },
        "id": "JuD9VoeDsxGz",
        "outputId": "cb5a65c9-68da-41fb-fb52-e7e3215c308c"
      },
      "execution_count": null,
      "outputs": [
        {
          "output_type": "execute_result",
          "data": {
            "text/plain": [
              "GaussianNB()"
            ],
            "text/html": [
              "<style>#sk-container-id-6 {color: black;background-color: white;}#sk-container-id-6 pre{padding: 0;}#sk-container-id-6 div.sk-toggleable {background-color: white;}#sk-container-id-6 label.sk-toggleable__label {cursor: pointer;display: block;width: 100%;margin-bottom: 0;padding: 0.3em;box-sizing: border-box;text-align: center;}#sk-container-id-6 label.sk-toggleable__label-arrow:before {content: \"▸\";float: left;margin-right: 0.25em;color: #696969;}#sk-container-id-6 label.sk-toggleable__label-arrow:hover:before {color: black;}#sk-container-id-6 div.sk-estimator:hover label.sk-toggleable__label-arrow:before {color: black;}#sk-container-id-6 div.sk-toggleable__content {max-height: 0;max-width: 0;overflow: hidden;text-align: left;background-color: #f0f8ff;}#sk-container-id-6 div.sk-toggleable__content pre {margin: 0.2em;color: black;border-radius: 0.25em;background-color: #f0f8ff;}#sk-container-id-6 input.sk-toggleable__control:checked~div.sk-toggleable__content {max-height: 200px;max-width: 100%;overflow: auto;}#sk-container-id-6 input.sk-toggleable__control:checked~label.sk-toggleable__label-arrow:before {content: \"▾\";}#sk-container-id-6 div.sk-estimator input.sk-toggleable__control:checked~label.sk-toggleable__label {background-color: #d4ebff;}#sk-container-id-6 div.sk-label input.sk-toggleable__control:checked~label.sk-toggleable__label {background-color: #d4ebff;}#sk-container-id-6 input.sk-hidden--visually {border: 0;clip: rect(1px 1px 1px 1px);clip: rect(1px, 1px, 1px, 1px);height: 1px;margin: -1px;overflow: hidden;padding: 0;position: absolute;width: 1px;}#sk-container-id-6 div.sk-estimator {font-family: monospace;background-color: #f0f8ff;border: 1px dotted black;border-radius: 0.25em;box-sizing: border-box;margin-bottom: 0.5em;}#sk-container-id-6 div.sk-estimator:hover {background-color: #d4ebff;}#sk-container-id-6 div.sk-parallel-item::after {content: \"\";width: 100%;border-bottom: 1px solid gray;flex-grow: 1;}#sk-container-id-6 div.sk-label:hover label.sk-toggleable__label {background-color: #d4ebff;}#sk-container-id-6 div.sk-serial::before {content: \"\";position: absolute;border-left: 1px solid gray;box-sizing: border-box;top: 0;bottom: 0;left: 50%;z-index: 0;}#sk-container-id-6 div.sk-serial {display: flex;flex-direction: column;align-items: center;background-color: white;padding-right: 0.2em;padding-left: 0.2em;position: relative;}#sk-container-id-6 div.sk-item {position: relative;z-index: 1;}#sk-container-id-6 div.sk-parallel {display: flex;align-items: stretch;justify-content: center;background-color: white;position: relative;}#sk-container-id-6 div.sk-item::before, #sk-container-id-6 div.sk-parallel-item::before {content: \"\";position: absolute;border-left: 1px solid gray;box-sizing: border-box;top: 0;bottom: 0;left: 50%;z-index: -1;}#sk-container-id-6 div.sk-parallel-item {display: flex;flex-direction: column;z-index: 1;position: relative;background-color: white;}#sk-container-id-6 div.sk-parallel-item:first-child::after {align-self: flex-end;width: 50%;}#sk-container-id-6 div.sk-parallel-item:last-child::after {align-self: flex-start;width: 50%;}#sk-container-id-6 div.sk-parallel-item:only-child::after {width: 0;}#sk-container-id-6 div.sk-dashed-wrapped {border: 1px dashed gray;margin: 0 0.4em 0.5em 0.4em;box-sizing: border-box;padding-bottom: 0.4em;background-color: white;}#sk-container-id-6 div.sk-label label {font-family: monospace;font-weight: bold;display: inline-block;line-height: 1.2em;}#sk-container-id-6 div.sk-label-container {text-align: center;}#sk-container-id-6 div.sk-container {/* jupyter's `normalize.less` sets `[hidden] { display: none; }` but bootstrap.min.css set `[hidden] { display: none !important; }` so we also need the `!important` here to be able to override the default hidden behavior on the sphinx rendered scikit-learn.org. See: https://github.com/scikit-learn/scikit-learn/issues/21755 */display: inline-block !important;position: relative;}#sk-container-id-6 div.sk-text-repr-fallback {display: none;}</style><div id=\"sk-container-id-6\" class=\"sk-top-container\"><div class=\"sk-text-repr-fallback\"><pre>GaussianNB()</pre><b>In a Jupyter environment, please rerun this cell to show the HTML representation or trust the notebook. <br />On GitHub, the HTML representation is unable to render, please try loading this page with nbviewer.org.</b></div><div class=\"sk-container\" hidden><div class=\"sk-item\"><div class=\"sk-estimator sk-toggleable\"><input class=\"sk-toggleable__control sk-hidden--visually\" id=\"sk-estimator-id-6\" type=\"checkbox\" checked><label for=\"sk-estimator-id-6\" class=\"sk-toggleable__label sk-toggleable__label-arrow\">GaussianNB</label><div class=\"sk-toggleable__content\"><pre>GaussianNB()</pre></div></div></div></div></div>"
            ]
          },
          "metadata": {},
          "execution_count": 60
        }
      ]
    },
    {
      "cell_type": "code",
      "source": [
        "# Make predictions on the testing data and Calculate the accuracy of the Naive Bayes model\n",
        "\n",
        "y_pred = gnb.predict(X_test)  # Predict using the Naive Bayes  model on X_test data\n",
        "test_Accuracy = accuracy_score(Y_test, y_pred)   # Calculate the accuracy of Naive Bayes model using Y_test and y_pred\n",
        "print(\"Naive Bayes Testing Accuracy:\", test_Accuracy)\n",
        "\n",
        "y_pred = gnb.predict(X_train)   # Predict using the  Naive Bayes model on X_train data\n",
        "train_Accuracy = accuracy_score(Y_train, y_pred)  # Calculate the accuracy of  Naive Bayes model using Y_train and y_pred\n",
        "print(\"Naive Bayes Training Accuracy:\", train_Accuracy)\n",
        "\n",
        "initial_All_Model_Acc['naive_Bayes']= test_Accuracy*100    # Store the testing accuracy of  Naive Bayes model in dictionary\n",
        "inital_All_Model_Training_Accuracy['naive_Bayes']= train_Accuracy*100   # Store the training accuracy of  Naive Bayes model in dictionary"
      ],
      "metadata": {
        "colab": {
          "base_uri": "https://localhost:8080/"
        },
        "id": "rxMwlFnVs0Oc",
        "outputId": "edd75678-18ef-4159-bde0-0bac2a212901"
      },
      "execution_count": null,
      "outputs": [
        {
          "output_type": "stream",
          "name": "stdout",
          "text": [
            "Naive Bayes Testing Accuracy: 0.8901946382666177\n",
            "Naive Bayes Training Accuracy: 0.8982365907421014\n"
          ]
        }
      ]
    },
    {
      "cell_type": "markdown",
      "source": [
        "Gradient Boosting Machines (GBM)"
      ],
      "metadata": {
        "id": "todmdgQ9tFbs"
      }
    },
    {
      "cell_type": "code",
      "source": [
        "from sklearn.ensemble import GradientBoostingClassifier\n"
      ],
      "metadata": {
        "id": "TSRNNbLgs_Os"
      },
      "execution_count": null,
      "outputs": []
    },
    {
      "cell_type": "code",
      "source": [
        "# Initialize the GBM model\n",
        "gbm = GradientBoostingClassifier(loss='deviance', learning_rate=0.1, n_estimators=100, max_depth=3)"
      ],
      "metadata": {
        "id": "R1aoEK86tKtT"
      },
      "execution_count": null,
      "outputs": []
    },
    {
      "cell_type": "code",
      "source": [
        "# Fit the model to the training data\n",
        "gbm.fit(X_train, Y_train)"
      ],
      "metadata": {
        "colab": {
          "base_uri": "https://localhost:8080/",
          "height": 129
        },
        "id": "Mx49PcFBtK3L",
        "outputId": "c1848c7e-d57a-45fd-c22c-661bff90e518"
      },
      "execution_count": null,
      "outputs": [
        {
          "output_type": "stream",
          "name": "stderr",
          "text": [
            "/usr/local/lib/python3.9/dist-packages/sklearn/ensemble/_gb.py:280: FutureWarning: The loss parameter name 'deviance' was deprecated in v1.1 and will be removed in version 1.3. Use the new parameter name 'log_loss' which is equivalent.\n",
            "  warnings.warn(\n"
          ]
        },
        {
          "output_type": "execute_result",
          "data": {
            "text/plain": [
              "GradientBoostingClassifier(loss='deviance')"
            ],
            "text/html": [
              "<style>#sk-container-id-7 {color: black;background-color: white;}#sk-container-id-7 pre{padding: 0;}#sk-container-id-7 div.sk-toggleable {background-color: white;}#sk-container-id-7 label.sk-toggleable__label {cursor: pointer;display: block;width: 100%;margin-bottom: 0;padding: 0.3em;box-sizing: border-box;text-align: center;}#sk-container-id-7 label.sk-toggleable__label-arrow:before {content: \"▸\";float: left;margin-right: 0.25em;color: #696969;}#sk-container-id-7 label.sk-toggleable__label-arrow:hover:before {color: black;}#sk-container-id-7 div.sk-estimator:hover label.sk-toggleable__label-arrow:before {color: black;}#sk-container-id-7 div.sk-toggleable__content {max-height: 0;max-width: 0;overflow: hidden;text-align: left;background-color: #f0f8ff;}#sk-container-id-7 div.sk-toggleable__content pre {margin: 0.2em;color: black;border-radius: 0.25em;background-color: #f0f8ff;}#sk-container-id-7 input.sk-toggleable__control:checked~div.sk-toggleable__content {max-height: 200px;max-width: 100%;overflow: auto;}#sk-container-id-7 input.sk-toggleable__control:checked~label.sk-toggleable__label-arrow:before {content: \"▾\";}#sk-container-id-7 div.sk-estimator input.sk-toggleable__control:checked~label.sk-toggleable__label {background-color: #d4ebff;}#sk-container-id-7 div.sk-label input.sk-toggleable__control:checked~label.sk-toggleable__label {background-color: #d4ebff;}#sk-container-id-7 input.sk-hidden--visually {border: 0;clip: rect(1px 1px 1px 1px);clip: rect(1px, 1px, 1px, 1px);height: 1px;margin: -1px;overflow: hidden;padding: 0;position: absolute;width: 1px;}#sk-container-id-7 div.sk-estimator {font-family: monospace;background-color: #f0f8ff;border: 1px dotted black;border-radius: 0.25em;box-sizing: border-box;margin-bottom: 0.5em;}#sk-container-id-7 div.sk-estimator:hover {background-color: #d4ebff;}#sk-container-id-7 div.sk-parallel-item::after {content: \"\";width: 100%;border-bottom: 1px solid gray;flex-grow: 1;}#sk-container-id-7 div.sk-label:hover label.sk-toggleable__label {background-color: #d4ebff;}#sk-container-id-7 div.sk-serial::before {content: \"\";position: absolute;border-left: 1px solid gray;box-sizing: border-box;top: 0;bottom: 0;left: 50%;z-index: 0;}#sk-container-id-7 div.sk-serial {display: flex;flex-direction: column;align-items: center;background-color: white;padding-right: 0.2em;padding-left: 0.2em;position: relative;}#sk-container-id-7 div.sk-item {position: relative;z-index: 1;}#sk-container-id-7 div.sk-parallel {display: flex;align-items: stretch;justify-content: center;background-color: white;position: relative;}#sk-container-id-7 div.sk-item::before, #sk-container-id-7 div.sk-parallel-item::before {content: \"\";position: absolute;border-left: 1px solid gray;box-sizing: border-box;top: 0;bottom: 0;left: 50%;z-index: -1;}#sk-container-id-7 div.sk-parallel-item {display: flex;flex-direction: column;z-index: 1;position: relative;background-color: white;}#sk-container-id-7 div.sk-parallel-item:first-child::after {align-self: flex-end;width: 50%;}#sk-container-id-7 div.sk-parallel-item:last-child::after {align-self: flex-start;width: 50%;}#sk-container-id-7 div.sk-parallel-item:only-child::after {width: 0;}#sk-container-id-7 div.sk-dashed-wrapped {border: 1px dashed gray;margin: 0 0.4em 0.5em 0.4em;box-sizing: border-box;padding-bottom: 0.4em;background-color: white;}#sk-container-id-7 div.sk-label label {font-family: monospace;font-weight: bold;display: inline-block;line-height: 1.2em;}#sk-container-id-7 div.sk-label-container {text-align: center;}#sk-container-id-7 div.sk-container {/* jupyter's `normalize.less` sets `[hidden] { display: none; }` but bootstrap.min.css set `[hidden] { display: none !important; }` so we also need the `!important` here to be able to override the default hidden behavior on the sphinx rendered scikit-learn.org. See: https://github.com/scikit-learn/scikit-learn/issues/21755 */display: inline-block !important;position: relative;}#sk-container-id-7 div.sk-text-repr-fallback {display: none;}</style><div id=\"sk-container-id-7\" class=\"sk-top-container\"><div class=\"sk-text-repr-fallback\"><pre>GradientBoostingClassifier(loss=&#x27;deviance&#x27;)</pre><b>In a Jupyter environment, please rerun this cell to show the HTML representation or trust the notebook. <br />On GitHub, the HTML representation is unable to render, please try loading this page with nbviewer.org.</b></div><div class=\"sk-container\" hidden><div class=\"sk-item\"><div class=\"sk-estimator sk-toggleable\"><input class=\"sk-toggleable__control sk-hidden--visually\" id=\"sk-estimator-id-7\" type=\"checkbox\" checked><label for=\"sk-estimator-id-7\" class=\"sk-toggleable__label sk-toggleable__label-arrow\">GradientBoostingClassifier</label><div class=\"sk-toggleable__content\"><pre>GradientBoostingClassifier(loss=&#x27;deviance&#x27;)</pre></div></div></div></div></div>"
            ]
          },
          "metadata": {},
          "execution_count": 64
        }
      ]
    },
    {
      "cell_type": "code",
      "source": [
        "# Make predictions on the testing data and Calculate the accuracy of the Gradient Boosting Machines model\n",
        "\n",
        "y_pred = gbm.predict(X_test) # Predict using the  Gradient Boosting  model on X_test data\n",
        "test_Accuracy = accuracy_score(Y_test, y_pred)  # Calculate the accuracy of Gradient Boosting  model using Y_test and y_pred\n",
        "print(\"Gradient Boosting Testing Accuracy:\", test_Accuracy)\n",
        "\n",
        "y_pred = gbm.predict(X_train)   # Predict using the Gradient Boosting  model on X_train data\n",
        "train_Accuracy = accuracy_score(Y_train, y_pred)  # Calculate the accuracy of Gradient Boosting  model using Y_train and y_pred\n",
        "print(\"Gradient Boosting Training Accuracy:\", train_Accuracy)\n",
        "\n",
        "initial_All_Model_Acc['gradient_Boosting']= test_Accuracy*100    # Store the testing accuracy of Gradient Boosting  model in dictionary\n",
        "inital_All_Model_Training_Accuracy['gradient_Boosting']= train_Accuracy*100  # Store the training accuracy of Gradient Boosting  model in dictionary"
      ],
      "metadata": {
        "colab": {
          "base_uri": "https://localhost:8080/"
        },
        "id": "mfb-YIN0tO27",
        "outputId": "6ae699f4-ec5c-4687-f37c-6b2c5227e9ff"
      },
      "execution_count": null,
      "outputs": [
        {
          "output_type": "stream",
          "name": "stdout",
          "text": [
            "Gradient Boosting Testing Accuracy: 0.9166360631656262\n",
            "Gradient Boosting Training Accuracy: 0.9634459955914768\n"
          ]
        }
      ]
    },
    {
      "cell_type": "markdown",
      "source": [
        "AdaBoost\n",
        "\n"
      ],
      "metadata": {
        "id": "j947exX4tk4-"
      }
    },
    {
      "cell_type": "code",
      "source": [
        "from sklearn.ensemble import AdaBoostClassifier\n"
      ],
      "metadata": {
        "id": "C94Uo57otZsL"
      },
      "execution_count": null,
      "outputs": []
    },
    {
      "cell_type": "code",
      "source": [
        "# Initialize the AdaBoost classifier\n",
        "clf = AdaBoostClassifier(n_estimators=500, random_state=42)"
      ],
      "metadata": {
        "id": "vGsy92fWtpFc"
      },
      "execution_count": null,
      "outputs": []
    },
    {
      "cell_type": "code",
      "source": [
        "# Fit the classifier to the training data\n",
        "clf.fit(X_train, Y_train)"
      ],
      "metadata": {
        "colab": {
          "base_uri": "https://localhost:8080/",
          "height": 75
        },
        "id": "J0t8gKittqnz",
        "outputId": "3059d669-6f64-4a8c-eb6d-e53beefe979f"
      },
      "execution_count": null,
      "outputs": [
        {
          "output_type": "execute_result",
          "data": {
            "text/plain": [
              "AdaBoostClassifier(n_estimators=500, random_state=42)"
            ],
            "text/html": [
              "<style>#sk-container-id-8 {color: black;background-color: white;}#sk-container-id-8 pre{padding: 0;}#sk-container-id-8 div.sk-toggleable {background-color: white;}#sk-container-id-8 label.sk-toggleable__label {cursor: pointer;display: block;width: 100%;margin-bottom: 0;padding: 0.3em;box-sizing: border-box;text-align: center;}#sk-container-id-8 label.sk-toggleable__label-arrow:before {content: \"▸\";float: left;margin-right: 0.25em;color: #696969;}#sk-container-id-8 label.sk-toggleable__label-arrow:hover:before {color: black;}#sk-container-id-8 div.sk-estimator:hover label.sk-toggleable__label-arrow:before {color: black;}#sk-container-id-8 div.sk-toggleable__content {max-height: 0;max-width: 0;overflow: hidden;text-align: left;background-color: #f0f8ff;}#sk-container-id-8 div.sk-toggleable__content pre {margin: 0.2em;color: black;border-radius: 0.25em;background-color: #f0f8ff;}#sk-container-id-8 input.sk-toggleable__control:checked~div.sk-toggleable__content {max-height: 200px;max-width: 100%;overflow: auto;}#sk-container-id-8 input.sk-toggleable__control:checked~label.sk-toggleable__label-arrow:before {content: \"▾\";}#sk-container-id-8 div.sk-estimator input.sk-toggleable__control:checked~label.sk-toggleable__label {background-color: #d4ebff;}#sk-container-id-8 div.sk-label input.sk-toggleable__control:checked~label.sk-toggleable__label {background-color: #d4ebff;}#sk-container-id-8 input.sk-hidden--visually {border: 0;clip: rect(1px 1px 1px 1px);clip: rect(1px, 1px, 1px, 1px);height: 1px;margin: -1px;overflow: hidden;padding: 0;position: absolute;width: 1px;}#sk-container-id-8 div.sk-estimator {font-family: monospace;background-color: #f0f8ff;border: 1px dotted black;border-radius: 0.25em;box-sizing: border-box;margin-bottom: 0.5em;}#sk-container-id-8 div.sk-estimator:hover {background-color: #d4ebff;}#sk-container-id-8 div.sk-parallel-item::after {content: \"\";width: 100%;border-bottom: 1px solid gray;flex-grow: 1;}#sk-container-id-8 div.sk-label:hover label.sk-toggleable__label {background-color: #d4ebff;}#sk-container-id-8 div.sk-serial::before {content: \"\";position: absolute;border-left: 1px solid gray;box-sizing: border-box;top: 0;bottom: 0;left: 50%;z-index: 0;}#sk-container-id-8 div.sk-serial {display: flex;flex-direction: column;align-items: center;background-color: white;padding-right: 0.2em;padding-left: 0.2em;position: relative;}#sk-container-id-8 div.sk-item {position: relative;z-index: 1;}#sk-container-id-8 div.sk-parallel {display: flex;align-items: stretch;justify-content: center;background-color: white;position: relative;}#sk-container-id-8 div.sk-item::before, #sk-container-id-8 div.sk-parallel-item::before {content: \"\";position: absolute;border-left: 1px solid gray;box-sizing: border-box;top: 0;bottom: 0;left: 50%;z-index: -1;}#sk-container-id-8 div.sk-parallel-item {display: flex;flex-direction: column;z-index: 1;position: relative;background-color: white;}#sk-container-id-8 div.sk-parallel-item:first-child::after {align-self: flex-end;width: 50%;}#sk-container-id-8 div.sk-parallel-item:last-child::after {align-self: flex-start;width: 50%;}#sk-container-id-8 div.sk-parallel-item:only-child::after {width: 0;}#sk-container-id-8 div.sk-dashed-wrapped {border: 1px dashed gray;margin: 0 0.4em 0.5em 0.4em;box-sizing: border-box;padding-bottom: 0.4em;background-color: white;}#sk-container-id-8 div.sk-label label {font-family: monospace;font-weight: bold;display: inline-block;line-height: 1.2em;}#sk-container-id-8 div.sk-label-container {text-align: center;}#sk-container-id-8 div.sk-container {/* jupyter's `normalize.less` sets `[hidden] { display: none; }` but bootstrap.min.css set `[hidden] { display: none !important; }` so we also need the `!important` here to be able to override the default hidden behavior on the sphinx rendered scikit-learn.org. See: https://github.com/scikit-learn/scikit-learn/issues/21755 */display: inline-block !important;position: relative;}#sk-container-id-8 div.sk-text-repr-fallback {display: none;}</style><div id=\"sk-container-id-8\" class=\"sk-top-container\"><div class=\"sk-text-repr-fallback\"><pre>AdaBoostClassifier(n_estimators=500, random_state=42)</pre><b>In a Jupyter environment, please rerun this cell to show the HTML representation or trust the notebook. <br />On GitHub, the HTML representation is unable to render, please try loading this page with nbviewer.org.</b></div><div class=\"sk-container\" hidden><div class=\"sk-item\"><div class=\"sk-estimator sk-toggleable\"><input class=\"sk-toggleable__control sk-hidden--visually\" id=\"sk-estimator-id-8\" type=\"checkbox\" checked><label for=\"sk-estimator-id-8\" class=\"sk-toggleable__label sk-toggleable__label-arrow\">AdaBoostClassifier</label><div class=\"sk-toggleable__content\"><pre>AdaBoostClassifier(n_estimators=500, random_state=42)</pre></div></div></div></div></div>"
            ]
          },
          "metadata": {},
          "execution_count": 68
        }
      ]
    },
    {
      "cell_type": "code",
      "source": [
        "# Make predictions on the testing data and Calculate the accuracy of the AdaBoost Machines model\n",
        "\n",
        "y_pred = clf.predict(X_test)   # Predict using the  AdaBoost  model on X_test data\n",
        "test_Accuracy = accuracy_score(Y_test, y_pred)  # Calculate the accuracy of AdaBoost  model using Y_test and y_pred\n",
        "print(\"AdaBoost Testing Accuracy:\", test_Accuracy)\n",
        "\n",
        "y_pred = clf.predict(X_train)   # Predict using the AdaBoost  model on X_train data\n",
        "train_Accuracy = accuracy_score(Y_train, y_pred)  # Calculate the accuracy of AdaBoost  model using Y_train and y_pred\n",
        "print(\"AdaBoost Training Accuracy:\", train_Accuracy)\n",
        "\n",
        "initial_All_Model_Acc['AdaBoost']= test_Accuracy*100  # Store the testing accuracy of AdaBoost  model in dictionary\n",
        "inital_All_Model_Training_Accuracy['AdaBoost']= train_Accuracy*100  # Store the training accuracy of AdaBoost  model in dictionary"
      ],
      "metadata": {
        "colab": {
          "base_uri": "https://localhost:8080/"
        },
        "id": "U_GW2B2CtsS0",
        "outputId": "8a675314-57e4-4d04-fa66-a8d84074ad37"
      },
      "execution_count": null,
      "outputs": [
        {
          "output_type": "stream",
          "name": "stdout",
          "text": [
            "AdaBoost Testing Accuracy: 0.6981270657363202\n",
            "AdaBoost Training Accuracy: 0.706373989713446\n"
          ]
        }
      ]
    },
    {
      "cell_type": "code",
      "source": [
        "# print dictionary containing the testing training model accuracy scores of different algorithms\n",
        "print(initial_All_Model_Acc)"
      ],
      "metadata": {
        "colab": {
          "base_uri": "https://localhost:8080/"
        },
        "id": "Wl74zICTt1-T",
        "outputId": "ed859ee7-24b7-4a9e-9c59-aef35fea1906"
      },
      "execution_count": null,
      "outputs": [
        {
          "output_type": "stream",
          "name": "stdout",
          "text": [
            "{'Ann': 92.65515975027543, 'Logistic': 92.17774513404333, 'KNN': 91.4799853103195, 'decision_Tree': 88.7256702166728, 'random_Forest': 92.14102093279472, 'Svm': 92.47153874403232, 'naive_Bayes': 89.01946382666178, 'gradient_Boosting': 91.66360631656262, 'AdaBoost': 69.81270657363203}\n"
          ]
        }
      ]
    },
    {
      "cell_type": "code",
      "source": [
        "# print dictionary containing the initial training model accuracy scores of different algorithms\n",
        "inital_All_Model_Training_Accuracy"
      ],
      "metadata": {
        "colab": {
          "base_uri": "https://localhost:8080/"
        },
        "id": "GXwY0LCk3d9K",
        "outputId": "1b9b658e-cb8f-4a03-c327-f8868d9c4725"
      },
      "execution_count": null,
      "outputs": [
        {
          "output_type": "execute_result",
          "data": {
            "text/plain": [
              "{'Ann': 94.65466568699486,\n",
              " 'Logistic': 92.45040411462159,\n",
              " 'KNN': 95.18736223365173,\n",
              " 'decision_Tree': 100.0,\n",
              " 'random_Forest': 100.0,\n",
              " 'Svm': 92.80859662013225,\n",
              " 'naive_Bayes': 89.82365907421014,\n",
              " 'gradient_Boosting': 96.34459955914768,\n",
              " 'AdaBoost': 70.6373989713446}"
            ]
          },
          "metadata": {},
          "execution_count": 71
        }
      ]
    },
    {
      "cell_type": "code",
      "source": [
        "fig = plt.figure(figsize=(8, 6)) # Create a new figure with a size of 8 inches (width) by 6 inches (height)\n",
        "plt.bar(range(len(initial_All_Model_Acc)), list(initial_All_Model_Acc.values()), align='center') # Create a bar chart using the values of the dictionary initial_All_Model_Acc.\n",
        "plt.xticks(range(len(initial_All_Model_Acc)), list(initial_All_Model_Acc.keys()), rotation=45, ha='right', fontsize=8)\n",
        "plt.ylim(60, 100)\n",
        "plt.ylabel('Accuracy (%)') # Set the y-axis label to \"Accuracy (%)\"\n",
        "plt.title('Classification Algorithm Performance') # Set the title of the chart to \"Classification Algorithm Performance\"\n",
        "plt.show()"
      ],
      "metadata": {
        "colab": {
          "base_uri": "https://localhost:8080/",
          "height": 610
        },
        "id": "zj-fTAlGz3ug",
        "outputId": "38d9a87a-7751-4582-a3fe-890449f704ce"
      },
      "execution_count": null,
      "outputs": [
        {
          "output_type": "display_data",
          "data": {
            "text/plain": [
              "<Figure size 800x600 with 1 Axes>"
            ],
            "image/png": "[encoded data removed]"
          },
          "metadata": {}
        }
      ]
    },
    {
      "cell_type": "code",
      "source": [
        "# Sort the data in descending order\n",
        "sorted_data = sorted(initial_All_Model_Acc.items(), key=lambda x: x[1], reverse=True)   # initial_All_Model_Acc is a dictionary of model names (keys) and their corresponding accuracy scores (values)\n",
        "\n",
        "fig = plt.figure(figsize=(8, 6))\n",
        "plt.bar(range(len(sorted_data)), [val for key, val in sorted_data], align='center', color=['#FF5733', '#FFC300', '#DAF7A6', '#C70039', '#900C3F', '#F9A602', '#EFEFEF', '#FF5733', '#FFC300']) # The colors of the bars are specified using a list of hex codes\n",
        "plt.xticks(range(len(sorted_data)), [key for key, val in sorted_data], rotation=45, ha='right', fontsize=8)\n",
        "plt.ylim(60, 100)  # Set the y-axis limits to be between 60 and 100\n",
        "plt.ylabel('Accuracy (%)') # Set the y-axis label\n",
        "plt.title('Testing Data Performance')   # Set the title of the plot\n",
        "\n",
        "plt.show() # Show the plot"
      ],
      "metadata": {
        "colab": {
          "base_uri": "https://localhost:8080/",
          "height": 610
        },
        "id": "5PQP_rfZ0LNA",
        "outputId": "abd61db7-cd46-4147-aaec-1f9be7fe5cc4"
      },
      "execution_count": null,
      "outputs": [
        {
          "output_type": "display_data",
          "data": {
            "text/plain": [
              "<Figure size 800x600 with 1 Axes>"
            ],
            "image/png": "[encoded data removed]"
          },
          "metadata": {}
        }
      ]
    },
    {
      "cell_type": "code",
      "source": [],
      "metadata": {
        "id": "qw0_oT5Y1f-v"
      },
      "execution_count": null,
      "outputs": []
    },
    {
      "cell_type": "code",
      "source": [
        "# Get the models names\n",
        "models = list(initial_All_Model_Acc.keys())"
      ],
      "metadata": {
        "id": "frZeujpo4YiB"
      },
      "execution_count": null,
      "outputs": []
    },
    {
      "cell_type": "code",
      "source": [
        "# Get the accuracy values for initial and training data\n",
        "test_acc = list(initial_All_Model_Acc.values())\n",
        "train_acc = list(inital_All_Model_Training_Accuracy.values())"
      ],
      "metadata": {
        "id": "vdsYl1Tg4ZO9"
      },
      "execution_count": null,
      "outputs": []
    },
    {
      "cell_type": "code",
      "source": [
        "# Set the figure size\n",
        "fig = plt.figure(figsize=(8, 6))\n",
        "\n",
        "# Set the bar width\n",
        "bar_width = 0.35\n",
        "\n",
        "# Set the positions of the bars on the x-axis\n",
        "r1 = np.arange(len(models))\n",
        "r2 = [x + bar_width for x in r1]\n",
        "\n",
        "# Create the bar plots\n",
        "plt.bar(r1, test_acc, color='#7f6d5f', width=bar_width, edgecolor='white', label='Initial Accuracy')\n",
        "plt.bar(r2, train_acc, color='#557f2d', width=bar_width, edgecolor='white', label='Training Accuracy')\n",
        "\n",
        "# Add xticks on the middle of the group bars\n",
        "plt.xlabel('Models', fontweight='bold')\n",
        "plt.xticks([r + bar_width/2 for r in range(len(models))], models, rotation=45, ha='right', fontsize=8)\n",
        "\n",
        "# Add y-label and title\n",
        "plt.ylabel('Accuracy', fontweight='bold')\n",
        "plt.title('Comparison of Initial and Training Accuracy', fontweight='bold')\n",
        "\n",
        "# Add legend\n",
        "plt.legend()\n",
        "\n",
        "# Show plot\n",
        "plt.show()\n"
      ],
      "metadata": {
        "colab": {
          "base_uri": "https://localhost:8080/",
          "height": 630
        },
        "id": "spZ7YMI-4eEe",
        "outputId": "39cc73b9-1cce-4d26-d656-186049dc8a64"
      },
      "execution_count": null,
      "outputs": [
        {
          "output_type": "display_data",
          "data": {
            "text/plain": [
              "<Figure size 800x600 with 1 Axes>"
            ],
            "image/png": "[encoded data removed]"
          },
          "metadata": {}
        }
      ]
    },
    {
      "cell_type": "code",
      "source": [],
      "metadata": {
        "id": "Q4GQF9lq4lW2"
      },
      "execution_count": null,
      "outputs": []
    },
    {
      "cell_type": "code",
      "source": [],
      "metadata": {
        "id": "WqUKW24xvFQ9"
      },
      "execution_count": null,
      "outputs": []
    },
    {
      "cell_type": "code",
      "source": [
        "X"
      ],
      "metadata": {
        "colab": {
          "base_uri": "https://localhost:8080/",
          "height": 488
        },
        "id": "MzuU-aPsvFTe",
        "outputId": "9b5f17d3-95fe-44b1-dbed-be66a1b1f0f5"
      },
      "execution_count": null,
      "outputs": [
        {
          "output_type": "execute_result",
          "data": {
            "text/plain": [
              "        Area  Perimeter  MajorAxisLength  MinorAxisLength  AspectRation  \\\n",
              "0      28395    610.291       208.178117       173.888747      1.197191   \n",
              "1      28734    638.018       200.524796       182.734419      1.097356   \n",
              "2      29380    624.110       212.826130       175.931143      1.209713   \n",
              "3      30008    645.884       210.557999       182.516516      1.153638   \n",
              "4      30140    620.134       201.847882       190.279279      1.060798   \n",
              "...      ...        ...              ...              ...           ...   \n",
              "13606  42097    759.696       288.721612       185.944705      1.552728   \n",
              "13607  42101    757.499       281.576392       190.713136      1.476439   \n",
              "13608  42139    759.321       281.539928       191.187979      1.472582   \n",
              "13609  42147    763.779       283.382636       190.275731      1.489326   \n",
              "13610  42159    772.237       295.142741       182.204716      1.619841   \n",
              "\n",
              "       Eccentricity  ConvexArea  EquivDiameter    Extent  Solidity  roundness  \\\n",
              "0          0.549812       28715     190.141097  0.763923  0.988856   0.958027   \n",
              "1          0.411785       29172     191.272750  0.783968  0.984986   0.887034   \n",
              "2          0.562727       29690     193.410904  0.778113  0.989559   0.947849   \n",
              "3          0.498616       30724     195.467062  0.782681  0.976696   0.903936   \n",
              "4          0.333680       30417     195.896503  0.773098  0.990893   0.984877   \n",
              "...             ...         ...            ...       ...       ...        ...   \n",
              "13606      0.765002       42508     231.515799  0.714574  0.990331   0.916603   \n",
              "13607      0.735702       42494     231.526798  0.799943  0.990752   0.922015   \n",
              "13608      0.734065       42569     231.631261  0.729932  0.989899   0.918424   \n",
              "13609      0.741055       42667     231.653248  0.705389  0.987813   0.907906   \n",
              "13610      0.786693       42600     231.686223  0.788962  0.989648   0.888380   \n",
              "\n",
              "       Compactness  ShapeFactor1  ShapeFactor2  ShapeFactor3  ShapeFactor4  \n",
              "0         0.913358      0.007332      0.003147      0.834222      0.998724  \n",
              "1         0.953861      0.006979      0.003564      0.909851      0.998430  \n",
              "2         0.908774      0.007244      0.003048      0.825871      0.999066  \n",
              "3         0.928329      0.007017      0.003215      0.861794      0.994199  \n",
              "4         0.970516      0.006697      0.003665      0.941900      0.999166  \n",
              "...            ...           ...           ...           ...           ...  \n",
              "13606     0.801865      0.006858      0.001749      0.642988      0.998385  \n",
              "13607     0.822252      0.006688      0.001886      0.676099      0.998219  \n",
              "13608     0.822730      0.006681      0.001888      0.676884      0.996767  \n",
              "13609     0.817457      0.006724      0.001852      0.668237      0.995222  \n",
              "13610     0.784997      0.007001      0.001640      0.616221      0.998180  \n",
              "\n",
              "[13611 rows x 16 columns]"
            ],
            "text/html": [
              "\n",
              "  <div id=\"df-5ff80477-9b33-4ac0-9ed0-2c0c46d70bf9\">\n",
              "    <div class=\"colab-df-container\">\n",
              "      <div>\n",
              "<style scoped>\n",
              "    .dataframe tbody tr th:only-of-type {\n",
              "        vertical-align: middle;\n",
              "    }\n",
              "\n",
              "    .dataframe tbody tr th {\n",
              "        vertical-align: top;\n",
              "    }\n",
              "\n",
              "    .dataframe thead th {\n",
              "        text-align: right;\n",
              "    }\n",
              "</style>\n",
              "<table border=\"1\" class=\"dataframe\">\n",
              "  <thead>\n",
              "    <tr style=\"text-align: right;\">\n",
              "      <th></th>\n",
              "      <th>Area</th>\n",
              "      <th>Perimeter</th>\n",
              "      <th>MajorAxisLength</th>\n",
              "      <th>MinorAxisLength</th>\n",
              "      <th>AspectRation</th>\n",
              "      <th>Eccentricity</th>\n",
              "      <th>ConvexArea</th>\n",
              "      <th>EquivDiameter</th>\n",
              "      <th>Extent</th>\n",
              "      <th>Solidity</th>\n",
              "      <th>roundness</th>\n",
              "      <th>Compactness</th>\n",
              "      <th>ShapeFactor1</th>\n",
              "      <th>ShapeFactor2</th>\n",
              "      <th>ShapeFactor3</th>\n",
              "      <th>ShapeFactor4</th>\n",
              "    </tr>\n",
              "  </thead>\n",
              "  <tbody>\n",
              "    <tr>\n",
              "      <th>0</th>\n",
              "      <td>28395</td>\n",
              "      <td>610.291</td>\n",
              "      <td>208.178117</td>\n",
              "      <td>173.888747</td>\n",
              "      <td>1.197191</td>\n",
              "      <td>0.549812</td>\n",
              "      <td>28715</td>\n",
              "      <td>190.141097</td>\n",
              "      <td>0.763923</td>\n",
              "      <td>0.988856</td>\n",
              "      <td>0.958027</td>\n",
              "      <td>0.913358</td>\n",
              "      <td>0.007332</td>\n",
              "      <td>0.003147</td>\n",
              "      <td>0.834222</td>\n",
              "      <td>0.998724</td>\n",
              "    </tr>\n",
              "    <tr>\n",
              "      <th>1</th>\n",
              "      <td>28734</td>\n",
              "      <td>638.018</td>\n",
              "      <td>200.524796</td>\n",
              "      <td>182.734419</td>\n",
              "      <td>1.097356</td>\n",
              "      <td>0.411785</td>\n",
              "      <td>29172</td>\n",
              "      <td>191.272750</td>\n",
              "      <td>0.783968</td>\n",
              "      <td>0.984986</td>\n",
              "      <td>0.887034</td>\n",
              "      <td>0.953861</td>\n",
              "      <td>0.006979</td>\n",
              "      <td>0.003564</td>\n",
              "      <td>0.909851</td>\n",
              "      <td>0.998430</td>\n",
              "    </tr>\n",
              "    <tr>\n",
              "      <th>2</th>\n",
              "      <td>29380</td>\n",
              "      <td>624.110</td>\n",
              "      <td>212.826130</td>\n",
              "      <td>175.931143</td>\n",
              "      <td>1.209713</td>\n",
              "      <td>0.562727</td>\n",
              "      <td>29690</td>\n",
              "      <td>193.410904</td>\n",
              "      <td>0.778113</td>\n",
              "      <td>0.989559</td>\n",
              "      <td>0.947849</td>\n",
              "      <td>0.908774</td>\n",
              "      <td>0.007244</td>\n",
              "      <td>0.003048</td>\n",
              "      <td>0.825871</td>\n",
              "      <td>0.999066</td>\n",
              "    </tr>\n",
              "    <tr>\n",
              "      <th>3</th>\n",
              "      <td>30008</td>\n",
              "      <td>645.884</td>\n",
              "      <td>210.557999</td>\n",
              "      <td>182.516516</td>\n",
              "      <td>1.153638</td>\n",
              "      <td>0.498616</td>\n",
              "      <td>30724</td>\n",
              "      <td>195.467062</td>\n",
              "      <td>0.782681</td>\n",
              "      <td>0.976696</td>\n",
              "      <td>0.903936</td>\n",
              "      <td>0.928329</td>\n",
              "      <td>0.007017</td>\n",
              "      <td>0.003215</td>\n",
              "      <td>0.861794</td>\n",
              "      <td>0.994199</td>\n",
              "    </tr>\n",
              "    <tr>\n",
              "      <th>4</th>\n",
              "      <td>30140</td>\n",
              "      <td>620.134</td>\n",
              "      <td>201.847882</td>\n",
              "      <td>190.279279</td>\n",
              "      <td>1.060798</td>\n",
              "      <td>0.333680</td>\n",
              "      <td>30417</td>\n",
              "      <td>195.896503</td>\n",
              "      <td>0.773098</td>\n",
              "      <td>0.990893</td>\n",
              "      <td>0.984877</td>\n",
              "      <td>0.970516</td>\n",
              "      <td>0.006697</td>\n",
              "      <td>0.003665</td>\n",
              "      <td>0.941900</td>\n",
              "      <td>0.999166</td>\n",
              "    </tr>\n",
              "    <tr>\n",
              "      <th>...</th>\n",
              "      <td>...</td>\n",
              "      <td>...</td>\n",
              "      <td>...</td>\n",
              "      <td>...</td>\n",
              "      <td>...</td>\n",
              "      <td>...</td>\n",
              "      <td>...</td>\n",
              "      <td>...</td>\n",
              "      <td>...</td>\n",
              "      <td>...</td>\n",
              "      <td>...</td>\n",
              "      <td>...</td>\n",
              "      <td>...</td>\n",
              "      <td>...</td>\n",
              "      <td>...</td>\n",
              "      <td>...</td>\n",
              "    </tr>\n",
              "    <tr>\n",
              "      <th>13606</th>\n",
              "      <td>42097</td>\n",
              "      <td>759.696</td>\n",
              "      <td>288.721612</td>\n",
              "      <td>185.944705</td>\n",
              "      <td>1.552728</td>\n",
              "      <td>0.765002</td>\n",
              "      <td>42508</td>\n",
              "      <td>231.515799</td>\n",
              "      <td>0.714574</td>\n",
              "      <td>0.990331</td>\n",
              "      <td>0.916603</td>\n",
              "      <td>0.801865</td>\n",
              "      <td>0.006858</td>\n",
              "      <td>0.001749</td>\n",
              "      <td>0.642988</td>\n",
              "      <td>0.998385</td>\n",
              "    </tr>\n",
              "    <tr>\n",
              "      <th>13607</th>\n",
              "      <td>42101</td>\n",
              "      <td>757.499</td>\n",
              "      <td>281.576392</td>\n",
              "      <td>190.713136</td>\n",
              "      <td>1.476439</td>\n",
              "      <td>0.735702</td>\n",
              "      <td>42494</td>\n",
              "      <td>231.526798</td>\n",
              "      <td>0.799943</td>\n",
              "      <td>0.990752</td>\n",
              "      <td>0.922015</td>\n",
              "      <td>0.822252</td>\n",
              "      <td>0.006688</td>\n",
              "      <td>0.001886</td>\n",
              "      <td>0.676099</td>\n",
              "      <td>0.998219</td>\n",
              "    </tr>\n",
              "    <tr>\n",
              "      <th>13608</th>\n",
              "      <td>42139</td>\n",
              "      <td>759.321</td>\n",
              "      <td>281.539928</td>\n",
              "      <td>191.187979</td>\n",
              "      <td>1.472582</td>\n",
              "      <td>0.734065</td>\n",
              "      <td>42569</td>\n",
              "      <td>231.631261</td>\n",
              "      <td>0.729932</td>\n",
              "      <td>0.989899</td>\n",
              "      <td>0.918424</td>\n",
              "      <td>0.822730</td>\n",
              "      <td>0.006681</td>\n",
              "      <td>0.001888</td>\n",
              "      <td>0.676884</td>\n",
              "      <td>0.996767</td>\n",
              "    </tr>\n",
              "    <tr>\n",
              "      <th>13609</th>\n",
              "      <td>42147</td>\n",
              "      <td>763.779</td>\n",
              "      <td>283.382636</td>\n",
              "      <td>190.275731</td>\n",
              "      <td>1.489326</td>\n",
              "      <td>0.741055</td>\n",
              "      <td>42667</td>\n",
              "      <td>231.653248</td>\n",
              "      <td>0.705389</td>\n",
              "      <td>0.987813</td>\n",
              "      <td>0.907906</td>\n",
              "      <td>0.817457</td>\n",
              "      <td>0.006724</td>\n",
              "      <td>0.001852</td>\n",
              "      <td>0.668237</td>\n",
              "      <td>0.995222</td>\n",
              "    </tr>\n",
              "    <tr>\n",
              "      <th>13610</th>\n",
              "      <td>42159</td>\n",
              "      <td>772.237</td>\n",
              "      <td>295.142741</td>\n",
              "      <td>182.204716</td>\n",
              "      <td>1.619841</td>\n",
              "      <td>0.786693</td>\n",
              "      <td>42600</td>\n",
              "      <td>231.686223</td>\n",
              "      <td>0.788962</td>\n",
              "      <td>0.989648</td>\n",
              "      <td>0.888380</td>\n",
              "      <td>0.784997</td>\n",
              "      <td>0.007001</td>\n",
              "      <td>0.001640</td>\n",
              "      <td>0.616221</td>\n",
              "      <td>0.998180</td>\n",
              "    </tr>\n",
              "  </tbody>\n",
              "</table>\n",
              "<p>13611 rows × 16 columns</p>\n",
              "</div>\n",
              "      <button class=\"colab-df-convert\" onclick=\"convertToInteractive('df-5ff80477-9b33-4ac0-9ed0-2c0c46d70bf9')\"\n",
              "              title=\"Convert this dataframe to an interactive table.\"\n",
              "              style=\"display:none;\">\n",
              "        \n",
              "  <svg xmlns=\"http://www.w3.org/2000/svg\" height=\"24px\"viewBox=\"0 0 24 24\"\n",
              "       width=\"24px\">\n",
              "    <path d=\"M0 0h24v24H0V0z\" fill=\"none\"/>\n",
              "    <path d=\"M18.56 5.44l.94 2.06.94-2.06 2.06-.94-2.06-.94-.94-2.06-.94 2.06-2.06.94zm-11 1L8.5 8.5l.94-2.06 2.06-.94-2.06-.94L8.5 2.5l-.94 2.06-2.06.94zm10 10l.94 2.06.94-2.06 2.06-.94-2.06-.94-.94-2.06-.94 2.06-2.06.94z\"/><path d=\"M17.41 7.96l-1.37-1.37c-.4-.4-.92-.59-1.43-.59-.52 0-1.04.2-1.43.59L10.3 9.45l-7.72 7.72c-.78.78-.78 2.05 0 2.83L4 21.41c.39.39.9.59 1.41.59.51 0 1.02-.2 1.41-.59l7.78-7.78 2.81-2.81c.8-.78.8-2.07 0-2.86zM5.41 20L4 18.59l7.72-7.72 1.47 1.35L5.41 20z\"/>\n",
              "  </svg>\n",
              "      </button>\n",
              "      \n",
              "  <style>\n",
              "    .colab-df-container {\n",
              "      display:flex;\n",
              "      flex-wrap:wrap;\n",
              "      gap: 12px;\n",
              "    }\n",
              "\n",
              "    .colab-df-convert {\n",
              "      background-color: #E8F0FE;\n",
              "      border: none;\n",
              "      border-radius: 50%;\n",
              "      cursor: pointer;\n",
              "      display: none;\n",
              "      fill: #1967D2;\n",
              "      height: 32px;\n",
              "      padding: 0 0 0 0;\n",
              "      width: 32px;\n",
              "    }\n",
              "\n",
              "    .colab-df-convert:hover {\n",
              "      background-color: #E2EBFA;\n",
              "      box-shadow: 0px 1px 2px rgba(60, 64, 67, 0.3), 0px 1px 3px 1px rgba(60, 64, 67, 0.15);\n",
              "      fill: #174EA6;\n",
              "    }\n",
              "\n",
              "    [theme=dark] .colab-df-convert {\n",
              "      background-color: #3B4455;\n",
              "      fill: #D2E3FC;\n",
              "    }\n",
              "\n",
              "    [theme=dark] .colab-df-convert:hover {\n",
              "      background-color: #434B5C;\n",
              "      box-shadow: 0px 1px 3px 1px rgba(0, 0, 0, 0.15);\n",
              "      filter: drop-shadow(0px 1px 2px rgba(0, 0, 0, 0.3));\n",
              "      fill: #FFFFFF;\n",
              "    }\n",
              "  </style>\n",
              "\n",
              "      <script>\n",
              "        const buttonEl =\n",
              "          document.querySelector('#df-5ff80477-9b33-4ac0-9ed0-2c0c46d70bf9 button.colab-df-convert');\n",
              "        buttonEl.style.display =\n",
              "          google.colab.kernel.accessAllowed ? 'block' : 'none';\n",
              "\n",
              "        async function convertToInteractive(key) {\n",
              "          const element = document.querySelector('#df-5ff80477-9b33-4ac0-9ed0-2c0c46d70bf9');\n",
              "          const dataTable =\n",
              "            await google.colab.kernel.invokeFunction('convertToInteractive',\n",
              "                                                     [key], {});\n",
              "          if (!dataTable) return;\n",
              "\n",
              "          const docLinkHtml = 'Like what you see? Visit the ' +\n",
              "            '<a target=\"_blank\" href=https://colab.research.google.com/notebooks/data_table.ipynb>data table notebook</a>'\n",
              "            + ' to learn more about interactive tables.';\n",
              "          element.innerHTML = '';\n",
              "          dataTable['output_type'] = 'display_data';\n",
              "          await google.colab.output.renderOutput(dataTable, element);\n",
              "          const docLink = document.createElement('div');\n",
              "          docLink.innerHTML = docLinkHtml;\n",
              "          element.appendChild(docLink);\n",
              "        }\n",
              "      </script>\n",
              "    </div>\n",
              "  </div>\n",
              "  "
            ]
          },
          "metadata": {},
          "execution_count": 77
        }
      ]
    },
    {
      "cell_type": "code",
      "source": [
        "# Predict and Decode the numerical values back to categorical labels\n",
        "decoded_predicted_labels = le.inverse_transform(model.predict(np.array(X_test)).argmax(axis=-1))\n",
        "print(decoded_predicted_labels)\n",
        "\n",
        "\n",
        "#make a instance id from testing datasets\n",
        "instance_ids = x_test.index"
      ],
      "metadata": {
        "colab": {
          "base_uri": "https://localhost:8080/"
        },
        "id": "cMiEcsvPvFWJ",
        "outputId": "5e2801aa-0aae-4539-fece-c6c0f87cf11f"
      },
      "execution_count": null,
      "outputs": [
        {
          "output_type": "stream",
          "name": "stdout",
          "text": [
            "86/86 [==============================] - 0s 2ms/step\n",
            "['HOROZ' 'SIRA' 'CALI' ... 'HOROZ' 'SIRA' 'DERMASON']\n"
          ]
        }
      ]
    },
    {
      "cell_type": "code",
      "source": [
        "\n",
        "# create a pandas dataframe with the instance IDs and predicted labels'\n",
        "\n",
        "df_csv = pd.DataFrame({'Instance ID': instance_ids, 'Predicted Label': decoded_predicted_labels})\n",
        "\n",
        "# save the dataframe to a .csv file\n",
        "df_csv.to_csv('predictions.csv', index=False)"
      ],
      "metadata": {
        "id": "uBaHw53-vFvI"
      },
      "execution_count": null,
      "outputs": []
    },
    {
      "cell_type": "code",
      "source": [],
      "metadata": {
        "id": "DPBje9P_QNrV"
      },
      "execution_count": null,
      "outputs": []
    },
    {
      "cell_type": "code",
      "source": [],
      "metadata": {
        "id": "aAak8pdkQNxA"
      },
      "execution_count": null,
      "outputs": []
    },
    {
      "cell_type": "code",
      "source": [],
      "metadata": {
        "id": "t02k8QE_QNzu"
      },
      "execution_count": null,
      "outputs": []
    },
    {
      "cell_type": "markdown",
      "source": [
        "hyperparameter\n"
      ],
      "metadata": {
        "id": "t04IMOMPQO-K"
      }
    },
    {
      "cell_type": "code",
      "source": [
        "# create a sequential model object\n",
        "model = Sequential()   \n",
        "\n",
        "# add a dense layer with 100 units, ReLU activation function, and input dimension of 16 to the model\n",
        "model.add(Dense(100,activation='relu',input_dim=16))\n",
        "model.add(Dense(75,activation='relu'))\n",
        "# create a sequential model object\n",
        "model.add(Dense(50,activation='relu'))\n",
        "\n",
        "# create a sequential model object\n",
        "model.add(Dense(7,activation='softmax'))\n",
        "\n",
        "#Complie the model\n",
        "model.compile(loss='sparse_categorical_crossentropy',  # Use sparse categorical cross-entropy as the loss function\n",
        "              optimizer=Adam(learning_rate=0.001),  # Use Adam optimizer with learning rate of 0.001\n",
        "              metrics=['accuracy'])  # Track accuracy as the evaluation metric"
      ],
      "metadata": {
        "id": "pjO_SUotQN23"
      },
      "execution_count": null,
      "outputs": []
    },
    {
      "cell_type": "code",
      "source": [
        "# Train the ANN model on the training data for 50 epochs, with a 32 batch size\n",
        "# Print the training log information for each epoch (verbose=2)\n",
        "history = model.fit(X_train, Y_train, epochs=50, batch_size=32, verbose=2,validation_data=(X_test,Y_test))\n",
        "\n",
        "\n",
        "\n",
        "# Use the trained model to make predictions on the testing dataset and calculate the accuracy of testing dataset\n",
        "y_pred = model.predict(X_test)  # Get predicted class probabilities of the testing dataset\n",
        "Y_pred = y_pred.argmax(axis=-1) # Convert above probabilities to class labels\n",
        "test_Accuracy = accuracy_score(Y_test,Y_pred)  # Calculate accuracy of predicted labels compared to actual labels\n",
        "print(\"Testing ANN Accuracy: \",test_Accuracy)  # Print the testing accuracy\n",
        "\n",
        "# Use the trained model to make predictions on the training dataset and calculate the accuracy of training dataset\n",
        "y_pred = model.predict(X_train)   # Get predicted class probabilities of the training dataset\n",
        "Y_pred = y_pred.argmax(axis=-1)   # Convert above probabilities to class labels\n",
        "train_Accuracy = accuracy_score(Y_train,Y_pred)  # Calculate accuracy of predicted labels compared to actual labels\n",
        "print(\"Training ANN Accuracy: \",train_Accuracy)  # Print the testing accuracy\n"
      ],
      "metadata": {
        "colab": {
          "base_uri": "https://localhost:8080/"
        },
        "id": "mF07XvISQdow",
        "outputId": "ecab6fec-0956-4544-ed2e-3408d1cd0d11"
      },
      "execution_count": null,
      "outputs": [
        {
          "output_type": "stream",
          "name": "stdout",
          "text": [
            "Epoch 1/50\n",
            "341/341 - 2s - loss: 0.4080 - accuracy: 0.8674 - val_loss: 0.2316 - val_accuracy: 0.9196 - 2s/epoch - 5ms/step\n",
            "Epoch 2/50\n",
            "341/341 - 1s - loss: 0.2111 - accuracy: 0.9232 - val_loss: 0.2132 - val_accuracy: 0.9240 - 748ms/epoch - 2ms/step\n",
            "Epoch 3/50\n",
            "341/341 - 1s - loss: 0.2014 - accuracy: 0.9257 - val_loss: 0.2202 - val_accuracy: 0.9188 - 807ms/epoch - 2ms/step\n",
            "Epoch 4/50\n",
            "341/341 - 1s - loss: 0.1939 - accuracy: 0.9295 - val_loss: 0.2135 - val_accuracy: 0.9192 - 735ms/epoch - 2ms/step\n",
            "Epoch 5/50\n",
            "341/341 - 1s - loss: 0.1902 - accuracy: 0.9294 - val_loss: 0.2127 - val_accuracy: 0.9225 - 819ms/epoch - 2ms/step\n",
            "Epoch 6/50\n",
            "341/341 - 1s - loss: 0.1888 - accuracy: 0.9305 - val_loss: 0.2140 - val_accuracy: 0.9236 - 797ms/epoch - 2ms/step\n",
            "Epoch 7/50\n",
            "341/341 - 1s - loss: 0.1868 - accuracy: 0.9299 - val_loss: 0.2071 - val_accuracy: 0.9240 - 767ms/epoch - 2ms/step\n",
            "Epoch 8/50\n",
            "341/341 - 1s - loss: 0.1842 - accuracy: 0.9330 - val_loss: 0.2111 - val_accuracy: 0.9210 - 762ms/epoch - 2ms/step\n",
            "Epoch 9/50\n",
            "341/341 - 1s - loss: 0.1800 - accuracy: 0.9337 - val_loss: 0.2150 - val_accuracy: 0.9218 - 766ms/epoch - 2ms/step\n",
            "Epoch 10/50\n",
            "341/341 - 1s - loss: 0.1779 - accuracy: 0.9337 - val_loss: 0.2114 - val_accuracy: 0.9221 - 763ms/epoch - 2ms/step\n",
            "Epoch 11/50\n",
            "341/341 - 1s - loss: 0.1783 - accuracy: 0.9334 - val_loss: 0.2028 - val_accuracy: 0.9251 - 721ms/epoch - 2ms/step\n",
            "Epoch 12/50\n",
            "341/341 - 1s - loss: 0.1759 - accuracy: 0.9350 - val_loss: 0.2113 - val_accuracy: 0.9221 - 996ms/epoch - 3ms/step\n",
            "Epoch 13/50\n",
            "341/341 - 1s - loss: 0.1745 - accuracy: 0.9344 - val_loss: 0.2128 - val_accuracy: 0.9192 - 1s/epoch - 4ms/step\n",
            "Epoch 14/50\n",
            "341/341 - 1s - loss: 0.1756 - accuracy: 0.9336 - val_loss: 0.2141 - val_accuracy: 0.9240 - 984ms/epoch - 3ms/step\n",
            "Epoch 15/50\n",
            "341/341 - 1s - loss: 0.1734 - accuracy: 0.9346 - val_loss: 0.2047 - val_accuracy: 0.9243 - 779ms/epoch - 2ms/step\n",
            "Epoch 16/50\n",
            "341/341 - 1s - loss: 0.1722 - accuracy: 0.9344 - val_loss: 0.2115 - val_accuracy: 0.9188 - 733ms/epoch - 2ms/step\n",
            "Epoch 17/50\n",
            "341/341 - 1s - loss: 0.1679 - accuracy: 0.9380 - val_loss: 0.2088 - val_accuracy: 0.9240 - 715ms/epoch - 2ms/step\n",
            "Epoch 18/50\n",
            "341/341 - 1s - loss: 0.1683 - accuracy: 0.9360 - val_loss: 0.2070 - val_accuracy: 0.9254 - 744ms/epoch - 2ms/step\n",
            "Epoch 19/50\n",
            "341/341 - 1s - loss: 0.1670 - accuracy: 0.9366 - val_loss: 0.2084 - val_accuracy: 0.9251 - 769ms/epoch - 2ms/step\n",
            "Epoch 20/50\n",
            "341/341 - 1s - loss: 0.1657 - accuracy: 0.9365 - val_loss: 0.2093 - val_accuracy: 0.9221 - 748ms/epoch - 2ms/step\n",
            "Epoch 21/50\n",
            "341/341 - 1s - loss: 0.1655 - accuracy: 0.9372 - val_loss: 0.1993 - val_accuracy: 0.9247 - 783ms/epoch - 2ms/step\n",
            "Epoch 22/50\n",
            "341/341 - 1s - loss: 0.1649 - accuracy: 0.9375 - val_loss: 0.2077 - val_accuracy: 0.9210 - 776ms/epoch - 2ms/step\n",
            "Epoch 23/50\n",
            "341/341 - 1s - loss: 0.1629 - accuracy: 0.9365 - val_loss: 0.2070 - val_accuracy: 0.9240 - 721ms/epoch - 2ms/step\n",
            "Epoch 24/50\n",
            "341/341 - 1s - loss: 0.1629 - accuracy: 0.9369 - val_loss: 0.2023 - val_accuracy: 0.9221 - 743ms/epoch - 2ms/step\n",
            "Epoch 25/50\n",
            "341/341 - 1s - loss: 0.1622 - accuracy: 0.9378 - val_loss: 0.2125 - val_accuracy: 0.9236 - 739ms/epoch - 2ms/step\n",
            "Epoch 26/50\n",
            "341/341 - 1s - loss: 0.1603 - accuracy: 0.9408 - val_loss: 0.2084 - val_accuracy: 0.9243 - 816ms/epoch - 2ms/step\n",
            "Epoch 27/50\n",
            "341/341 - 1s - loss: 0.1614 - accuracy: 0.9381 - val_loss: 0.2263 - val_accuracy: 0.9177 - 1s/epoch - 3ms/step\n",
            "Epoch 28/50\n",
            "341/341 - 1s - loss: 0.1599 - accuracy: 0.9405 - val_loss: 0.2030 - val_accuracy: 0.9258 - 1s/epoch - 4ms/step\n",
            "Epoch 29/50\n",
            "341/341 - 1s - loss: 0.1585 - accuracy: 0.9401 - val_loss: 0.2051 - val_accuracy: 0.9247 - 1s/epoch - 3ms/step\n",
            "Epoch 30/50\n",
            "341/341 - 1s - loss: 0.1547 - accuracy: 0.9403 - val_loss: 0.2113 - val_accuracy: 0.9266 - 756ms/epoch - 2ms/step\n",
            "Epoch 31/50\n",
            "341/341 - 1s - loss: 0.1562 - accuracy: 0.9398 - val_loss: 0.2119 - val_accuracy: 0.9221 - 756ms/epoch - 2ms/step\n",
            "Epoch 32/50\n",
            "341/341 - 1s - loss: 0.1542 - accuracy: 0.9406 - val_loss: 0.2044 - val_accuracy: 0.9236 - 721ms/epoch - 2ms/step\n",
            "Epoch 33/50\n",
            "341/341 - 1s - loss: 0.1526 - accuracy: 0.9410 - val_loss: 0.2079 - val_accuracy: 0.9218 - 760ms/epoch - 2ms/step\n",
            "Epoch 34/50\n",
            "341/341 - 1s - loss: 0.1528 - accuracy: 0.9408 - val_loss: 0.2162 - val_accuracy: 0.9221 - 725ms/epoch - 2ms/step\n",
            "Epoch 35/50\n",
            "341/341 - 1s - loss: 0.1514 - accuracy: 0.9409 - val_loss: 0.2078 - val_accuracy: 0.9221 - 716ms/epoch - 2ms/step\n",
            "Epoch 36/50\n",
            "341/341 - 1s - loss: 0.1483 - accuracy: 0.9438 - val_loss: 0.2115 - val_accuracy: 0.9243 - 692ms/epoch - 2ms/step\n",
            "Epoch 37/50\n",
            "341/341 - 1s - loss: 0.1482 - accuracy: 0.9422 - val_loss: 0.2103 - val_accuracy: 0.9240 - 717ms/epoch - 2ms/step\n",
            "Epoch 38/50\n",
            "341/341 - 1s - loss: 0.1495 - accuracy: 0.9415 - val_loss: 0.2128 - val_accuracy: 0.9229 - 714ms/epoch - 2ms/step\n",
            "Epoch 39/50\n",
            "341/341 - 1s - loss: 0.1462 - accuracy: 0.9436 - val_loss: 0.2183 - val_accuracy: 0.9221 - 756ms/epoch - 2ms/step\n",
            "Epoch 40/50\n",
            "341/341 - 1s - loss: 0.1467 - accuracy: 0.9418 - val_loss: 0.2098 - val_accuracy: 0.9247 - 776ms/epoch - 2ms/step\n",
            "Epoch 41/50\n",
            "341/341 - 1s - loss: 0.1513 - accuracy: 0.9429 - val_loss: 0.2184 - val_accuracy: 0.9240 - 747ms/epoch - 2ms/step\n",
            "Epoch 42/50\n",
            "341/341 - 1s - loss: 0.1473 - accuracy: 0.9408 - val_loss: 0.2144 - val_accuracy: 0.9258 - 727ms/epoch - 2ms/step\n",
            "Epoch 43/50\n",
            "341/341 - 1s - loss: 0.1435 - accuracy: 0.9442 - val_loss: 0.2081 - val_accuracy: 0.9280 - 1s/epoch - 4ms/step\n",
            "Epoch 44/50\n",
            "341/341 - 1s - loss: 0.1417 - accuracy: 0.9441 - val_loss: 0.2251 - val_accuracy: 0.9225 - 1s/epoch - 4ms/step\n",
            "Epoch 45/50\n",
            "341/341 - 1s - loss: 0.1407 - accuracy: 0.9448 - val_loss: 0.2195 - val_accuracy: 0.9166 - 754ms/epoch - 2ms/step\n",
            "Epoch 46/50\n",
            "341/341 - 1s - loss: 0.1413 - accuracy: 0.9436 - val_loss: 0.2107 - val_accuracy: 0.9254 - 783ms/epoch - 2ms/step\n",
            "Epoch 47/50\n",
            "341/341 - 1s - loss: 0.1387 - accuracy: 0.9449 - val_loss: 0.2279 - val_accuracy: 0.9229 - 712ms/epoch - 2ms/step\n",
            "Epoch 48/50\n",
            "341/341 - 1s - loss: 0.1404 - accuracy: 0.9451 - val_loss: 0.2162 - val_accuracy: 0.9210 - 745ms/epoch - 2ms/step\n",
            "Epoch 49/50\n",
            "341/341 - 1s - loss: 0.1395 - accuracy: 0.9458 - val_loss: 0.2180 - val_accuracy: 0.9247 - 739ms/epoch - 2ms/step\n",
            "Epoch 50/50\n",
            "341/341 - 1s - loss: 0.1374 - accuracy: 0.9485 - val_loss: 0.2251 - val_accuracy: 0.9199 - 684ms/epoch - 2ms/step\n",
            "86/86 [==============================] - 0s 2ms/step\n",
            "Testing ANN Accuracy:  0.9199412412780023\n",
            "341/341 [==============================] - 1s 2ms/step\n",
            "Training ANN Accuracy:  0.9469140337986774\n"
          ]
        }
      ]
    },
    {
      "cell_type": "code",
      "source": [],
      "metadata": {
        "id": "XsEFJ4OdQ4Ym"
      },
      "execution_count": null,
      "outputs": []
    },
    {
      "cell_type": "code",
      "source": [
        "# create a sequential model object\n",
        "model = Sequential()   \n",
        "\n",
        "# add a dense layer with 100 units, ReLU activation function, and input dimension of 16 to the model\n",
        "model.add(Dense(100,activation='relu',input_dim=16))\n",
        "model.add(Dense(75,activation='relu'))\n",
        "# create a sequential model object\n",
        "model.add(Dense(50,activation='relu'))\n",
        "\n",
        "# create a sequential model object\n",
        "model.add(Dense(7,activation='softmax'))\n",
        "\n",
        "#Complie the model\n",
        "model.compile(loss='sparse_categorical_crossentropy',  # Use sparse categorical cross-entropy as the loss function\n",
        "              optimizer=Adam(learning_rate=0.001),  # Use Adam optimizer with learning rate of 0.001\n",
        "              metrics=['accuracy'])  # Track accuracy as the evaluation metric"
      ],
      "metadata": {
        "id": "uM2jkVr3T-jP"
      },
      "execution_count": null,
      "outputs": []
    },
    {
      "cell_type": "code",
      "source": [],
      "metadata": {
        "id": "Bo9IRhYYU97u"
      },
      "execution_count": null,
      "outputs": []
    },
    {
      "cell_type": "code",
      "source": [
        "# Train the ANN model on the training data for 100 epochs, with a 32 batch size\n",
        "# Print the training log information for each epoch (verbose=2)\n",
        "history = model.fit(X_train, Y_train, epochs=100, batch_size=32, verbose=2,validation_data=(X_test,Y_test))\n",
        "\n",
        "\n",
        "\n",
        "# Use the trained model to make predictions on the testing dataset and calculate the accuracy of testing dataset\n",
        "y_pred = model.predict(X_test)  # Get predicted class probabilities of the testing dataset\n",
        "Y_pred = y_pred.argmax(axis=-1) # Convert above probabilities to class labels\n",
        "test_Accuracy = accuracy_score(Y_test,Y_pred)  # Calculate accuracy of predicted labels compared to actual labels\n",
        "print(\"Testing ANN Accuracy: \",test_Accuracy)  # Print the testing accuracy\n",
        "\n",
        "# Use the trained model to make predictions on the training dataset and calculate the accuracy of training dataset\n",
        "y_pred = model.predict(X_train)   # Get predicted class probabilities of the training dataset\n",
        "Y_pred = y_pred.argmax(axis=-1)   # Convert above probabilities to class labels\n",
        "train_Accuracy = accuracy_score(Y_train,Y_pred)  # Calculate accuracy of predicted labels compared to actual labels\n",
        "print(\"Training ANN Accuracy: \",train_Accuracy)  # Print the testing accuracy\n"
      ],
      "metadata": {
        "colab": {
          "base_uri": "https://localhost:8080/"
        },
        "id": "jt_Ey9PrUT1r",
        "outputId": "72fd8127-3d32-4900-cfc0-3c3fe8b449f7"
      },
      "execution_count": null,
      "outputs": [
        {
          "output_type": "stream",
          "name": "stdout",
          "text": [
            "Epoch 1/100\n",
            "341/341 - 2s - loss: 0.4338 - accuracy: 0.8498 - val_loss: 0.2302 - val_accuracy: 0.9174 - 2s/epoch - 5ms/step\n",
            "Epoch 2/100\n",
            "341/341 - 1s - loss: 0.2112 - accuracy: 0.9213 - val_loss: 0.2331 - val_accuracy: 0.9104 - 755ms/epoch - 2ms/step\n",
            "Epoch 3/100\n",
            "341/341 - 1s - loss: 0.2038 - accuracy: 0.9232 - val_loss: 0.2221 - val_accuracy: 0.9207 - 781ms/epoch - 2ms/step\n",
            "Epoch 4/100\n",
            "341/341 - 1s - loss: 0.1980 - accuracy: 0.9261 - val_loss: 0.2205 - val_accuracy: 0.9137 - 746ms/epoch - 2ms/step\n",
            "Epoch 5/100\n",
            "341/341 - 1s - loss: 0.1915 - accuracy: 0.9270 - val_loss: 0.2142 - val_accuracy: 0.9218 - 766ms/epoch - 2ms/step\n",
            "Epoch 6/100\n",
            "341/341 - 1s - loss: 0.1878 - accuracy: 0.9296 - val_loss: 0.2192 - val_accuracy: 0.9203 - 778ms/epoch - 2ms/step\n",
            "Epoch 7/100\n",
            "341/341 - 1s - loss: 0.1874 - accuracy: 0.9296 - val_loss: 0.2109 - val_accuracy: 0.9185 - 727ms/epoch - 2ms/step\n",
            "Epoch 8/100\n",
            "341/341 - 1s - loss: 0.1851 - accuracy: 0.9321 - val_loss: 0.2040 - val_accuracy: 0.9280 - 759ms/epoch - 2ms/step\n",
            "Epoch 9/100\n",
            "341/341 - 1s - loss: 0.1817 - accuracy: 0.9324 - val_loss: 0.2090 - val_accuracy: 0.9214 - 715ms/epoch - 2ms/step\n",
            "Epoch 10/100\n",
            "341/341 - 1s - loss: 0.1825 - accuracy: 0.9305 - val_loss: 0.2108 - val_accuracy: 0.9192 - 769ms/epoch - 2ms/step\n",
            "Epoch 11/100\n",
            "341/341 - 1s - loss: 0.1775 - accuracy: 0.9345 - val_loss: 0.2189 - val_accuracy: 0.9240 - 772ms/epoch - 2ms/step\n",
            "Epoch 12/100\n",
            "341/341 - 1s - loss: 0.1799 - accuracy: 0.9327 - val_loss: 0.1998 - val_accuracy: 0.9284 - 1s/epoch - 3ms/step\n",
            "Epoch 13/100\n",
            "341/341 - 2s - loss: 0.1776 - accuracy: 0.9337 - val_loss: 0.2124 - val_accuracy: 0.9210 - 2s/epoch - 4ms/step\n",
            "Epoch 14/100\n",
            "341/341 - 1s - loss: 0.1754 - accuracy: 0.9340 - val_loss: 0.2143 - val_accuracy: 0.9232 - 818ms/epoch - 2ms/step\n",
            "Epoch 15/100\n",
            "341/341 - 1s - loss: 0.1730 - accuracy: 0.9344 - val_loss: 0.2027 - val_accuracy: 0.9284 - 731ms/epoch - 2ms/step\n",
            "Epoch 16/100\n",
            "341/341 - 1s - loss: 0.1702 - accuracy: 0.9376 - val_loss: 0.2101 - val_accuracy: 0.9210 - 792ms/epoch - 2ms/step\n",
            "Epoch 17/100\n",
            "341/341 - 1s - loss: 0.1719 - accuracy: 0.9359 - val_loss: 0.2046 - val_accuracy: 0.9221 - 728ms/epoch - 2ms/step\n",
            "Epoch 18/100\n",
            "341/341 - 1s - loss: 0.1732 - accuracy: 0.9344 - val_loss: 0.2114 - val_accuracy: 0.9214 - 749ms/epoch - 2ms/step\n",
            "Epoch 19/100\n",
            "341/341 - 1s - loss: 0.1686 - accuracy: 0.9345 - val_loss: 0.2064 - val_accuracy: 0.9269 - 786ms/epoch - 2ms/step\n",
            "Epoch 20/100\n",
            "341/341 - 1s - loss: 0.1667 - accuracy: 0.9363 - val_loss: 0.1991 - val_accuracy: 0.9302 - 1s/epoch - 3ms/step\n",
            "Epoch 21/100\n",
            "341/341 - 1s - loss: 0.1679 - accuracy: 0.9366 - val_loss: 0.2001 - val_accuracy: 0.9302 - 1s/epoch - 3ms/step\n",
            "Epoch 22/100\n",
            "341/341 - 1s - loss: 0.1663 - accuracy: 0.9364 - val_loss: 0.2146 - val_accuracy: 0.9236 - 940ms/epoch - 3ms/step\n",
            "Epoch 23/100\n",
            "341/341 - 1s - loss: 0.1650 - accuracy: 0.9368 - val_loss: 0.2054 - val_accuracy: 0.9247 - 790ms/epoch - 2ms/step\n",
            "Epoch 24/100\n",
            "341/341 - 1s - loss: 0.1638 - accuracy: 0.9373 - val_loss: 0.2098 - val_accuracy: 0.9240 - 755ms/epoch - 2ms/step\n",
            "Epoch 25/100\n",
            "341/341 - 1s - loss: 0.1617 - accuracy: 0.9381 - val_loss: 0.2074 - val_accuracy: 0.9288 - 784ms/epoch - 2ms/step\n",
            "Epoch 26/100\n",
            "341/341 - 1s - loss: 0.1607 - accuracy: 0.9375 - val_loss: 0.2153 - val_accuracy: 0.9203 - 1s/epoch - 4ms/step\n",
            "Epoch 27/100\n",
            "341/341 - 1s - loss: 0.1590 - accuracy: 0.9383 - val_loss: 0.2084 - val_accuracy: 0.9269 - 1s/epoch - 4ms/step\n",
            "Epoch 28/100\n",
            "341/341 - 1s - loss: 0.1598 - accuracy: 0.9389 - val_loss: 0.2329 - val_accuracy: 0.9126 - 749ms/epoch - 2ms/step\n",
            "Epoch 29/100\n",
            "341/341 - 1s - loss: 0.1568 - accuracy: 0.9397 - val_loss: 0.2141 - val_accuracy: 0.9214 - 716ms/epoch - 2ms/step\n",
            "Epoch 30/100\n",
            "341/341 - 1s - loss: 0.1568 - accuracy: 0.9385 - val_loss: 0.2103 - val_accuracy: 0.9277 - 729ms/epoch - 2ms/step\n",
            "Epoch 31/100\n",
            "341/341 - 1s - loss: 0.1585 - accuracy: 0.9380 - val_loss: 0.2261 - val_accuracy: 0.9185 - 739ms/epoch - 2ms/step\n",
            "Epoch 32/100\n",
            "341/341 - 1s - loss: 0.1549 - accuracy: 0.9404 - val_loss: 0.2089 - val_accuracy: 0.9273 - 764ms/epoch - 2ms/step\n",
            "Epoch 33/100\n",
            "341/341 - 1s - loss: 0.1547 - accuracy: 0.9401 - val_loss: 0.2055 - val_accuracy: 0.9254 - 809ms/epoch - 2ms/step\n",
            "Epoch 34/100\n",
            "341/341 - 1s - loss: 0.1512 - accuracy: 0.9427 - val_loss: 0.2114 - val_accuracy: 0.9273 - 757ms/epoch - 2ms/step\n",
            "Epoch 35/100\n",
            "341/341 - 1s - loss: 0.1535 - accuracy: 0.9404 - val_loss: 0.2154 - val_accuracy: 0.9240 - 762ms/epoch - 2ms/step\n",
            "Epoch 36/100\n",
            "341/341 - 1s - loss: 0.1485 - accuracy: 0.9417 - val_loss: 0.2121 - val_accuracy: 0.9236 - 730ms/epoch - 2ms/step\n",
            "Epoch 37/100\n",
            "341/341 - 1s - loss: 0.1505 - accuracy: 0.9423 - val_loss: 0.2090 - val_accuracy: 0.9291 - 769ms/epoch - 2ms/step\n",
            "Epoch 38/100\n",
            "341/341 - 1s - loss: 0.1494 - accuracy: 0.9418 - val_loss: 0.2084 - val_accuracy: 0.9258 - 772ms/epoch - 2ms/step\n",
            "Epoch 39/100\n",
            "341/341 - 1s - loss: 0.1485 - accuracy: 0.9409 - val_loss: 0.2141 - val_accuracy: 0.9247 - 759ms/epoch - 2ms/step\n",
            "Epoch 40/100\n",
            "341/341 - 1s - loss: 0.1473 - accuracy: 0.9422 - val_loss: 0.2188 - val_accuracy: 0.9207 - 787ms/epoch - 2ms/step\n",
            "Epoch 41/100\n",
            "341/341 - 1s - loss: 0.1460 - accuracy: 0.9420 - val_loss: 0.2126 - val_accuracy: 0.9225 - 1s/epoch - 3ms/step\n",
            "Epoch 42/100\n",
            "341/341 - 1s - loss: 0.1462 - accuracy: 0.9420 - val_loss: 0.2197 - val_accuracy: 0.9251 - 1s/epoch - 4ms/step\n",
            "Epoch 43/100\n",
            "341/341 - 1s - loss: 0.1449 - accuracy: 0.9428 - val_loss: 0.2163 - val_accuracy: 0.9236 - 766ms/epoch - 2ms/step\n",
            "Epoch 44/100\n",
            "341/341 - 1s - loss: 0.1445 - accuracy: 0.9450 - val_loss: 0.2105 - val_accuracy: 0.9288 - 752ms/epoch - 2ms/step\n",
            "Epoch 45/100\n",
            "341/341 - 1s - loss: 0.1418 - accuracy: 0.9454 - val_loss: 0.2144 - val_accuracy: 0.9232 - 729ms/epoch - 2ms/step\n",
            "Epoch 46/100\n",
            "341/341 - 1s - loss: 0.1441 - accuracy: 0.9459 - val_loss: 0.2103 - val_accuracy: 0.9277 - 764ms/epoch - 2ms/step\n",
            "Epoch 47/100\n",
            "341/341 - 1s - loss: 0.1421 - accuracy: 0.9443 - val_loss: 0.2175 - val_accuracy: 0.9284 - 740ms/epoch - 2ms/step\n",
            "Epoch 48/100\n",
            "341/341 - 1s - loss: 0.1396 - accuracy: 0.9444 - val_loss: 0.2198 - val_accuracy: 0.9185 - 742ms/epoch - 2ms/step\n",
            "Epoch 49/100\n",
            "341/341 - 1s - loss: 0.1389 - accuracy: 0.9462 - val_loss: 0.2146 - val_accuracy: 0.9262 - 778ms/epoch - 2ms/step\n",
            "Epoch 50/100\n",
            "341/341 - 1s - loss: 0.1390 - accuracy: 0.9437 - val_loss: 0.2120 - val_accuracy: 0.9288 - 766ms/epoch - 2ms/step\n",
            "Epoch 51/100\n",
            "341/341 - 1s - loss: 0.1367 - accuracy: 0.9449 - val_loss: 0.2256 - val_accuracy: 0.9192 - 741ms/epoch - 2ms/step\n",
            "Epoch 52/100\n",
            "341/341 - 1s - loss: 0.1362 - accuracy: 0.9450 - val_loss: 0.2281 - val_accuracy: 0.9207 - 713ms/epoch - 2ms/step\n",
            "Epoch 53/100\n",
            "341/341 - 1s - loss: 0.1354 - accuracy: 0.9465 - val_loss: 0.2179 - val_accuracy: 0.9254 - 767ms/epoch - 2ms/step\n",
            "Epoch 54/100\n",
            "341/341 - 1s - loss: 0.1360 - accuracy: 0.9468 - val_loss: 0.2287 - val_accuracy: 0.9258 - 722ms/epoch - 2ms/step\n",
            "Epoch 55/100\n",
            "341/341 - 1s - loss: 0.1342 - accuracy: 0.9494 - val_loss: 0.2234 - val_accuracy: 0.9221 - 769ms/epoch - 2ms/step\n",
            "Epoch 56/100\n",
            "341/341 - 1s - loss: 0.1308 - accuracy: 0.9486 - val_loss: 0.2301 - val_accuracy: 0.9236 - 1s/epoch - 3ms/step\n",
            "Epoch 57/100\n",
            "341/341 - 1s - loss: 0.1318 - accuracy: 0.9479 - val_loss: 0.2251 - val_accuracy: 0.9247 - 1s/epoch - 4ms/step\n",
            "Epoch 58/100\n",
            "341/341 - 1s - loss: 0.1302 - accuracy: 0.9454 - val_loss: 0.2412 - val_accuracy: 0.9148 - 841ms/epoch - 2ms/step\n",
            "Epoch 59/100\n",
            "341/341 - 1s - loss: 0.1302 - accuracy: 0.9472 - val_loss: 0.2247 - val_accuracy: 0.9225 - 713ms/epoch - 2ms/step\n",
            "Epoch 60/100\n",
            "341/341 - 1s - loss: 0.1279 - accuracy: 0.9499 - val_loss: 0.2280 - val_accuracy: 0.9258 - 724ms/epoch - 2ms/step\n",
            "Epoch 61/100\n",
            "341/341 - 1s - loss: 0.1295 - accuracy: 0.9485 - val_loss: 0.2312 - val_accuracy: 0.9225 - 805ms/epoch - 2ms/step\n",
            "Epoch 62/100\n",
            "341/341 - 1s - loss: 0.1245 - accuracy: 0.9510 - val_loss: 0.2326 - val_accuracy: 0.9203 - 744ms/epoch - 2ms/step\n",
            "Epoch 63/100\n",
            "341/341 - 1s - loss: 0.1265 - accuracy: 0.9510 - val_loss: 0.2346 - val_accuracy: 0.9247 - 741ms/epoch - 2ms/step\n",
            "Epoch 64/100\n",
            "341/341 - 1s - loss: 0.1230 - accuracy: 0.9517 - val_loss: 0.2371 - val_accuracy: 0.9243 - 707ms/epoch - 2ms/step\n",
            "Epoch 65/100\n",
            "341/341 - 1s - loss: 0.1232 - accuracy: 0.9509 - val_loss: 0.2406 - val_accuracy: 0.9229 - 744ms/epoch - 2ms/step\n",
            "Epoch 66/100\n",
            "341/341 - 1s - loss: 0.1241 - accuracy: 0.9498 - val_loss: 0.2308 - val_accuracy: 0.9225 - 728ms/epoch - 2ms/step\n",
            "Epoch 67/100\n",
            "341/341 - 1s - loss: 0.1197 - accuracy: 0.9523 - val_loss: 0.2300 - val_accuracy: 0.9210 - 768ms/epoch - 2ms/step\n",
            "Epoch 68/100\n",
            "341/341 - 1s - loss: 0.1207 - accuracy: 0.9505 - val_loss: 0.2388 - val_accuracy: 0.9221 - 771ms/epoch - 2ms/step\n",
            "Epoch 69/100\n",
            "341/341 - 1s - loss: 0.1197 - accuracy: 0.9493 - val_loss: 0.2331 - val_accuracy: 0.9266 - 746ms/epoch - 2ms/step\n",
            "Epoch 70/100\n",
            "341/341 - 1s - loss: 0.1216 - accuracy: 0.9516 - val_loss: 0.2339 - val_accuracy: 0.9221 - 724ms/epoch - 2ms/step\n",
            "Epoch 71/100\n",
            "341/341 - 1s - loss: 0.1190 - accuracy: 0.9540 - val_loss: 0.2507 - val_accuracy: 0.9192 - 878ms/epoch - 3ms/step\n",
            "Epoch 72/100\n",
            "341/341 - 1s - loss: 0.1171 - accuracy: 0.9530 - val_loss: 0.2483 - val_accuracy: 0.9240 - 1s/epoch - 4ms/step\n",
            "Epoch 73/100\n",
            "341/341 - 1s - loss: 0.1177 - accuracy: 0.9538 - val_loss: 0.2321 - val_accuracy: 0.9236 - 1s/epoch - 4ms/step\n",
            "Epoch 74/100\n",
            "341/341 - 1s - loss: 0.1142 - accuracy: 0.9544 - val_loss: 0.2504 - val_accuracy: 0.9218 - 1s/epoch - 4ms/step\n",
            "Epoch 75/100\n",
            "341/341 - 1s - loss: 0.1131 - accuracy: 0.9541 - val_loss: 0.2451 - val_accuracy: 0.9251 - 1s/epoch - 3ms/step\n",
            "Epoch 76/100\n",
            "341/341 - 1s - loss: 0.1144 - accuracy: 0.9538 - val_loss: 0.2516 - val_accuracy: 0.9210 - 715ms/epoch - 2ms/step\n",
            "Epoch 77/100\n",
            "341/341 - 1s - loss: 0.1137 - accuracy: 0.9538 - val_loss: 0.2509 - val_accuracy: 0.9196 - 757ms/epoch - 2ms/step\n",
            "Epoch 78/100\n",
            "341/341 - 1s - loss: 0.1132 - accuracy: 0.9557 - val_loss: 0.2451 - val_accuracy: 0.9214 - 746ms/epoch - 2ms/step\n",
            "Epoch 79/100\n",
            "341/341 - 1s - loss: 0.1116 - accuracy: 0.9552 - val_loss: 0.2554 - val_accuracy: 0.9203 - 769ms/epoch - 2ms/step\n",
            "Epoch 80/100\n",
            "341/341 - 1s - loss: 0.1114 - accuracy: 0.9556 - val_loss: 0.2548 - val_accuracy: 0.9196 - 719ms/epoch - 2ms/step\n",
            "Epoch 81/100\n",
            "341/341 - 1s - loss: 0.1103 - accuracy: 0.9548 - val_loss: 0.2602 - val_accuracy: 0.9225 - 793ms/epoch - 2ms/step\n",
            "Epoch 82/100\n",
            "341/341 - 1s - loss: 0.1110 - accuracy: 0.9574 - val_loss: 0.2612 - val_accuracy: 0.9229 - 723ms/epoch - 2ms/step\n",
            "Epoch 83/100\n",
            "341/341 - 1s - loss: 0.1089 - accuracy: 0.9564 - val_loss: 0.2650 - val_accuracy: 0.9210 - 765ms/epoch - 2ms/step\n",
            "Epoch 84/100\n",
            "341/341 - 1s - loss: 0.1083 - accuracy: 0.9572 - val_loss: 0.2578 - val_accuracy: 0.9229 - 752ms/epoch - 2ms/step\n",
            "Epoch 85/100\n",
            "341/341 - 1s - loss: 0.1038 - accuracy: 0.9572 - val_loss: 0.2693 - val_accuracy: 0.9232 - 739ms/epoch - 2ms/step\n",
            "Epoch 86/100\n",
            "341/341 - 1s - loss: 0.1041 - accuracy: 0.9583 - val_loss: 0.2707 - val_accuracy: 0.9207 - 1s/epoch - 3ms/step\n",
            "Epoch 87/100\n",
            "341/341 - 1s - loss: 0.1067 - accuracy: 0.9553 - val_loss: 0.2731 - val_accuracy: 0.9221 - 1s/epoch - 4ms/step\n",
            "Epoch 88/100\n",
            "341/341 - 1s - loss: 0.1043 - accuracy: 0.9577 - val_loss: 0.2667 - val_accuracy: 0.9218 - 849ms/epoch - 2ms/step\n",
            "Epoch 89/100\n",
            "341/341 - 1s - loss: 0.1015 - accuracy: 0.9582 - val_loss: 0.2564 - val_accuracy: 0.9214 - 753ms/epoch - 2ms/step\n",
            "Epoch 90/100\n",
            "341/341 - 1s - loss: 0.1033 - accuracy: 0.9581 - val_loss: 0.2703 - val_accuracy: 0.9203 - 758ms/epoch - 2ms/step\n",
            "Epoch 91/100\n",
            "341/341 - 1s - loss: 0.1028 - accuracy: 0.9567 - val_loss: 0.2711 - val_accuracy: 0.9218 - 757ms/epoch - 2ms/step\n",
            "Epoch 92/100\n",
            "341/341 - 1s - loss: 0.0998 - accuracy: 0.9606 - val_loss: 0.2884 - val_accuracy: 0.9192 - 736ms/epoch - 2ms/step\n",
            "Epoch 93/100\n",
            "341/341 - 1s - loss: 0.1005 - accuracy: 0.9588 - val_loss: 0.2761 - val_accuracy: 0.9236 - 743ms/epoch - 2ms/step\n",
            "Epoch 94/100\n",
            "341/341 - 1s - loss: 0.0977 - accuracy: 0.9608 - val_loss: 0.2766 - val_accuracy: 0.9207 - 729ms/epoch - 2ms/step\n",
            "Epoch 95/100\n",
            "341/341 - 1s - loss: 0.1025 - accuracy: 0.9607 - val_loss: 0.2689 - val_accuracy: 0.9232 - 817ms/epoch - 2ms/step\n",
            "Epoch 96/100\n",
            "341/341 - 1s - loss: 0.0937 - accuracy: 0.9619 - val_loss: 0.2887 - val_accuracy: 0.9196 - 759ms/epoch - 2ms/step\n",
            "Epoch 97/100\n",
            "341/341 - 1s - loss: 0.1001 - accuracy: 0.9602 - val_loss: 0.2936 - val_accuracy: 0.9199 - 750ms/epoch - 2ms/step\n",
            "Epoch 98/100\n",
            "341/341 - 1s - loss: 0.0969 - accuracy: 0.9622 - val_loss: 0.3002 - val_accuracy: 0.9177 - 726ms/epoch - 2ms/step\n",
            "Epoch 99/100\n",
            "341/341 - 1s - loss: 0.0967 - accuracy: 0.9605 - val_loss: 0.2980 - val_accuracy: 0.9210 - 747ms/epoch - 2ms/step\n",
            "Epoch 100/100\n",
            "341/341 - 1s - loss: 0.0938 - accuracy: 0.9619 - val_loss: 0.3107 - val_accuracy: 0.9170 - 796ms/epoch - 2ms/step\n",
            "86/86 [==============================] - 0s 2ms/step\n",
            "Testing ANN Accuracy:  0.9170033051781123\n",
            "341/341 [==============================] - 1s 2ms/step\n",
            "Training ANN Accuracy:  0.9641807494489346\n"
          ]
        }
      ]
    },
    {
      "cell_type": "code",
      "source": [],
      "metadata": {
        "id": "yhy5KVidUgR8"
      },
      "execution_count": null,
      "outputs": []
    },
    {
      "cell_type": "code",
      "source": [],
      "metadata": {
        "id": "VILGDqXCU_Bt"
      },
      "execution_count": null,
      "outputs": []
    },
    {
      "cell_type": "code",
      "source": [
        "# create a sequential model object\n",
        "model = Sequential()   \n",
        "\n",
        "# add a dense layer with 100 units, ReLU activation function, and input dimension of 16 to the model\n",
        "model.add(Dense(100,activation='relu',input_dim=16))\n",
        "model.add(Dropout(0.4))\n",
        "model.add(Dense(75,activation='relu'))\n",
        "# create a sequential model object\n",
        "model.add(Dropout(0.4))\n",
        "model.add(Dense(50,activation='relu'))\n",
        "\n",
        "# create a sequential model object\n",
        "model.add(Dense(7,activation='softmax'))\n",
        "\n",
        "#Complie the model\n",
        "model.compile(loss='sparse_categorical_crossentropy',  # Use sparse categorical cross-entropy as the loss function\n",
        "              optimizer=Adam(learning_rate=0.001),  # Use Adam optimizer with learning rate of 0.001\n",
        "              metrics=['accuracy'])  # Track accuracy as the evaluation metric"
      ],
      "metadata": {
        "id": "xBfpkBJhU_Eg"
      },
      "execution_count": null,
      "outputs": []
    },
    {
      "cell_type": "code",
      "source": [
        "# Train the ANN model on the training data for 100 epochs, with a 32 batch size\n",
        "# Print the training log information for each epoch (verbose=2)\n",
        "history = model.fit(X_train, Y_train, epochs=100, batch_size=32, verbose=2,validation_data=(X_test,Y_test))\n",
        "\n",
        "print(\"********************************************************\")\n",
        "\n",
        "# Use the trained model to make predictions on the testing dataset and calculate the accuracy of testing dataset\n",
        "y_pred = model.predict(X_test)  # Get predicted class probabilities of the testing dataset\n",
        "Y_pred = y_pred.argmax(axis=-1) # Convert above probabilities to class labels\n",
        "test_Accuracy = accuracy_score(Y_test,Y_pred)  # Calculate accuracy of predicted labels compared to actual labels\n",
        "print(\"Testing ANN Accuracy: \",test_Accuracy)  # Print the testing accuracy\n",
        "\n",
        "# Use the trained model to make predictions on the training dataset and calculate the accuracy of training dataset\n",
        "y_pred = model.predict(X_train)   # Get predicted class probabilities of the training dataset\n",
        "Y_pred = y_pred.argmax(axis=-1)   # Convert above probabilities to class labels\n",
        "train_Accuracy = accuracy_score(Y_train,Y_pred)  # Calculate accuracy of predicted labels compared to actual labels\n",
        "print(\"Training ANN Accuracy: \",train_Accuracy)  # Print the testing accuracy"
      ],
      "metadata": {
        "colab": {
          "base_uri": "https://localhost:8080/",
          "height": 1000
        },
        "id": "zyIKYpnKU_IR",
        "outputId": "bb2bf4ba-3206-4c31-84cf-682efed79095"
      },
      "execution_count": null,
      "outputs": [
        {
          "output_type": "stream",
          "name": "stdout",
          "text": [
            "Epoch 1/100\n",
            "341/341 - 2s - loss: 0.7141 - accuracy: 0.7391 - val_loss: 0.2794 - val_accuracy: 0.9071 - 2s/epoch - 6ms/step\n",
            "Epoch 2/100\n",
            "341/341 - 1s - loss: 0.3456 - accuracy: 0.8812 - val_loss: 0.2267 - val_accuracy: 0.9203 - 831ms/epoch - 2ms/step\n",
            "Epoch 3/100\n",
            "341/341 - 1s - loss: 0.2997 - accuracy: 0.8954 - val_loss: 0.2260 - val_accuracy: 0.9236 - 847ms/epoch - 2ms/step\n",
            "Epoch 4/100\n",
            "341/341 - 1s - loss: 0.2762 - accuracy: 0.9026 - val_loss: 0.2193 - val_accuracy: 0.9240 - 852ms/epoch - 2ms/step\n",
            "Epoch 5/100\n",
            "341/341 - 1s - loss: 0.2671 - accuracy: 0.9069 - val_loss: 0.2161 - val_accuracy: 0.9229 - 823ms/epoch - 2ms/step\n",
            "Epoch 6/100\n",
            "341/341 - 1s - loss: 0.2541 - accuracy: 0.9119 - val_loss: 0.2189 - val_accuracy: 0.9218 - 834ms/epoch - 2ms/step\n",
            "Epoch 7/100\n",
            "341/341 - 1s - loss: 0.2526 - accuracy: 0.9117 - val_loss: 0.2147 - val_accuracy: 0.9207 - 800ms/epoch - 2ms/step\n",
            "Epoch 8/100\n",
            "341/341 - 1s - loss: 0.2499 - accuracy: 0.9172 - val_loss: 0.2110 - val_accuracy: 0.9236 - 841ms/epoch - 2ms/step\n",
            "Epoch 9/100\n",
            "341/341 - 1s - loss: 0.2433 - accuracy: 0.9164 - val_loss: 0.2176 - val_accuracy: 0.9181 - 833ms/epoch - 2ms/step\n",
            "Epoch 10/100\n",
            "341/341 - 1s - loss: 0.2351 - accuracy: 0.9204 - val_loss: 0.2090 - val_accuracy: 0.9229 - 771ms/epoch - 2ms/step\n",
            "Epoch 11/100\n",
            "341/341 - 1s - loss: 0.2340 - accuracy: 0.9191 - val_loss: 0.2117 - val_accuracy: 0.9247 - 804ms/epoch - 2ms/step\n",
            "Epoch 12/100\n",
            "341/341 - 1s - loss: 0.2391 - accuracy: 0.9183 - val_loss: 0.2054 - val_accuracy: 0.9247 - 1s/epoch - 4ms/step\n",
            "Epoch 13/100\n",
            "341/341 - 1s - loss: 0.2355 - accuracy: 0.9176 - val_loss: 0.2072 - val_accuracy: 0.9203 - 1s/epoch - 4ms/step\n",
            "Epoch 14/100\n",
            "341/341 - 1s - loss: 0.2186 - accuracy: 0.9223 - val_loss: 0.2081 - val_accuracy: 0.9214 - 1s/epoch - 3ms/step\n",
            "Epoch 15/100\n",
            "341/341 - 1s - loss: 0.2220 - accuracy: 0.9230 - val_loss: 0.2084 - val_accuracy: 0.9280 - 814ms/epoch - 2ms/step\n",
            "Epoch 16/100\n",
            "341/341 - 1s - loss: 0.2246 - accuracy: 0.9200 - val_loss: 0.2111 - val_accuracy: 0.9192 - 825ms/epoch - 2ms/step\n",
            "Epoch 17/100\n",
            "341/341 - 1s - loss: 0.2208 - accuracy: 0.9224 - val_loss: 0.2052 - val_accuracy: 0.9306 - 826ms/epoch - 2ms/step\n",
            "Epoch 18/100\n",
            "341/341 - 1s - loss: 0.2176 - accuracy: 0.9217 - val_loss: 0.2058 - val_accuracy: 0.9277 - 791ms/epoch - 2ms/step\n",
            "Epoch 19/100\n",
            "341/341 - 1s - loss: 0.2252 - accuracy: 0.9205 - val_loss: 0.2080 - val_accuracy: 0.9240 - 795ms/epoch - 2ms/step\n",
            "Epoch 20/100\n",
            "341/341 - 1s - loss: 0.2181 - accuracy: 0.9240 - val_loss: 0.2010 - val_accuracy: 0.9258 - 758ms/epoch - 2ms/step\n",
            "Epoch 21/100\n",
            "341/341 - 1s - loss: 0.2230 - accuracy: 0.9224 - val_loss: 0.2133 - val_accuracy: 0.9185 - 776ms/epoch - 2ms/step\n",
            "Epoch 22/100\n",
            "341/341 - 1s - loss: 0.2166 - accuracy: 0.9223 - val_loss: 0.2046 - val_accuracy: 0.9277 - 780ms/epoch - 2ms/step\n",
            "Epoch 23/100\n",
            "341/341 - 1s - loss: 0.2196 - accuracy: 0.9184 - val_loss: 0.2071 - val_accuracy: 0.9225 - 793ms/epoch - 2ms/step\n",
            "Epoch 24/100\n",
            "341/341 - 1s - loss: 0.2076 - accuracy: 0.9288 - val_loss: 0.2018 - val_accuracy: 0.9258 - 801ms/epoch - 2ms/step\n",
            "Epoch 25/100\n",
            "341/341 - 1s - loss: 0.2122 - accuracy: 0.9246 - val_loss: 0.2030 - val_accuracy: 0.9240 - 797ms/epoch - 2ms/step\n",
            "Epoch 26/100\n",
            "341/341 - 1s - loss: 0.2165 - accuracy: 0.9242 - val_loss: 0.2024 - val_accuracy: 0.9258 - 1s/epoch - 3ms/step\n",
            "Epoch 27/100\n",
            "341/341 - 2s - loss: 0.2155 - accuracy: 0.9225 - val_loss: 0.2027 - val_accuracy: 0.9266 - 2s/epoch - 4ms/step\n",
            "Epoch 28/100\n",
            "341/341 - 1s - loss: 0.2155 - accuracy: 0.9244 - val_loss: 0.2122 - val_accuracy: 0.9196 - 969ms/epoch - 3ms/step\n",
            "Epoch 29/100\n",
            "341/341 - 1s - loss: 0.2126 - accuracy: 0.9252 - val_loss: 0.2020 - val_accuracy: 0.9232 - 876ms/epoch - 3ms/step\n",
            "Epoch 30/100\n",
            "341/341 - 1s - loss: 0.2082 - accuracy: 0.9254 - val_loss: 0.2029 - val_accuracy: 0.9262 - 860ms/epoch - 3ms/step\n",
            "Epoch 31/100\n",
            "341/341 - 1s - loss: 0.2126 - accuracy: 0.9278 - val_loss: 0.2077 - val_accuracy: 0.9266 - 814ms/epoch - 2ms/step\n",
            "Epoch 32/100\n",
            "341/341 - 1s - loss: 0.2091 - accuracy: 0.9241 - val_loss: 0.2025 - val_accuracy: 0.9262 - 805ms/epoch - 2ms/step\n",
            "Epoch 33/100\n",
            "341/341 - 1s - loss: 0.2118 - accuracy: 0.9267 - val_loss: 0.2010 - val_accuracy: 0.9214 - 820ms/epoch - 2ms/step\n",
            "Epoch 34/100\n",
            "341/341 - 1s - loss: 0.2035 - accuracy: 0.9295 - val_loss: 0.2030 - val_accuracy: 0.9247 - 838ms/epoch - 2ms/step\n",
            "Epoch 35/100\n",
            "341/341 - 1s - loss: 0.2129 - accuracy: 0.9251 - val_loss: 0.1968 - val_accuracy: 0.9288 - 839ms/epoch - 2ms/step\n",
            "Epoch 36/100\n",
            "341/341 - 1s - loss: 0.2025 - accuracy: 0.9286 - val_loss: 0.1995 - val_accuracy: 0.9251 - 780ms/epoch - 2ms/step\n",
            "Epoch 37/100\n",
            "341/341 - 1s - loss: 0.2073 - accuracy: 0.9250 - val_loss: 0.1958 - val_accuracy: 0.9291 - 837ms/epoch - 2ms/step\n",
            "Epoch 38/100\n",
            "341/341 - 1s - loss: 0.2032 - accuracy: 0.9276 - val_loss: 0.1979 - val_accuracy: 0.9251 - 809ms/epoch - 2ms/step\n",
            "Epoch 39/100\n",
            "341/341 - 1s - loss: 0.2064 - accuracy: 0.9265 - val_loss: 0.2064 - val_accuracy: 0.9240 - 807ms/epoch - 2ms/step\n",
            "Epoch 40/100\n",
            "341/341 - 2s - loss: 0.2051 - accuracy: 0.9265 - val_loss: 0.2053 - val_accuracy: 0.9247 - 2s/epoch - 6ms/step\n",
            "Epoch 41/100\n",
            "341/341 - 2s - loss: 0.2073 - accuracy: 0.9266 - val_loss: 0.2003 - val_accuracy: 0.9243 - 2s/epoch - 6ms/step\n",
            "Epoch 42/100\n",
            "341/341 - 2s - loss: 0.2030 - accuracy: 0.9275 - val_loss: 0.2045 - val_accuracy: 0.9273 - 2s/epoch - 6ms/step\n",
            "Epoch 43/100\n",
            "341/341 - 2s - loss: 0.2041 - accuracy: 0.9285 - val_loss: 0.1970 - val_accuracy: 0.9243 - 2s/epoch - 7ms/step\n",
            "Epoch 44/100\n",
            "341/341 - 2s - loss: 0.2056 - accuracy: 0.9266 - val_loss: 0.2038 - val_accuracy: 0.9236 - 2s/epoch - 5ms/step\n",
            "Epoch 45/100\n",
            "341/341 - 2s - loss: 0.2022 - accuracy: 0.9279 - val_loss: 0.2056 - val_accuracy: 0.9262 - 2s/epoch - 5ms/step\n",
            "Epoch 46/100\n",
            "341/341 - 2s - loss: 0.2041 - accuracy: 0.9260 - val_loss: 0.2079 - val_accuracy: 0.9251 - 2s/epoch - 7ms/step\n",
            "Epoch 47/100\n",
            "341/341 - 3s - loss: 0.2047 - accuracy: 0.9246 - val_loss: 0.1996 - val_accuracy: 0.9240 - 3s/epoch - 8ms/step\n",
            "Epoch 48/100\n",
            "341/341 - 2s - loss: 0.2022 - accuracy: 0.9281 - val_loss: 0.2046 - val_accuracy: 0.9258 - 2s/epoch - 5ms/step\n",
            "Epoch 49/100\n",
            "341/341 - 2s - loss: 0.2014 - accuracy: 0.9290 - val_loss: 0.2041 - val_accuracy: 0.9262 - 2s/epoch - 5ms/step\n",
            "Epoch 50/100\n",
            "341/341 - 1s - loss: 0.2009 - accuracy: 0.9262 - val_loss: 0.2007 - val_accuracy: 0.9266 - 1s/epoch - 4ms/step\n",
            "Epoch 51/100\n",
            "341/341 - 1s - loss: 0.1979 - accuracy: 0.9295 - val_loss: 0.1992 - val_accuracy: 0.9266 - 1s/epoch - 4ms/step\n",
            "Epoch 52/100\n",
            "341/341 - 1s - loss: 0.1983 - accuracy: 0.9284 - val_loss: 0.2054 - val_accuracy: 0.9269 - 1s/epoch - 4ms/step\n",
            "Epoch 53/100\n",
            "341/341 - 1s - loss: 0.2022 - accuracy: 0.9274 - val_loss: 0.2067 - val_accuracy: 0.9269 - 1s/epoch - 4ms/step\n",
            "Epoch 54/100\n",
            "341/341 - 2s - loss: 0.1983 - accuracy: 0.9303 - val_loss: 0.2019 - val_accuracy: 0.9266 - 2s/epoch - 7ms/step\n",
            "Epoch 55/100\n",
            "341/341 - 2s - loss: 0.2035 - accuracy: 0.9280 - val_loss: 0.2027 - val_accuracy: 0.9266 - 2s/epoch - 4ms/step\n",
            "Epoch 56/100\n",
            "341/341 - 2s - loss: 0.1990 - accuracy: 0.9282 - val_loss: 0.1987 - val_accuracy: 0.9266 - 2s/epoch - 6ms/step\n",
            "Epoch 57/100\n",
            "341/341 - 2s - loss: 0.1985 - accuracy: 0.9296 - val_loss: 0.2137 - val_accuracy: 0.9192 - 2s/epoch - 4ms/step\n",
            "Epoch 58/100\n",
            "341/341 - 1s - loss: 0.1993 - accuracy: 0.9290 - val_loss: 0.2061 - val_accuracy: 0.9207 - 1s/epoch - 4ms/step\n",
            "Epoch 59/100\n",
            "341/341 - 1s - loss: 0.2032 - accuracy: 0.9281 - val_loss: 0.2016 - val_accuracy: 0.9251 - 1s/epoch - 4ms/step\n",
            "Epoch 60/100\n",
            "341/341 - 2s - loss: 0.1990 - accuracy: 0.9286 - val_loss: 0.2013 - val_accuracy: 0.9247 - 2s/epoch - 5ms/step\n",
            "Epoch 61/100\n",
            "341/341 - 2s - loss: 0.1960 - accuracy: 0.9292 - val_loss: 0.2029 - val_accuracy: 0.9247 - 2s/epoch - 6ms/step\n",
            "Epoch 62/100\n",
            "341/341 - 2s - loss: 0.2001 - accuracy: 0.9290 - val_loss: 0.2005 - val_accuracy: 0.9262 - 2s/epoch - 7ms/step\n",
            "Epoch 63/100\n",
            "341/341 - 1s - loss: 0.1991 - accuracy: 0.9292 - val_loss: 0.1989 - val_accuracy: 0.9243 - 819ms/epoch - 2ms/step\n",
            "Epoch 64/100\n",
            "341/341 - 1s - loss: 0.1992 - accuracy: 0.9288 - val_loss: 0.2020 - val_accuracy: 0.9262 - 870ms/epoch - 3ms/step\n",
            "Epoch 65/100\n",
            "341/341 - 1s - loss: 0.1961 - accuracy: 0.9279 - val_loss: 0.2045 - val_accuracy: 0.9225 - 861ms/epoch - 3ms/step\n",
            "Epoch 66/100\n",
            "341/341 - 1s - loss: 0.1971 - accuracy: 0.9298 - val_loss: 0.2012 - val_accuracy: 0.9218 - 818ms/epoch - 2ms/step\n",
            "Epoch 67/100\n",
            "341/341 - 1s - loss: 0.1970 - accuracy: 0.9307 - val_loss: 0.2001 - val_accuracy: 0.9218 - 809ms/epoch - 2ms/step\n",
            "Epoch 68/100\n",
            "341/341 - 1s - loss: 0.1940 - accuracy: 0.9295 - val_loss: 0.2073 - val_accuracy: 0.9210 - 766ms/epoch - 2ms/step\n",
            "Epoch 69/100\n",
            "341/341 - 1s - loss: 0.1931 - accuracy: 0.9297 - val_loss: 0.2026 - val_accuracy: 0.9262 - 786ms/epoch - 2ms/step\n",
            "Epoch 70/100\n",
            "341/341 - 1s - loss: 0.1985 - accuracy: 0.9279 - val_loss: 0.1979 - val_accuracy: 0.9280 - 784ms/epoch - 2ms/step\n",
            "Epoch 71/100\n",
            "341/341 - 1s - loss: 0.1951 - accuracy: 0.9314 - val_loss: 0.2052 - val_accuracy: 0.9254 - 792ms/epoch - 2ms/step\n",
            "Epoch 72/100\n",
            "341/341 - 1s - loss: 0.1928 - accuracy: 0.9318 - val_loss: 0.2071 - val_accuracy: 0.9232 - 775ms/epoch - 2ms/step\n",
            "Epoch 73/100\n",
            "341/341 - 1s - loss: 0.1966 - accuracy: 0.9261 - val_loss: 0.1984 - val_accuracy: 0.9251 - 855ms/epoch - 3ms/step\n",
            "Epoch 74/100\n",
            "341/341 - 1s - loss: 0.1929 - accuracy: 0.9296 - val_loss: 0.2019 - val_accuracy: 0.9273 - 1s/epoch - 3ms/step\n",
            "Epoch 75/100\n",
            "341/341 - 1s - loss: 0.1957 - accuracy: 0.9307 - val_loss: 0.1978 - val_accuracy: 0.9273 - 1s/epoch - 4ms/step\n",
            "Epoch 76/100\n",
            "341/341 - 1s - loss: 0.1925 - accuracy: 0.9291 - val_loss: 0.1991 - val_accuracy: 0.9269 - 1s/epoch - 3ms/step\n",
            "Epoch 77/100\n",
            "341/341 - 1s - loss: 0.1973 - accuracy: 0.9305 - val_loss: 0.2017 - val_accuracy: 0.9254 - 792ms/epoch - 2ms/step\n",
            "Epoch 78/100\n",
            "341/341 - 1s - loss: 0.1898 - accuracy: 0.9323 - val_loss: 0.1985 - val_accuracy: 0.9247 - 784ms/epoch - 2ms/step\n",
            "Epoch 79/100\n",
            "341/341 - 1s - loss: 0.1930 - accuracy: 0.9301 - val_loss: 0.1981 - val_accuracy: 0.9273 - 836ms/epoch - 2ms/step\n",
            "Epoch 80/100\n",
            "341/341 - 1s - loss: 0.1948 - accuracy: 0.9309 - val_loss: 0.1989 - val_accuracy: 0.9221 - 812ms/epoch - 2ms/step\n",
            "Epoch 81/100\n",
            "341/341 - 1s - loss: 0.1953 - accuracy: 0.9293 - val_loss: 0.2027 - val_accuracy: 0.9243 - 811ms/epoch - 2ms/step\n",
            "Epoch 82/100\n",
            "341/341 - 1s - loss: 0.1995 - accuracy: 0.9280 - val_loss: 0.2029 - val_accuracy: 0.9214 - 805ms/epoch - 2ms/step\n",
            "Epoch 83/100\n",
            "341/341 - 1s - loss: 0.1928 - accuracy: 0.9282 - val_loss: 0.2034 - val_accuracy: 0.9203 - 780ms/epoch - 2ms/step\n",
            "Epoch 84/100\n",
            "341/341 - 1s - loss: 0.1954 - accuracy: 0.9292 - val_loss: 0.1967 - val_accuracy: 0.9273 - 800ms/epoch - 2ms/step\n",
            "Epoch 85/100\n",
            "341/341 - 1s - loss: 0.1910 - accuracy: 0.9303 - val_loss: 0.1990 - val_accuracy: 0.9247 - 806ms/epoch - 2ms/step\n",
            "Epoch 86/100\n",
            "341/341 - 1s - loss: 0.1900 - accuracy: 0.9310 - val_loss: 0.1972 - val_accuracy: 0.9258 - 823ms/epoch - 2ms/step\n",
            "Epoch 87/100\n",
            "341/341 - 1s - loss: 0.1916 - accuracy: 0.9292 - val_loss: 0.2014 - val_accuracy: 0.9284 - 807ms/epoch - 2ms/step\n",
            "Epoch 88/100\n",
            "341/341 - 1s - loss: 0.1928 - accuracy: 0.9303 - val_loss: 0.1966 - val_accuracy: 0.9266 - 960ms/epoch - 3ms/step\n",
            "Epoch 89/100\n",
            "341/341 - 2s - loss: 0.1869 - accuracy: 0.9310 - val_loss: 0.1981 - val_accuracy: 0.9273 - 2s/epoch - 4ms/step\n",
            "Epoch 90/100\n",
            "341/341 - 1s - loss: 0.1929 - accuracy: 0.9296 - val_loss: 0.1970 - val_accuracy: 0.9269 - 1s/epoch - 3ms/step\n",
            "Epoch 91/100\n",
            "341/341 - 1s - loss: 0.1946 - accuracy: 0.9290 - val_loss: 0.1998 - val_accuracy: 0.9269 - 837ms/epoch - 2ms/step\n",
            "Epoch 92/100\n",
            "341/341 - 1s - loss: 0.1910 - accuracy: 0.9307 - val_loss: 0.1989 - val_accuracy: 0.9251 - 803ms/epoch - 2ms/step\n",
            "Epoch 93/100\n",
            "341/341 - 1s - loss: 0.1929 - accuracy: 0.9290 - val_loss: 0.2031 - val_accuracy: 0.9262 - 823ms/epoch - 2ms/step\n",
            "Epoch 94/100\n",
            "341/341 - 1s - loss: 0.1888 - accuracy: 0.9312 - val_loss: 0.1995 - val_accuracy: 0.9232 - 816ms/epoch - 2ms/step\n",
            "Epoch 95/100\n",
            "341/341 - 1s - loss: 0.1887 - accuracy: 0.9307 - val_loss: 0.2048 - val_accuracy: 0.9251 - 821ms/epoch - 2ms/step\n",
            "Epoch 96/100\n",
            "341/341 - 1s - loss: 0.1919 - accuracy: 0.9289 - val_loss: 0.1984 - val_accuracy: 0.9258 - 834ms/epoch - 2ms/step\n",
            "Epoch 97/100\n",
            "341/341 - 1s - loss: 0.1915 - accuracy: 0.9320 - val_loss: 0.1953 - val_accuracy: 0.9266 - 852ms/epoch - 2ms/step\n",
            "Epoch 98/100\n",
            "341/341 - 1s - loss: 0.1914 - accuracy: 0.9299 - val_loss: 0.2032 - val_accuracy: 0.9284 - 897ms/epoch - 3ms/step\n",
            "Epoch 99/100\n",
            "341/341 - 1s - loss: 0.1912 - accuracy: 0.9311 - val_loss: 0.1970 - val_accuracy: 0.9277 - 833ms/epoch - 2ms/step\n",
            "Epoch 100/100\n",
            "341/341 - 1s - loss: 0.1913 - accuracy: 0.9324 - val_loss: 0.1976 - val_accuracy: 0.9258 - 774ms/epoch - 2ms/step\n"
          ]
        },
        {
          "output_type": "error",
          "ename": "KeyboardInterrupt",
          "evalue": "ignored",
          "traceback": [
            "\u001b[0;31m---------------------------------------------------------------------------\u001b[0m",
            "\u001b[0;31mKeyboardInterrupt\u001b[0m                         Traceback (most recent call last)",
            "\u001b[0;32m<ipython-input-85-5c83d20714f1>\u001b[0m in \u001b[0;36m<cell line: 3>\u001b[0;34m()\u001b[0m\n\u001b[1;32m      1\u001b[0m \u001b[0;31m# Train the ANN model on the training data for 100 epochs, with a 32 batch size\u001b[0m\u001b[0;34m\u001b[0m\u001b[0;34m\u001b[0m\u001b[0m\n\u001b[1;32m      2\u001b[0m \u001b[0;31m# Print the training log information for each epoch (verbose=2)\u001b[0m\u001b[0;34m\u001b[0m\u001b[0;34m\u001b[0m\u001b[0m\n\u001b[0;32m----> 3\u001b[0;31m \u001b[0mhistory\u001b[0m \u001b[0;34m=\u001b[0m \u001b[0mmodel\u001b[0m\u001b[0;34m.\u001b[0m\u001b[0mfit\u001b[0m\u001b[0;34m(\u001b[0m\u001b[0mX_train\u001b[0m\u001b[0;34m,\u001b[0m \u001b[0mY_train\u001b[0m\u001b[0;34m,\u001b[0m \u001b[0mepochs\u001b[0m\u001b[0;34m=\u001b[0m\u001b[0;36m100\u001b[0m\u001b[0;34m,\u001b[0m \u001b[0mbatch_size\u001b[0m\u001b[0;34m=\u001b[0m\u001b[0;36m32\u001b[0m\u001b[0;34m,\u001b[0m \u001b[0mverbose\u001b[0m\u001b[0;34m=\u001b[0m\u001b[0;36m2\u001b[0m\u001b[0;34m,\u001b[0m\u001b[0mvalidation_data\u001b[0m\u001b[0;34m=\u001b[0m\u001b[0;34m(\u001b[0m\u001b[0mX_test\u001b[0m\u001b[0;34m,\u001b[0m\u001b[0mY_test\u001b[0m\u001b[0;34m)\u001b[0m\u001b[0;34m)\u001b[0m\u001b[0;34m\u001b[0m\u001b[0;34m\u001b[0m\u001b[0m\n\u001b[0m\u001b[1;32m      4\u001b[0m \u001b[0;34m\u001b[0m\u001b[0m\n\u001b[1;32m      5\u001b[0m \u001b[0mprint\u001b[0m\u001b[0;34m(\u001b[0m\u001b[0;34m\"********************************************************\"\u001b[0m\u001b[0;34m)\u001b[0m\u001b[0;34m\u001b[0m\u001b[0;34m\u001b[0m\u001b[0m\n",
            "\u001b[0;32m/usr/local/lib/python3.9/dist-packages/keras/utils/traceback_utils.py\u001b[0m in \u001b[0;36merror_handler\u001b[0;34m(*args, **kwargs)\u001b[0m\n\u001b[1;32m     63\u001b[0m         \u001b[0mfiltered_tb\u001b[0m \u001b[0;34m=\u001b[0m \u001b[0;32mNone\u001b[0m\u001b[0;34m\u001b[0m\u001b[0;34m\u001b[0m\u001b[0m\n\u001b[1;32m     64\u001b[0m         \u001b[0;32mtry\u001b[0m\u001b[0;34m:\u001b[0m\u001b[0;34m\u001b[0m\u001b[0;34m\u001b[0m\u001b[0m\n\u001b[0;32m---> 65\u001b[0;31m             \u001b[0;32mreturn\u001b[0m \u001b[0mfn\u001b[0m\u001b[0;34m(\u001b[0m\u001b[0;34m*\u001b[0m\u001b[0margs\u001b[0m\u001b[0;34m,\u001b[0m \u001b[0;34m**\u001b[0m\u001b[0mkwargs\u001b[0m\u001b[0;34m)\u001b[0m\u001b[0;34m\u001b[0m\u001b[0;34m\u001b[0m\u001b[0m\n\u001b[0m\u001b[1;32m     66\u001b[0m         \u001b[0;32mexcept\u001b[0m \u001b[0mException\u001b[0m \u001b[0;32mas\u001b[0m \u001b[0me\u001b[0m\u001b[0;34m:\u001b[0m\u001b[0;34m\u001b[0m\u001b[0;34m\u001b[0m\u001b[0m\n\u001b[1;32m     67\u001b[0m             \u001b[0mfiltered_tb\u001b[0m \u001b[0;34m=\u001b[0m \u001b[0m_process_traceback_frames\u001b[0m\u001b[0;34m(\u001b[0m\u001b[0me\u001b[0m\u001b[0;34m.\u001b[0m\u001b[0m__traceback__\u001b[0m\u001b[0;34m)\u001b[0m\u001b[0;34m\u001b[0m\u001b[0;34m\u001b[0m\u001b[0m\n",
            "\u001b[0;31mKeyboardInterrupt\u001b[0m: "
          ]
        }
      ]
    },
    {
      "cell_type": "code",
      "source": [],
      "metadata": {
        "id": "aiSqKQQPVNM0"
      },
      "execution_count": null,
      "outputs": []
    },
    {
      "cell_type": "code",
      "source": [],
      "metadata": {
        "id": "F7DzSx5aVnJX"
      },
      "execution_count": null,
      "outputs": []
    },
    {
      "cell_type": "code",
      "source": [
        "# create a sequential model object\n",
        "model = Sequential()   \n",
        "\n",
        "# add a dense layer with 100 units, ReLU activation function, and input dimension of 16 to the model\n",
        "model.add(Dense(100,activation='relu',input_dim=16))\n",
        "model.add(Dropout(0.2))\n",
        "model.add(Dense(75,activation='relu'))\n",
        "# create a sequential model object\n",
        "model.add(Dropout(0.2))\n",
        "model.add(Dense(50,activation='relu'))\n",
        "\n",
        "# create a sequential model object\n",
        "model.add(Dense(7,activation='softmax'))\n",
        "\n",
        "#Complie the model\n",
        "model.compile(loss='sparse_categorical_crossentropy',  # Use sparse categorical cross-entropy as the loss function\n",
        "              optimizer=Adam(learning_rate=0.001),  # Use Adam optimizer with learning rate of 0.001\n",
        "              metrics=['accuracy'])  # Track accuracy as the evaluation metric"
      ],
      "metadata": {
        "id": "59rOF0KyVnMF"
      },
      "execution_count": null,
      "outputs": []
    },
    {
      "cell_type": "code",
      "source": [
        "# Train the ANN model on the training data for 100 epochs, with a 32 batch size\n",
        "# Print the training log information for each epoch (verbose=2)\n",
        "history = model.fit(X_train, Y_train, epochs=100, batch_size=32, verbose=2,validation_data=(X_test,Y_test))\n",
        "\n",
        "print(\"********************************************************\")\n",
        "\n",
        "# Use the trained model to make predictions on the testing dataset and calculate the accuracy of testing dataset\n",
        "y_pred = model.predict(X_test)  # Get predicted class probabilities of the testing dataset\n",
        "Y_pred = y_pred.argmax(axis=-1) # Convert above probabilities to class labels\n",
        "test_Accuracy = accuracy_score(Y_test,Y_pred)  # Calculate accuracy of predicted labels compared to actual labels\n",
        "print(\"Testing ANN Accuracy: \",test_Accuracy)  # Print the testing accuracy\n",
        "\n",
        "# Use the trained model to make predictions on the training dataset and calculate the accuracy of training dataset\n",
        "y_pred = model.predict(X_train)   # Get predicted class probabilities of the training dataset\n",
        "Y_pred = y_pred.argmax(axis=-1)   # Convert above probabilities to class labels\n",
        "train_Accuracy = accuracy_score(Y_train,Y_pred)  # Calculate accuracy of predicted labels compared to actual labels\n",
        "print(\"Training ANN Accuracy: \",train_Accuracy)  # Print the testing accuracy"
      ],
      "metadata": {
        "id": "B3TgdL9KVqxP"
      },
      "execution_count": null,
      "outputs": []
    },
    {
      "cell_type": "code",
      "source": [],
      "metadata": {
        "id": "PFihZpjbVzIc"
      },
      "execution_count": null,
      "outputs": []
    },
    {
      "cell_type": "code",
      "source": [],
      "metadata": {
        "id": "U7-eF2cCWYu8"
      },
      "execution_count": null,
      "outputs": []
    },
    {
      "cell_type": "code",
      "source": [
        "# create a sequential model object\n",
        "model = Sequential()   \n",
        "\n",
        "# add a dense layer with 100 units, ReLU activation function, and input dimension of 16 to the model\n",
        "model.add(Dense(100,activation='relu',input_dim=16))\n",
        "model.add(Dropout(0.2))\n",
        "model.add(Dense(75,activation='relu'))\n",
        "# create a sequential model object\n",
        "model.add(Dropout(0.2))\n",
        "model.add(Dense(50,activation='relu'))\n",
        "\n",
        "# create a sequential model object\n",
        "model.add(Dense(7,activation='softmax'))\n",
        "\n",
        "#Complie the model\n",
        "model.compile(loss='sparse_categorical_crossentropy',  # Use sparse categorical cross-entropy as the loss function\n",
        "              optimizer=Adam(learning_rate=0.005),  # Use Adam optimizer with learning rate of 0.005\n",
        "              metrics=['accuracy'])  # Track accuracy as the evaluation metric"
      ],
      "metadata": {
        "id": "KroMhGy1WYx0"
      },
      "execution_count": null,
      "outputs": []
    },
    {
      "cell_type": "code",
      "source": [
        "# Train the ANN model on the training data for 100 epochs, with a 32 batch size\n",
        "# Print the training log information for each epoch (verbose=2)\n",
        "history = model.fit(X_train, Y_train, epochs=100, batch_size=32, verbose=2,validation_data=(X_test,Y_test))\n",
        "\n",
        "print(\"********************************************************\")\n",
        "\n",
        "# Use the trained model to make predictions on the testing dataset and calculate the accuracy of testing dataset\n",
        "y_pred = model.predict(X_test)  # Get predicted class probabilities of the testing dataset\n",
        "Y_pred = y_pred.argmax(axis=-1) # Convert above probabilities to class labels\n",
        "test_Accuracy = accuracy_score(Y_test,Y_pred)  # Calculate accuracy of predicted labels compared to actual labels\n",
        "print(\"Testing ANN Accuracy: \",test_Accuracy)  # Print the testing accuracy\n",
        "\n",
        "# Use the trained model to make predictions on the training dataset and calculate the accuracy of training dataset\n",
        "y_pred = model.predict(X_train)   # Get predicted class probabilities of the training dataset\n",
        "Y_pred = y_pred.argmax(axis=-1)   # Convert above probabilities to class labels\n",
        "train_Accuracy = accuracy_score(Y_train,Y_pred)  # Calculate accuracy of predicted labels compared to actual labels\n",
        "print(\"Training ANN Accuracy: \",train_Accuracy)  # Print the testing accuracy"
      ],
      "metadata": {
        "id": "Js2Fzt-KWZfW"
      },
      "execution_count": null,
      "outputs": []
    },
    {
      "cell_type": "code",
      "source": [],
      "metadata": {
        "id": "zob2PAtAWf83"
      },
      "execution_count": null,
      "outputs": []
    },
    {
      "cell_type": "code",
      "source": [],
      "metadata": {
        "id": "z10jUHR7XzH0"
      },
      "execution_count": null,
      "outputs": []
    },
    {
      "cell_type": "code",
      "source": [
        "# create a sequential model object\n",
        "model = Sequential()   \n",
        "\n",
        "# add a dense layer with 100 units, ReLU activation function, and input dimension of 16 to the model\n",
        "model.add(Dense(100,activation='relu',input_dim=16))\n",
        "model.add(Dropout(0.2))\n",
        "model.add(Dense(75,activation='relu'))\n",
        "# create a sequential model object\n",
        "model.add(Dropout(0.2))\n",
        "model.add(Dense(50,activation='relu'))\n",
        "\n",
        "# create a sequential model object\n",
        "model.add(Dense(7,activation='softmax'))\n",
        "\n",
        "#Complie the model\n",
        "model.compile(loss='sparse_categorical_crossentropy',  # Use sparse categorical cross-entropy as the loss function\n",
        "              optimizer=Adam(learning_rate=0.001),  # Use Adam optimizer with learning rate of 0.001\n",
        "              metrics=['accuracy'])  # Track accuracy as the evaluation metric"
      ],
      "metadata": {
        "id": "9lLBszMJXzKZ"
      },
      "execution_count": null,
      "outputs": []
    },
    {
      "cell_type": "code",
      "source": [
        "# Train the ANN model on the training data for 100 epochs, with a 32 batch size\n",
        "# Print the training log information for each epoch (verbose=2)\n",
        "history = model.fit(X_train, Y_train, epochs=200, batch_size=32, verbose=2,validation_data=(X_test,Y_test))\n",
        "\n",
        "print(\"********************************************************\")\n",
        "\n",
        "# Use the trained model to make predictions on the testing dataset and calculate the accuracy of testing dataset\n",
        "y_pred = model.predict(X_test)  # Get predicted class probabilities of the testing dataset\n",
        "Y_pred = y_pred.argmax(axis=-1) # Convert above probabilities to class labels\n",
        "test_Accuracy = accuracy_score(Y_test,Y_pred)  # Calculate accuracy of predicted labels compared to actual labels\n",
        "print(\"Testing ANN Accuracy: \",test_Accuracy)  # Print the testing accuracy\n",
        "\n",
        "# Use the trained model to make predictions on the training dataset and calculate the accuracy of training dataset\n",
        "y_pred = model.predict(X_train)   # Get predicted class probabilities of the training dataset\n",
        "Y_pred = y_pred.argmax(axis=-1)   # Convert above probabilities to class labels\n",
        "train_Accuracy = accuracy_score(Y_train,Y_pred)  # Calculate accuracy of predicted labels compared to actual labels\n",
        "print(\"Training ANN Accuracy: \",train_Accuracy)  # Print the testing accuracy"
      ],
      "metadata": {
        "id": "SglKnz-5XzNC"
      },
      "execution_count": null,
      "outputs": []
    },
    {
      "cell_type": "code",
      "source": [],
      "metadata": {
        "id": "ltuDMZFcX7GK"
      },
      "execution_count": null,
      "outputs": []
    }
  ],
  "metadata": {
    "colab": {
      "provenance": []
    },
    "kernelspec": {
      "display_name": "Python 3",
      "name": "python3"
    },
    "language_info": {
      "name": "python"
    }
  },
  "nbformat": 4,
  "nbformat_minor": 0
}